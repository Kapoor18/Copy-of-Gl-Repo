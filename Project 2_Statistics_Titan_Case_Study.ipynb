{
 "cells": [
  {
   "cell_type": "code",
   "execution_count": 97,
   "metadata": {},
   "outputs": [],
   "source": [
    "import pandas as pd\n",
    "import numpy as np\n",
    "from math import sqrt\n",
    "import os\n",
    "import statistics\n",
    "from scipy import stats\n",
    "import matplotlib.pyplot as plt\n",
    "from scipy.stats import ttest_rel"
   ]
  },
  {
   "cell_type": "code",
   "execution_count": 90,
   "metadata": {},
   "outputs": [],
   "source": [
    "df_titan= pd.read_csv(\"Titan.csv\")"
   ]
  },
  {
   "cell_type": "markdown",
   "metadata": {},
   "source": [
    "##Question 1:- find the mean of old scheme and new scheme column."
   ]
  },
  {
   "cell_type": "code",
   "execution_count": 91,
   "metadata": {},
   "outputs": [
    {
     "name": "stdout",
     "output_type": "stream",
     "text": [
      "68033.33333333333\n"
     ]
    }
   ],
   "source": [
    "μ1= df_titan['Old Scheme (in thousands)'].mean()\n",
    "print(μ1)"
   ]
  },
  {
   "cell_type": "code",
   "execution_count": 92,
   "metadata": {},
   "outputs": [
    {
     "name": "stdout",
     "output_type": "stream",
     "text": [
      "72033.33333333333\n"
     ]
    }
   ],
   "source": [
    "μ2= df_titan['New Scheme (in thousands)'].mean()\n",
    "print(μ2)"
   ]
  },
  {
   "cell_type": "markdown",
   "metadata": {},
   "source": [
    "# Check for Normality of the Differnce"
   ]
  },
  {
   "cell_type": "code",
   "execution_count": 93,
   "metadata": {},
   "outputs": [],
   "source": [
    "df_titan['diff_schemes']=df_titan['New Scheme (in thousands)']-df_titan['Old Scheme (in thousands)']"
   ]
  },
  {
   "cell_type": "code",
   "execution_count": 94,
   "metadata": {},
   "outputs": [
    {
     "data": {
      "text/plain": [
       "<matplotlib.axes._subplots.AxesSubplot at 0xe98c410>"
      ]
     },
     "execution_count": 94,
     "metadata": {},
     "output_type": "execute_result"
    },
    {
     "data": {
      "image/png": "[encoded data removed]",
      "text/plain": [
       "<Figure size 432x288 with 1 Axes>"
      ]
     },
     "metadata": {},
     "output_type": "display_data"
    }
   ],
   "source": [
    "df_titan['diff_schemes'].plot(kind='hist', title= 'Sales difference')"
   ]
  },
  {
   "cell_type": "code",
   "execution_count": 95,
   "metadata": {},
   "outputs": [
    {
     "name": "stdout",
     "output_type": "stream",
     "text": [
      "P value is :- 0.08894602954387665\n"
     ]
    }
   ],
   "source": [
    "from scipy.stats import shapiro\n",
    "stats,pv=shapiro(df_titan['diff_schemes'])\n",
    "print(\"P value is :-\",pv)"
   ]
  },
  {
   "cell_type": "markdown",
   "metadata": {},
   "source": [
    "# Since p value > 0.05 (that is alpha), we can accept that the Difference in the Sales value is normally distributed."
   ]
  },
  {
   "cell_type": "markdown",
   "metadata": {},
   "source": [
    "##Quesion 2:- Use the five percent significance test over the data to determine the p value to check new scheme has significantly raised outputs?"
   ]
  },
  {
   "cell_type": "code",
   "execution_count": 98,
   "metadata": {},
   "outputs": [
    {
     "name": "stdout",
     "output_type": "stream",
     "text": [
      "P value for one tailed t test is:-  0.06528776980668831\n",
      "Value of t statistics:- -1.5559143823544377\n"
     ]
    }
   ],
   "source": [
    "##Assumptions are :-\n",
    "## Null Hypothesis-       New Scheme has not changed sale. μ2 – μ1 = 0 \n",
    "## Alternate Hypothesis:- New Scheme has changed the sales significantly. μ2 – μ1 > 0\n",
    "##μ1 = Average sums assured by salesperson before changeover. μ2 = Average sums assured by salesperson after changeover.\n",
    "\n",
    "N = len(df_titan['Old Scheme (in thousands)']) #this is the sample size \n",
    "df = N-1\n",
    "alpha=0.05            ##significance level\n",
    "tstats,pval = stats.ttest_rel(df_titan['Old Scheme (in thousands)'], df_titan['New Scheme (in thousands)'])\n",
    "oneTailed_pval=pval/2\n",
    "print(\"P value for one tailed t test is:- \",oneTailed_pval)\n",
    "print(\"Value of t statistics:-\",tstats)\n"
   ]
  },
  {
   "cell_type": "code",
   "execution_count": null,
   "metadata": {},
   "outputs": [],
   "source": []
  },
  {
   "cell_type": "code",
   "execution_count": 99,
   "metadata": {},
   "outputs": [
    {
     "name": "stdout",
     "output_type": "stream",
     "text": [
      "Fail to reject null hypothesis. New Scheme has might not changed sale.\n"
     ]
    }
   ],
   "source": [
    "if oneTailed_pval<0.05:\n",
    "    print(\"Reject null hypothesis. Accept Alternate New Scheme has changed the sales significantly\")\n",
    "else:\n",
    "    print(\"Fail to reject null hypothesis. New Scheme has might not changed sale.\")"
   ]
  },
  {
   "cell_type": "markdown",
   "metadata": {},
   "source": [
    "# Ques 3:- What conclusion does the test (p-value) lead to?"
   ]
  },
  {
   "cell_type": "code",
   "execution_count": 100,
   "metadata": {},
   "outputs": [
    {
     "name": "stdout",
     "output_type": "stream",
     "text": [
      "The p-value for one tail, that is , the assumpttion that there is a significant increase of output with new scheme, is 0.065. P value is more than the decided threshold(5%). Hence, we may reject the hypothesis that the new scheme has increased output significantly.\n"
     ]
    }
   ],
   "source": [
    "print(\"The p-value for one tail, that is , the assumpttion that there is a significant increase of output with new scheme, is 0.065. P value is more than the decided threshold(5%). Hence, we may reject the hypothesis that the new scheme has increased output significantly.\") "
   ]
  },
  {
   "cell_type": "markdown",
   "metadata": {},
   "source": [
    "##Ques 4:- Suppose it has been calculated that in order for Titan to break even, the average output must increase by £5000 in the scheme compared to the old scheme. If this figure is alternative hypothesis, what is:\n",
    "        ##a) The probability of a type 1 error? \n",
    "\n",
    "        ##b) What is the p- value of the hypothesis test if we test for a difference of $5000? \n",
    "\n",
    "        ##c) Power of the test"
   ]
  },
  {
   "cell_type": "code",
   "execution_count": 101,
   "metadata": {},
   "outputs": [
    {
     "name": "stdout",
     "output_type": "stream",
     "text": [
      "When the null hypothesis is true and you reject it, you make a type I error. The probability of making a type I error is α= 0.05.\n"
     ]
    }
   ],
   "source": [
    "##a) The probability of a type 1 error?\n",
    "print(\"When the null hypothesis is true and you reject it, you make a type I error. The probability of making a type I error is α= 0.05.\")"
   ]
  },
  {
   "cell_type": "code",
   "execution_count": 102,
   "metadata": {},
   "outputs": [],
   "source": [
    "##b) What is the p- value of the hypothesis test if we test for a difference of $5000?"
   ]
  },
  {
   "cell_type": "code",
   "execution_count": 103,
   "metadata": {},
   "outputs": [
    {
     "name": "stdout",
     "output_type": "stream",
     "text": [
      "Mean of Difference in sales is:- 4000.0\n",
      "14081.046199376151\n",
      "Value of t stats -0.38897859558860937\n",
      "P value is  0.6499332543693357\n"
     ]
    }
   ],
   "source": [
    "## Null Hypothesis, H0:-       Average sums assured by salesperson before changeover did not chnaged by £5000. μ2-μ1 <= £5000\n",
    "## Alternate Hypothesis, H1 :- Average sums assured by salesperson after changeover. μ2-μ1 > £5000\n",
    "from scipy.stats import ttest_1samp \n",
    "mean_of_diff=df_titan['diff_schemes'].mean()\n",
    "print(\"Mean of Difference in sales is:-\",mean_of_diff)\n",
    "std_diff=df_titan['diff_schemes'].std()\n",
    "print(std_diff)\n",
    "diff_of_sales_se = std_diff/sqrt(30)\n",
    "tstat = ( mean_of_diff- 5000)/diff_of_sales_se\n",
    "print(\"Value of t stats\",tstat)\n",
    "p_value = 1- stats.t.cdf(tstat, df=29)\n",
    "#t_statistics,p_value= ttest_1samp(df_titan['diff_schemes'],0)\n",
    "print(\"P value is \",p_value)\n",
    "#print(t_statistics)"
   ]
  },
  {
   "cell_type": "code",
   "execution_count": 104,
   "metadata": {},
   "outputs": [],
   "source": [
    "##c Power of the test "
   ]
  },
  {
   "cell_type": "code",
   "execution_count": 105,
   "metadata": {
    "scrolled": true
   },
   "outputs": [
    {
     "name": "stdout",
     "output_type": "stream",
     "text": [
      "Critical Value of T is 1.6991270265334972\n"
     ]
    }
   ],
   "source": [
    "p = 1- alpha\n",
    "value = stats.t.ppf(p, df)\n",
    "print('Critical Value of T is',value)"
   ]
  },
  {
   "cell_type": "code",
   "execution_count": 106,
   "metadata": {},
   "outputs": [
    {
     "name": "stdout",
     "output_type": "stream",
     "text": [
      "4368.176156228719\n",
      "-0.2457659514095497\n",
      "Power of Test is 0.40379725247943166\n"
     ]
    }
   ],
   "source": [
    "μ0 = 0\n",
    "μd = 5000\n",
    "SE = statistics.stdev(df_titan['diff_schemes'])/sqrt(N)\n",
    "xbar = μ0 + value*SE\n",
    "print(xbar)\n",
    "t_stat = (xbar-μd)/SE\n",
    "print(t_stat)\n",
    "p_value =1- (stats.t.cdf(t_stat,df=df))\n",
    "beta= 1-p_value\n",
    "print('Power of Test is',beta)"
   ]
  },
  {
   "cell_type": "code",
   "execution_count": null,
   "metadata": {},
   "outputs": [],
   "source": []
  },
  {
   "cell_type": "code",
   "execution_count": null,
   "metadata": {},
   "outputs": [],
   "source": []
  }
 ],
 "metadata": {
  "kernelspec": {
   "display_name": "Python 3",
   "language": "python",
   "name": "python3"
  },
  "language_info": {
   "codemirror_mode": {
    "name": "ipython",
    "version": 3
   },
   "file_extension": ".py",
   "mimetype": "text/x-python",
   "name": "python",
   "nbconvert_exporter": "python",
   "pygments_lexer": "ipython3",
   "version": "3.6.5"
  }
 },
 "nbformat": 4,
 "nbformat_minor": 2
}
