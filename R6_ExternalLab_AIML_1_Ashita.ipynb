{
  "nbformat": 4,
  "nbformat_minor": 0,
  "metadata": {
    "colab": {
      "name": "R6_ExternalLab_AIML-1_Ashita.ipynb",
      "provenance": []
    },
    "kernelspec": {
      "display_name": "Python 2",
      "language": "python",
      "name": "python2"
    }
  },
  "cells": [
    {
      "cell_type": "markdown",
      "metadata": {
        "id": "YYk8NG3yOIT9",
        "colab_type": "text"
      },
      "source": [
        "### A MNIST-like fashion product database\n",
        "\n",
        "In this, we classify the images into respective classes given in the dataset. We use a Neural Net and a Deep Neural Net in Keras to solve this and check the accuracy scores."
      ]
    },
    {
      "cell_type": "markdown",
      "metadata": {
        "id": "tFO6PuxzOIT_",
        "colab_type": "text"
      },
      "source": [
        "### Load tensorflow"
      ]
    },
    {
      "cell_type": "code",
      "metadata": {
        "id": "ICvkaJnbpH5W",
        "colab_type": "code",
        "outputId": "0dd82d46-2fad-495f-e0ec-c171892f5e1e",
        "colab": {
          "base_uri": "https://localhost:8080/",
          "height": 1000
        }
      },
      "source": [
        "!pip install tensorflow==2.0        ## For changing the version of the tensorflow"
      ],
      "execution_count": 1,
      "outputs": [
        {
          "output_type": "stream",
          "text": [
            "Collecting tensorflow==2.0\n",
            "\u001b[?25l  Downloading https://files.pythonhosted.org/packages/17/08/1ff15637a03b1565dd6cb0916b3ca6873db3a1fc69be0ed851be936e5633/tensorflow-2.0.0-cp27-cp27mu-manylinux2010_x86_64.whl (86.3MB)\n",
            "\u001b[K     |████████████████████████████████| 86.3MB 54kB/s \n",
            "\u001b[?25hRequirement already satisfied: gast==0.2.2 in /usr/local/lib/python2.7/dist-packages (from tensorflow==2.0) (0.2.2)\n",
            "Requirement already satisfied: grpcio>=1.8.6 in /usr/local/lib/python2.7/dist-packages (from tensorflow==2.0) (1.15.0)\n",
            "Requirement already satisfied: numpy<2.0,>=1.16.0 in /usr/local/lib/python2.7/dist-packages (from tensorflow==2.0) (1.16.4)\n",
            "Collecting tensorboard<2.1.0,>=2.0.0\n",
            "\u001b[?25l  Downloading https://files.pythonhosted.org/packages/a7/3d/993131c622ae34f9401a81526853f2310a4834bd042420a7982fb5bc5fd0/tensorboard-2.0.2-py2-none-any.whl (3.8MB)\n",
            "\u001b[K     |████████████████████████████████| 3.8MB 57.8MB/s \n",
            "\u001b[?25hRequirement already satisfied: mock>=2.0.0 in /usr/local/lib/python2.7/dist-packages (from tensorflow==2.0) (2.0.0)\n",
            "Requirement already satisfied: wrapt>=1.11.1 in /usr/local/lib/python2.7/dist-packages (from tensorflow==2.0) (1.11.2)\n",
            "Requirement already satisfied: protobuf>=3.6.1 in /usr/local/lib/python2.7/dist-packages (from tensorflow==2.0) (3.7.1)\n",
            "Requirement already satisfied: keras-preprocessing>=1.0.5 in /usr/local/lib/python2.7/dist-packages (from tensorflow==2.0) (1.1.0)\n",
            "Requirement already satisfied: backports.weakref>=1.0rc1; python_version < \"3.4\" in /usr/local/lib/python2.7/dist-packages (from tensorflow==2.0) (1.0.post1)\n",
            "Requirement already satisfied: keras-applications>=1.0.8 in /usr/local/lib/python2.7/dist-packages (from tensorflow==2.0) (1.0.8)\n",
            "Requirement already satisfied: wheel in /usr/local/lib/python2.7/dist-packages (from tensorflow==2.0) (0.34.2)\n",
            "Requirement already satisfied: functools32>=3.2.3 in /usr/local/lib/python2.7/dist-packages (from tensorflow==2.0) (3.2.3.post2)\n",
            "Requirement already satisfied: six>=1.10.0 in /usr/local/lib/python2.7/dist-packages (from tensorflow==2.0) (1.12.0)\n",
            "Requirement already satisfied: absl-py>=0.7.0 in /usr/local/lib/python2.7/dist-packages (from tensorflow==2.0) (0.7.1)\n",
            "Requirement already satisfied: opt-einsum>=2.3.2 in /usr/local/lib/python2.7/dist-packages (from tensorflow==2.0) (2.3.2)\n",
            "Requirement already satisfied: termcolor>=1.1.0 in /usr/local/lib/python2.7/dist-packages (from tensorflow==2.0) (1.1.0)\n",
            "Requirement already satisfied: google-pasta>=0.1.6 in /usr/local/lib/python2.7/dist-packages (from tensorflow==2.0) (0.1.7)\n",
            "Requirement already satisfied: enum34>=1.1.6; python_version < \"3.4\" in /usr/local/lib/python2.7/dist-packages (from tensorflow==2.0) (1.1.6)\n",
            "Collecting tensorflow-estimator<2.1.0,>=2.0.0\n",
            "\u001b[?25l  Downloading https://files.pythonhosted.org/packages/fc/08/8b927337b7019c374719145d1dceba21a8bb909b93b1ad6f8fb7d22c1ca1/tensorflow_estimator-2.0.1-py2.py3-none-any.whl (449kB)\n",
            "\u001b[K     |████████████████████████████████| 450kB 49.5MB/s \n",
            "\u001b[?25hRequirement already satisfied: astor>=0.6.0 in /usr/local/lib/python2.7/dist-packages (from tensorflow==2.0) (0.8.0)\n",
            "Requirement already satisfied: futures>=2.2.0 in /usr/local/lib/python2.7/dist-packages (from grpcio>=1.8.6->tensorflow==2.0) (3.2.0)\n",
            "Requirement already satisfied: setuptools>=41.0.0 in /usr/local/lib/python2.7/dist-packages (from tensorboard<2.1.0,>=2.0.0->tensorflow==2.0) (44.0.0)\n",
            "Collecting google-auth-oauthlib<0.5,>=0.4.1\n",
            "  Downloading https://files.pythonhosted.org/packages/7b/b8/88def36e74bee9fce511c9519571f4e485e890093ab7442284f4ffaef60b/google_auth_oauthlib-0.4.1-py2.py3-none-any.whl\n",
            "Requirement already satisfied: werkzeug>=0.11.15 in /usr/local/lib/python2.7/dist-packages (from tensorboard<2.1.0,>=2.0.0->tensorflow==2.0) (0.15.5)\n",
            "Requirement already satisfied: google-auth<2,>=1.6.3 in /usr/local/lib/python2.7/dist-packages (from tensorboard<2.1.0,>=2.0.0->tensorflow==2.0) (1.7.2)\n",
            "Requirement already satisfied: requests<3,>=2.21.0 in /usr/local/lib/python2.7/dist-packages (from tensorboard<2.1.0,>=2.0.0->tensorflow==2.0) (2.21.0)\n",
            "Requirement already satisfied: markdown>=2.6.8 in /usr/local/lib/python2.7/dist-packages (from tensorboard<2.1.0,>=2.0.0->tensorflow==2.0) (3.1.1)\n",
            "Requirement already satisfied: funcsigs>=1; python_version < \"3.3\" in /usr/local/lib/python2.7/dist-packages (from mock>=2.0.0->tensorflow==2.0) (1.0.2)\n",
            "Requirement already satisfied: pbr>=0.11 in /usr/local/lib/python2.7/dist-packages (from mock>=2.0.0->tensorflow==2.0) (5.4.0)\n",
            "Requirement already satisfied: h5py in /usr/local/lib/python2.7/dist-packages (from keras-applications>=1.0.8->tensorflow==2.0) (2.8.0)\n",
            "Requirement already satisfied: requests-oauthlib>=0.7.0 in /usr/local/lib/python2.7/dist-packages (from google-auth-oauthlib<0.5,>=0.4.1->tensorboard<2.1.0,>=2.0.0->tensorflow==2.0) (1.2.0)\n",
            "Requirement already satisfied: pyasn1-modules>=0.2.1 in /usr/local/lib/python2.7/dist-packages (from google-auth<2,>=1.6.3->tensorboard<2.1.0,>=2.0.0->tensorflow==2.0) (0.2.5)\n",
            "Requirement already satisfied: cachetools<3.2,>=2.0.0 in /usr/local/lib/python2.7/dist-packages (from google-auth<2,>=1.6.3->tensorboard<2.1.0,>=2.0.0->tensorflow==2.0) (3.1.1)\n",
            "Requirement already satisfied: rsa<4.1,>=3.1.4 in /usr/local/lib/python2.7/dist-packages (from google-auth<2,>=1.6.3->tensorboard<2.1.0,>=2.0.0->tensorflow==2.0) (4.0)\n",
            "Requirement already satisfied: urllib3<1.25,>=1.21.1 in /usr/local/lib/python2.7/dist-packages (from requests<3,>=2.21.0->tensorboard<2.1.0,>=2.0.0->tensorflow==2.0) (1.24.3)\n",
            "Requirement already satisfied: certifi>=2017.4.17 in /usr/local/lib/python2.7/dist-packages (from requests<3,>=2.21.0->tensorboard<2.1.0,>=2.0.0->tensorflow==2.0) (2019.6.16)\n",
            "Requirement already satisfied: chardet<3.1.0,>=3.0.2 in /usr/local/lib/python2.7/dist-packages (from requests<3,>=2.21.0->tensorboard<2.1.0,>=2.0.0->tensorflow==2.0) (3.0.4)\n",
            "Requirement already satisfied: idna<2.9,>=2.5 in /usr/local/lib/python2.7/dist-packages (from requests<3,>=2.21.0->tensorboard<2.1.0,>=2.0.0->tensorflow==2.0) (2.8)\n",
            "Requirement already satisfied: oauthlib>=3.0.0 in /usr/local/lib/python2.7/dist-packages (from requests-oauthlib>=0.7.0->google-auth-oauthlib<0.5,>=0.4.1->tensorboard<2.1.0,>=2.0.0->tensorflow==2.0) (3.0.2)\n",
            "Requirement already satisfied: pyasn1<0.5.0,>=0.4.1 in /usr/local/lib/python2.7/dist-packages (from pyasn1-modules>=0.2.1->google-auth<2,>=1.6.3->tensorboard<2.1.0,>=2.0.0->tensorflow==2.0) (0.4.5)\n",
            "\u001b[31mERROR: tensorboard 2.0.2 has requirement grpcio>=1.24.3, but you'll have grpcio 1.15.0 which is incompatible.\u001b[0m\n",
            "Installing collected packages: google-auth-oauthlib, tensorboard, tensorflow-estimator, tensorflow\n",
            "  Found existing installation: google-auth-oauthlib 0.4.0\n",
            "    Uninstalling google-auth-oauthlib-0.4.0:\n",
            "      Successfully uninstalled google-auth-oauthlib-0.4.0\n",
            "  Found existing installation: tensorboard 1.15.0\n",
            "    Uninstalling tensorboard-1.15.0:\n",
            "      Successfully uninstalled tensorboard-1.15.0\n",
            "  Found existing installation: tensorflow-estimator 1.15.0\n",
            "    Uninstalling tensorflow-estimator-1.15.0:\n",
            "      Successfully uninstalled tensorflow-estimator-1.15.0\n",
            "  Found existing installation: tensorflow 1.15.0\n",
            "    Uninstalling tensorflow-1.15.0:\n",
            "      Successfully uninstalled tensorflow-1.15.0\n",
            "Successfully installed google-auth-oauthlib-0.4.1 tensorboard-2.0.2 tensorflow-2.0.0 tensorflow-estimator-2.0.1\n"
          ],
          "name": "stdout"
        }
      ]
    },
    {
      "cell_type": "code",
      "metadata": {
        "id": "1jiznqdjzzYQ",
        "colab_type": "code",
        "colab": {}
      },
      "source": [
        "# Import All necesssary libraries\n",
        "import matplotlib.pyplot as plt\n",
        "%matplotlib inline\n",
        "import tensorflow as tf\n",
        "from keras import optimizers\n",
        "import pandas as pd\n",
        "import numpy as np\n",
        "\n",
        "# Using Tensorflow Keras instead of the original Keras\n"
      ],
      "execution_count": 0,
      "outputs": []
    },
    {
      "cell_type": "code",
      "metadata": {
        "id": "l9C4aAIGOIUH",
        "colab_type": "code",
        "outputId": "5c4cbecf-eece-44f1-8e1e-698cb0cc0c02",
        "colab": {
          "base_uri": "https://localhost:8080/",
          "height": 34
        }
      },
      "source": [
        "tf.__version__"
      ],
      "execution_count": 155,
      "outputs": [
        {
          "output_type": "execute_result",
          "data": {
            "text/plain": [
              "'2.0.0'"
            ]
          },
          "metadata": {
            "tags": []
          },
          "execution_count": 155
        }
      ]
    },
    {
      "cell_type": "markdown",
      "metadata": {
        "id": "HcoZBStrOIUQ",
        "colab_type": "text"
      },
      "source": [
        "### Collect Data"
      ]
    },
    {
      "cell_type": "code",
      "metadata": {
        "id": "XA1WsFSeOIUS",
        "colab_type": "code",
        "colab": {}
      },
      "source": [
        "import keras"
      ],
      "execution_count": 0,
      "outputs": []
    },
    {
      "cell_type": "code",
      "metadata": {
        "id": "qnbx7TyQOIUY",
        "colab_type": "code",
        "colab": {}
      },
      "source": [
        "(trainX, trainY), (testX, testY) = keras.datasets.fashion_mnist.load_data()"
      ],
      "execution_count": 0,
      "outputs": []
    },
    {
      "cell_type": "code",
      "metadata": {
        "id": "UbiHj5YPOIUc",
        "colab_type": "code",
        "outputId": "f41e709b-4b37-4451-9820-c4c453953c1a",
        "colab": {
          "base_uri": "https://localhost:8080/",
          "height": 34
        }
      },
      "source": [
        "print(testY[0:5])"
      ],
      "execution_count": 158,
      "outputs": [
        {
          "output_type": "stream",
          "text": [
            "[9 2 1 1 6]\n"
          ],
          "name": "stdout"
        }
      ]
    },
    {
      "cell_type": "code",
      "metadata": {
        "id": "04eVbQxruIxu",
        "colab_type": "code",
        "outputId": "523d8457-719c-46c1-f8f0-a6340ed7e88f",
        "colab": {
          "base_uri": "https://localhost:8080/",
          "height": 85
        }
      },
      "source": [
        "print(\"Train X shape is\",trainX.shape)\n",
        "print(\"Train Y shape is \", trainY.shape)\n",
        "print(\"Test X shape is \", testX.shape)\n",
        "print(\"Test Y shape is \", testY.shape)"
      ],
      "execution_count": 159,
      "outputs": [
        {
          "output_type": "stream",
          "text": [
            "('Train X shape is', (60000, 28, 28))\n",
            "('Train Y shape is ', (60000,))\n",
            "('Test X shape is ', (10000, 28, 28))\n",
            "('Test Y shape is ', (10000,))\n"
          ],
          "name": "stdout"
        }
      ]
    },
    {
      "cell_type": "markdown",
      "metadata": {
        "id": "lDAYzkwyOIUj",
        "colab_type": "text"
      },
      "source": [
        "### Convert both training and testing labels into one-hot vectors.\n",
        "\n",
        "**Hint:** check **tf.keras.utils.to_categorical()**"
      ]
    },
    {
      "cell_type": "code",
      "metadata": {
        "id": "vBlfYlANOIUk",
        "colab_type": "code",
        "colab": {}
      },
      "source": [
        "trainY= tf.keras.utils.to_categorical(trainY, num_classes= 10)\n",
        "testY= tf.keras.utils.to_categorical(testY, num_classes= 10)"
      ],
      "execution_count": 0,
      "outputs": []
    },
    {
      "cell_type": "code",
      "metadata": {
        "scrolled": true,
        "id": "RHV3b9mzOIUq",
        "colab_type": "code",
        "outputId": "11aa5826-e59c-4b73-a99e-9f767320f885",
        "colab": {
          "base_uri": "https://localhost:8080/",
          "height": 119
        }
      },
      "source": [
        "print(trainY.shape)\n",
        "print('First 5 examples now are: ', trainY[0:5])"
      ],
      "execution_count": 161,
      "outputs": [
        {
          "output_type": "stream",
          "text": [
            "(60000, 10)\n",
            "('First 5 examples now are: ', array([[0., 0., 0., 0., 0., 0., 0., 0., 0., 1.],\n",
            "       [1., 0., 0., 0., 0., 0., 0., 0., 0., 0.],\n",
            "       [1., 0., 0., 0., 0., 0., 0., 0., 0., 0.],\n",
            "       [0., 0., 0., 1., 0., 0., 0., 0., 0., 0.],\n",
            "       [1., 0., 0., 0., 0., 0., 0., 0., 0., 0.]], dtype=float32))\n"
          ],
          "name": "stdout"
        }
      ]
    },
    {
      "cell_type": "markdown",
      "metadata": {
        "id": "FwhQ8e7VOIUw",
        "colab_type": "text"
      },
      "source": [
        "### Visualize the data\n",
        "\n",
        "Plot first 10 images in the triaining set and their labels."
      ]
    },
    {
      "cell_type": "code",
      "metadata": {
        "id": "AvDML2OoOIUx",
        "colab_type": "code",
        "outputId": "6e2f588f-e001-4508-aa67-d3b472205399",
        "colab": {
          "base_uri": "https://localhost:8080/",
          "height": 244
        }
      },
      "source": [
        "plt.figure(figsize=(10,10))\n",
        "for i in range(10):\n",
        "  plt.subplot(5,5,i+1)\n",
        "  plt.xticks([])\n",
        "  plt.yticks([])\n",
        "  plt.imshow(trainX[i], cmap='Greys')\n",
        "\n",
        " "
      ],
      "execution_count": 162,
      "outputs": [
        {
          "output_type": "display_data",
          "data": {
            "image/png": "[encoded data removed]",
            "text/plain": [
              "<Figure size 720x720 with 10 Axes>"
            ]
          },
          "metadata": {
            "tags": []
          }
        }
      ]
    },
    {
      "cell_type": "markdown",
      "metadata": {
        "id": "l4TbJGeSOIU4",
        "colab_type": "text"
      },
      "source": [
        "### Build a neural Network with a cross entropy loss function and sgd optimizer in Keras. The output layer with 10 neurons as we have 10 classes."
      ]
    },
    {
      "cell_type": "code",
      "metadata": {
        "id": "cNCtWaSfHxdq",
        "colab_type": "code",
        "colab": {}
      },
      "source": [
        "#Reshape data from 2D to 1D :- 28*28 = 784\n",
        "trainX=trainX.reshape(trainX.shape[0],784).astype('float32')\n",
        "testX=testX.reshape(testX.shape[0],784).astype('float32')\n",
        "\n",
        "## Convert it in the range of 0-1 so that relu an work on it\n",
        "trainX = trainX / 255.0\n",
        "testX = testX / 255.0                         "
      ],
      "execution_count": 0,
      "outputs": []
    },
    {
      "cell_type": "code",
      "metadata": {
        "colab_type": "code",
        "id": "4S_oSoDINto5",
        "colab": {}
      },
      "source": [
        "# Initialize the constructor\n",
        "\n",
        "model = tf.keras.models.Sequential()\n",
        "\n",
        "# Define model architecture\n",
        "\n",
        "model.add(tf.keras.layers.Dense(784,activation='relu'))\n",
        "model.add(tf.keras.layers.Dense(784,activation='sigmoid'))\n",
        "\n",
        "model.add(tf.keras.layers.Dense(10, activation ='softmax'))\n"
      ],
      "execution_count": 0,
      "outputs": []
    },
    {
      "cell_type": "code",
      "metadata": {
        "colab_type": "code",
        "id": "5F9pqoldNtE5",
        "colab": {}
      },
      "source": [
        "model.compile(loss='categorical_crossentropy',optimizer='sgd',metrics=['accuracy'])"
      ],
      "execution_count": 0,
      "outputs": []
    },
    {
      "cell_type": "code",
      "metadata": {
        "id": "yFnNI5j6G_pH",
        "colab_type": "code",
        "colab": {}
      },
      "source": [
        "epochs = 60\n",
        "batch_size = 10000"
      ],
      "execution_count": 0,
      "outputs": []
    },
    {
      "cell_type": "markdown",
      "metadata": {
        "id": "3hQpLv3aOIU_",
        "colab_type": "text"
      },
      "source": [
        "### Execute the model using model.fit()"
      ]
    },
    {
      "cell_type": "code",
      "metadata": {
        "id": "O59C_-IgOIVB",
        "colab_type": "code",
        "outputId": "d2c6f7f9-f48f-4031-ba36-d5eaa8bf4742",
        "colab": {
          "base_uri": "https://localhost:8080/",
          "height": 1000
        }
      },
      "source": [
        "history= model.fit(trainX, trainY, batch_size=batch_size, epochs=epochs,  validation_split=.1, verbose=True)"
      ],
      "execution_count": 167,
      "outputs": [
        {
          "output_type": "stream",
          "text": [
            "Train on 54000 samples, validate on 6000 samples\n",
            "Epoch 1/60\n",
            "54000/54000 [==============================] - 7s 135us/sample - loss: 2.3762 - accuracy: 0.1045 - val_loss: 2.2920 - val_accuracy: 0.1658\n",
            "Epoch 2/60\n",
            "54000/54000 [==============================] - 7s 128us/sample - loss: 2.2830 - accuracy: 0.1915 - val_loss: 2.2635 - val_accuracy: 0.2343\n",
            "Epoch 3/60\n",
            "54000/54000 [==============================] - 7s 129us/sample - loss: 2.2575 - accuracy: 0.2594 - val_loss: 2.2435 - val_accuracy: 0.3048\n",
            "Epoch 4/60\n",
            "54000/54000 [==============================] - 7s 128us/sample - loss: 2.2372 - accuracy: 0.3321 - val_loss: 2.2236 - val_accuracy: 0.3775\n",
            "Epoch 5/60\n",
            "54000/54000 [==============================] - 7s 128us/sample - loss: 2.2175 - accuracy: 0.4017 - val_loss: 2.2043 - val_accuracy: 0.4438\n",
            "Epoch 6/60\n",
            "54000/54000 [==============================] - 7s 128us/sample - loss: 2.1979 - accuracy: 0.4631 - val_loss: 2.1847 - val_accuracy: 0.4822\n",
            "Epoch 7/60\n",
            "54000/54000 [==============================] - 7s 127us/sample - loss: 2.1787 - accuracy: 0.4950 - val_loss: 2.1653 - val_accuracy: 0.5157\n",
            "Epoch 8/60\n",
            "54000/54000 [==============================] - 7s 128us/sample - loss: 2.1596 - accuracy: 0.5264 - val_loss: 2.1466 - val_accuracy: 0.5458\n",
            "Epoch 9/60\n",
            "54000/54000 [==============================] - 7s 127us/sample - loss: 2.1406 - accuracy: 0.5482 - val_loss: 2.1275 - val_accuracy: 0.5678\n",
            "Epoch 10/60\n",
            "54000/54000 [==============================] - 7s 127us/sample - loss: 2.1217 - accuracy: 0.5687 - val_loss: 2.1089 - val_accuracy: 0.5733\n",
            "Epoch 11/60\n",
            "54000/54000 [==============================] - 7s 128us/sample - loss: 2.1030 - accuracy: 0.5723 - val_loss: 2.0900 - val_accuracy: 0.6015\n",
            "Epoch 12/60\n",
            "54000/54000 [==============================] - 7s 129us/sample - loss: 2.0843 - accuracy: 0.5955 - val_loss: 2.0712 - val_accuracy: 0.6043\n",
            "Epoch 13/60\n",
            "54000/54000 [==============================] - 7s 128us/sample - loss: 2.0657 - accuracy: 0.6025 - val_loss: 2.0529 - val_accuracy: 0.6113\n",
            "Epoch 14/60\n",
            "54000/54000 [==============================] - 7s 126us/sample - loss: 2.0471 - accuracy: 0.6045 - val_loss: 2.0342 - val_accuracy: 0.6208\n",
            "Epoch 15/60\n",
            "54000/54000 [==============================] - 7s 128us/sample - loss: 2.0286 - accuracy: 0.6099 - val_loss: 2.0156 - val_accuracy: 0.6267\n",
            "Epoch 16/60\n",
            "54000/54000 [==============================] - 7s 128us/sample - loss: 2.0101 - accuracy: 0.6196 - val_loss: 1.9974 - val_accuracy: 0.6330\n",
            "Epoch 17/60\n",
            "54000/54000 [==============================] - 7s 129us/sample - loss: 1.9917 - accuracy: 0.6258 - val_loss: 1.9787 - val_accuracy: 0.6292\n",
            "Epoch 18/60\n",
            "54000/54000 [==============================] - 7s 127us/sample - loss: 1.9732 - accuracy: 0.6248 - val_loss: 1.9603 - val_accuracy: 0.6382\n",
            "Epoch 19/60\n",
            "54000/54000 [==============================] - 7s 129us/sample - loss: 1.9548 - accuracy: 0.6329 - val_loss: 1.9421 - val_accuracy: 0.6367\n",
            "Epoch 20/60\n",
            "54000/54000 [==============================] - 7s 129us/sample - loss: 1.9365 - accuracy: 0.6322 - val_loss: 1.9237 - val_accuracy: 0.6447\n",
            "Epoch 21/60\n",
            "54000/54000 [==============================] - 7s 130us/sample - loss: 1.9182 - accuracy: 0.6377 - val_loss: 1.9054 - val_accuracy: 0.6443\n",
            "Epoch 22/60\n",
            "54000/54000 [==============================] - 7s 129us/sample - loss: 1.9000 - accuracy: 0.6389 - val_loss: 1.8872 - val_accuracy: 0.6453\n",
            "Epoch 23/60\n",
            "54000/54000 [==============================] - 7s 127us/sample - loss: 1.8818 - accuracy: 0.6421 - val_loss: 1.8691 - val_accuracy: 0.6393\n",
            "Epoch 24/60\n",
            "54000/54000 [==============================] - 7s 132us/sample - loss: 1.8637 - accuracy: 0.6374 - val_loss: 1.8509 - val_accuracy: 0.6500\n",
            "Epoch 25/60\n",
            "54000/54000 [==============================] - 7s 128us/sample - loss: 1.8457 - accuracy: 0.6429 - val_loss: 1.8328 - val_accuracy: 0.6560\n",
            "Epoch 26/60\n",
            "54000/54000 [==============================] - 7s 129us/sample - loss: 1.8277 - accuracy: 0.6466 - val_loss: 1.8149 - val_accuracy: 0.6587\n",
            "Epoch 27/60\n",
            "54000/54000 [==============================] - 7s 129us/sample - loss: 1.8099 - accuracy: 0.6492 - val_loss: 1.7972 - val_accuracy: 0.6590\n",
            "Epoch 28/60\n",
            "54000/54000 [==============================] - 7s 128us/sample - loss: 1.7922 - accuracy: 0.6495 - val_loss: 1.7796 - val_accuracy: 0.6568\n",
            "Epoch 29/60\n",
            "54000/54000 [==============================] - 7s 129us/sample - loss: 1.7745 - accuracy: 0.6495 - val_loss: 1.7620 - val_accuracy: 0.6572\n",
            "Epoch 30/60\n",
            "54000/54000 [==============================] - 7s 128us/sample - loss: 1.7571 - accuracy: 0.6494 - val_loss: 1.7445 - val_accuracy: 0.6590\n",
            "Epoch 31/60\n",
            "54000/54000 [==============================] - 7s 127us/sample - loss: 1.7398 - accuracy: 0.6519 - val_loss: 1.7272 - val_accuracy: 0.6600\n",
            "Epoch 32/60\n",
            "54000/54000 [==============================] - 7s 128us/sample - loss: 1.7226 - accuracy: 0.6528 - val_loss: 1.7101 - val_accuracy: 0.6600\n",
            "Epoch 33/60\n",
            "54000/54000 [==============================] - 7s 129us/sample - loss: 1.7057 - accuracy: 0.6505 - val_loss: 1.6931 - val_accuracy: 0.6648\n",
            "Epoch 34/60\n",
            "54000/54000 [==============================] - 7s 129us/sample - loss: 1.6889 - accuracy: 0.6570 - val_loss: 1.6763 - val_accuracy: 0.6680\n",
            "Epoch 35/60\n",
            "54000/54000 [==============================] - 7s 129us/sample - loss: 1.6723 - accuracy: 0.6573 - val_loss: 1.6601 - val_accuracy: 0.6600\n",
            "Epoch 36/60\n",
            "54000/54000 [==============================] - 7s 131us/sample - loss: 1.6559 - accuracy: 0.6569 - val_loss: 1.6434 - val_accuracy: 0.6685\n",
            "Epoch 37/60\n",
            "54000/54000 [==============================] - 7s 130us/sample - loss: 1.6397 - accuracy: 0.6593 - val_loss: 1.6273 - val_accuracy: 0.6677\n",
            "Epoch 38/60\n",
            "54000/54000 [==============================] - 7s 129us/sample - loss: 1.6238 - accuracy: 0.6571 - val_loss: 1.6113 - val_accuracy: 0.6682\n",
            "Epoch 39/60\n",
            "54000/54000 [==============================] - 7s 130us/sample - loss: 1.6080 - accuracy: 0.6596 - val_loss: 1.5956 - val_accuracy: 0.6670\n",
            "Epoch 40/60\n",
            "54000/54000 [==============================] - 7s 128us/sample - loss: 1.5925 - accuracy: 0.6625 - val_loss: 1.5804 - val_accuracy: 0.6618\n",
            "Epoch 41/60\n",
            "54000/54000 [==============================] - 7s 129us/sample - loss: 1.5772 - accuracy: 0.6600 - val_loss: 1.5650 - val_accuracy: 0.6617\n",
            "Epoch 42/60\n",
            "54000/54000 [==============================] - 7s 129us/sample - loss: 1.5621 - accuracy: 0.6598 - val_loss: 1.5501 - val_accuracy: 0.6657\n",
            "Epoch 43/60\n",
            "54000/54000 [==============================] - 7s 129us/sample - loss: 1.5473 - accuracy: 0.6625 - val_loss: 1.5352 - val_accuracy: 0.6710\n",
            "Epoch 44/60\n",
            "54000/54000 [==============================] - 7s 128us/sample - loss: 1.5328 - accuracy: 0.6629 - val_loss: 1.5206 - val_accuracy: 0.6792\n",
            "Epoch 45/60\n",
            "54000/54000 [==============================] - 7s 133us/sample - loss: 1.5185 - accuracy: 0.6693 - val_loss: 1.5065 - val_accuracy: 0.6750\n",
            "Epoch 46/60\n",
            "54000/54000 [==============================] - 7s 128us/sample - loss: 1.5044 - accuracy: 0.6654 - val_loss: 1.4924 - val_accuracy: 0.6818\n",
            "Epoch 47/60\n",
            "54000/54000 [==============================] - 7s 129us/sample - loss: 1.4906 - accuracy: 0.6716 - val_loss: 1.4786 - val_accuracy: 0.6807\n",
            "Epoch 48/60\n",
            "54000/54000 [==============================] - 7s 127us/sample - loss: 1.4771 - accuracy: 0.6725 - val_loss: 1.4653 - val_accuracy: 0.6808\n",
            "Epoch 49/60\n",
            "54000/54000 [==============================] - 7s 127us/sample - loss: 1.4638 - accuracy: 0.6711 - val_loss: 1.4519 - val_accuracy: 0.6817\n",
            "Epoch 50/60\n",
            "54000/54000 [==============================] - 7s 128us/sample - loss: 1.4508 - accuracy: 0.6723 - val_loss: 1.4391 - val_accuracy: 0.6842\n",
            "Epoch 51/60\n",
            "54000/54000 [==============================] - 7s 128us/sample - loss: 1.4380 - accuracy: 0.6728 - val_loss: 1.4262 - val_accuracy: 0.6868\n",
            "Epoch 52/60\n",
            "54000/54000 [==============================] - 7s 127us/sample - loss: 1.4255 - accuracy: 0.6748 - val_loss: 1.4138 - val_accuracy: 0.6867\n",
            "Epoch 53/60\n",
            "54000/54000 [==============================] - 7s 127us/sample - loss: 1.4132 - accuracy: 0.6769 - val_loss: 1.4015 - val_accuracy: 0.6857\n",
            "Epoch 54/60\n",
            "54000/54000 [==============================] - 7s 128us/sample - loss: 1.4012 - accuracy: 0.6751 - val_loss: 1.3895 - val_accuracy: 0.6887\n",
            "Epoch 55/60\n",
            "54000/54000 [==============================] - 7s 127us/sample - loss: 1.3894 - accuracy: 0.6784 - val_loss: 1.3778 - val_accuracy: 0.6877\n",
            "Epoch 56/60\n",
            "54000/54000 [==============================] - 7s 128us/sample - loss: 1.3778 - accuracy: 0.6778 - val_loss: 1.3662 - val_accuracy: 0.6905\n",
            "Epoch 57/60\n",
            "54000/54000 [==============================] - 7s 128us/sample - loss: 1.3665 - accuracy: 0.6806 - val_loss: 1.3549 - val_accuracy: 0.6898\n",
            "Epoch 58/60\n",
            "54000/54000 [==============================] - 7s 129us/sample - loss: 1.3555 - accuracy: 0.6808 - val_loss: 1.3438 - val_accuracy: 0.6892\n",
            "Epoch 59/60\n",
            "54000/54000 [==============================] - 7s 128us/sample - loss: 1.3446 - accuracy: 0.6839 - val_loss: 1.3329 - val_accuracy: 0.6920\n",
            "Epoch 60/60\n",
            "54000/54000 [==============================] - 7s 129us/sample - loss: 1.3339 - accuracy: 0.6843 - val_loss: 1.3225 - val_accuracy: 0.6902\n"
          ],
          "name": "stdout"
        }
      ]
    },
    {
      "cell_type": "code",
      "metadata": {
        "id": "OgcKuljRDHvU",
        "colab_type": "code",
        "outputId": "a41f8f14-57df-486b-acf9-246fa8d7dca5",
        "colab": {
          "base_uri": "https://localhost:8080/",
          "height": 340
        }
      },
      "source": [
        "print(history.history['val_accuracy'])\n",
        "\n",
        "print(history.history['accuracy'])\n",
        "\n",
        "ta = pd.DataFrame(history.history['accuracy'])\n",
        "va = pd.DataFrame(history.history['val_accuracy'])\n",
        "\n",
        "tva = pd.concat([ta,va] , axis=1)\n",
        "\n",
        "tva.boxplot()"
      ],
      "execution_count": 168,
      "outputs": [
        {
          "output_type": "stream",
          "text": [
            "[0.16583334, 0.23433334, 0.30483332, 0.3775, 0.44383332, 0.48216668, 0.51566666, 0.54583335, 0.5678333, 0.5733333, 0.6015, 0.60433334, 0.6113333, 0.62083334, 0.62666667, 0.633, 0.62916666, 0.63816667, 0.63666666, 0.6446667, 0.64433336, 0.64533335, 0.6393333, 0.65, 0.656, 0.6586667, 0.659, 0.65683335, 0.65716666, 0.659, 0.66, 0.66, 0.6648333, 0.668, 0.66, 0.6685, 0.6676667, 0.66816664, 0.667, 0.66183335, 0.6616667, 0.66566664, 0.671, 0.6791667, 0.675, 0.6818333, 0.6806667, 0.68083334, 0.6816667, 0.68416667, 0.6868333, 0.68666667, 0.6856667, 0.68866664, 0.68766665, 0.6905, 0.68983334, 0.68916667, 0.692, 0.69016665]\n",
            "[0.1045, 0.19148149, 0.25944445, 0.33207408, 0.40168518, 0.4630926, 0.49496296, 0.52635187, 0.54818517, 0.5687407, 0.57225925, 0.5955, 0.6024815, 0.604537, 0.60994446, 0.61955553, 0.62575924, 0.62483335, 0.6328704, 0.63218516, 0.63766664, 0.63887036, 0.64207405, 0.6374074, 0.6428518, 0.64655554, 0.6492037, 0.6494815, 0.6495, 0.6494074, 0.65185183, 0.65283334, 0.65051854, 0.657, 0.65727776, 0.6568889, 0.6592963, 0.6571481, 0.65959257, 0.66246295, 0.6600185, 0.6597593, 0.6625185, 0.6629259, 0.6693148, 0.6654074, 0.6715556, 0.672537, 0.67105556, 0.67233336, 0.6728333, 0.6748148, 0.67687035, 0.6750926, 0.6783519, 0.67777777, 0.6806296, 0.68083334, 0.6838704, 0.6842778]\n"
          ],
          "name": "stdout"
        },
        {
          "output_type": "execute_result",
          "data": {
            "text/plain": [
              "<matplotlib.axes._subplots.AxesSubplot at 0x7f934d30c4d0>"
            ]
          },
          "metadata": {
            "tags": []
          },
          "execution_count": 168
        },
        {
          "output_type": "display_data",
          "data": {
            "image/png": "[encoded data removed]",
            "text/plain": [
              "<Figure size 432x288 with 1 Axes>"
            ]
          },
          "metadata": {
            "tags": []
          }
        }
      ]
    },
    {
      "cell_type": "code",
      "metadata": {
        "id": "1lZEAUxx1fZE",
        "colab_type": "code",
        "colab": {
          "base_uri": "https://localhost:8080/",
          "height": 68
        },
        "outputId": "b55dcb22-fe42-4b72-ddc4-bc6beb062a9d"
      },
      "source": [
        "loss, acc = model.evaluate(testX,testY, verbose=2)\n",
        "print('Accuracy: %.3f'  % acc)\n",
        "print('Loss: %.3f' % loss)"
      ],
      "execution_count": 169,
      "outputs": [
        {
          "output_type": "stream",
          "text": [
            "10000/1 - 1s - loss: 1.3172 - accuracy: 0.6814\n",
            "Accuracy: 0.681\n",
            "Loss: 1.331\n"
          ],
          "name": "stdout"
        }
      ]
    },
    {
      "cell_type": "markdown",
      "metadata": {
        "id": "JdzDtGwDOIVF",
        "colab_type": "text"
      },
      "source": [
        "### In the above Neural Network model add Batch Normalization layer after the input layer and repeat the steps."
      ]
    },
    {
      "cell_type": "code",
      "metadata": {
        "id": "kndfpdidOIVI",
        "colab_type": "code",
        "colab": {}
      },
      "source": [
        "# Initialize the constructor again\n",
        "\n",
        "model1 = tf.keras.models.Sequential()\n",
        "\n",
        "## Adding batch normalizer to the above code\n",
        "\n",
        "model1.add(tf.keras.layers.Dense(784,activation='relu'))\n",
        "model1.add(tf.keras.layers.Dense(784,activation='sigmoid'))\n",
        "model1.add(tf.keras.layers.BatchNormalization())\n",
        "model1.add(tf.keras.layers.Dense(10, activation ='softmax'))\n",
        "\n",
        "model1.compile(loss='categorical_crossentropy',optimizer='sgd',metrics=['accuracy'])\n",
        "\n",
        "eopchs=60\n",
        "batch_size=10000"
      ],
      "execution_count": 0,
      "outputs": []
    },
    {
      "cell_type": "markdown",
      "metadata": {
        "id": "mwk3T5LJOIVN",
        "colab_type": "text"
      },
      "source": [
        "### Execute the model"
      ]
    },
    {
      "cell_type": "code",
      "metadata": {
        "id": "JNLR8tcBOIVP",
        "colab_type": "code",
        "outputId": "080ab3ad-ac9d-4267-8fa0-10896a567d95",
        "colab": {
          "base_uri": "https://localhost:8080/",
          "height": 1000
        }
      },
      "source": [
        "history= model1.fit(trainX, trainY, batch_size=batch_size, epochs=epochs,  validation_split=.1, verbose=True)"
      ],
      "execution_count": 174,
      "outputs": [
        {
          "output_type": "stream",
          "text": [
            "Train on 54000 samples, validate on 6000 samples\n",
            "Epoch 1/60\n",
            "54000/54000 [==============================] - 8s 153us/sample - loss: 1.6813 - accuracy: 0.4293 - val_loss: 2.2826 - val_accuracy: 0.1978\n",
            "Epoch 2/60\n",
            "54000/54000 [==============================] - 8s 141us/sample - loss: 0.9722 - accuracy: 0.6745 - val_loss: 2.2316 - val_accuracy: 0.1980\n",
            "Epoch 3/60\n",
            "54000/54000 [==============================] - 8s 141us/sample - loss: 0.8331 - accuracy: 0.7180 - val_loss: 2.1967 - val_accuracy: 0.1978\n",
            "Epoch 4/60\n",
            "54000/54000 [==============================] - 8s 141us/sample - loss: 0.7610 - accuracy: 0.7422 - val_loss: 2.1658 - val_accuracy: 0.1977\n",
            "Epoch 5/60\n",
            "54000/54000 [==============================] - 8s 141us/sample - loss: 0.7143 - accuracy: 0.7573 - val_loss: 2.1383 - val_accuracy: 0.1977\n",
            "Epoch 6/60\n",
            "54000/54000 [==============================] - 8s 142us/sample - loss: 0.6806 - accuracy: 0.7685 - val_loss: 2.1106 - val_accuracy: 0.1987\n",
            "Epoch 7/60\n",
            "54000/54000 [==============================] - 8s 140us/sample - loss: 0.6547 - accuracy: 0.7774 - val_loss: 2.0875 - val_accuracy: 0.2000\n",
            "Epoch 8/60\n",
            "54000/54000 [==============================] - 8s 141us/sample - loss: 0.6340 - accuracy: 0.7849 - val_loss: 2.0639 - val_accuracy: 0.2032\n",
            "Epoch 9/60\n",
            "54000/54000 [==============================] - 8s 142us/sample - loss: 0.6170 - accuracy: 0.7912 - val_loss: 2.0419 - val_accuracy: 0.2093\n",
            "Epoch 10/60\n",
            "54000/54000 [==============================] - 8s 142us/sample - loss: 0.6024 - accuracy: 0.7952 - val_loss: 2.0184 - val_accuracy: 0.2255\n",
            "Epoch 11/60\n",
            "54000/54000 [==============================] - 8s 140us/sample - loss: 0.5902 - accuracy: 0.7998 - val_loss: 1.9974 - val_accuracy: 0.2488\n",
            "Epoch 12/60\n",
            "54000/54000 [==============================] - 8s 142us/sample - loss: 0.5794 - accuracy: 0.8026 - val_loss: 1.9768 - val_accuracy: 0.2750\n",
            "Epoch 13/60\n",
            "54000/54000 [==============================] - 8s 141us/sample - loss: 0.5696 - accuracy: 0.8066 - val_loss: 1.9552 - val_accuracy: 0.3002\n",
            "Epoch 14/60\n",
            "54000/54000 [==============================] - 8s 142us/sample - loss: 0.5613 - accuracy: 0.8090 - val_loss: 1.9345 - val_accuracy: 0.3327\n",
            "Epoch 15/60\n",
            "54000/54000 [==============================] - 8s 141us/sample - loss: 0.5535 - accuracy: 0.8112 - val_loss: 1.9135 - val_accuracy: 0.3627\n",
            "Epoch 16/60\n",
            "54000/54000 [==============================] - 8s 140us/sample - loss: 0.5468 - accuracy: 0.8139 - val_loss: 1.8930 - val_accuracy: 0.3880\n",
            "Epoch 17/60\n",
            "54000/54000 [==============================] - 8s 142us/sample - loss: 0.5405 - accuracy: 0.8156 - val_loss: 1.8715 - val_accuracy: 0.4190\n",
            "Epoch 18/60\n",
            "54000/54000 [==============================] - 8s 141us/sample - loss: 0.5345 - accuracy: 0.8174 - val_loss: 1.8515 - val_accuracy: 0.4472\n",
            "Epoch 19/60\n",
            "54000/54000 [==============================] - 8s 139us/sample - loss: 0.5291 - accuracy: 0.8192 - val_loss: 1.8310 - val_accuracy: 0.4747\n",
            "Epoch 20/60\n",
            "54000/54000 [==============================] - 8s 140us/sample - loss: 0.5242 - accuracy: 0.8206 - val_loss: 1.8098 - val_accuracy: 0.5187\n",
            "Epoch 21/60\n",
            "54000/54000 [==============================] - 8s 141us/sample - loss: 0.5194 - accuracy: 0.8229 - val_loss: 1.7896 - val_accuracy: 0.5360\n",
            "Epoch 22/60\n",
            "54000/54000 [==============================] - 8s 141us/sample - loss: 0.5152 - accuracy: 0.8242 - val_loss: 1.7678 - val_accuracy: 0.5635\n",
            "Epoch 23/60\n",
            "54000/54000 [==============================] - 8s 140us/sample - loss: 0.5110 - accuracy: 0.8254 - val_loss: 1.7471 - val_accuracy: 0.5968\n",
            "Epoch 24/60\n",
            "54000/54000 [==============================] - 8s 140us/sample - loss: 0.5072 - accuracy: 0.8270 - val_loss: 1.7258 - val_accuracy: 0.6185\n",
            "Epoch 25/60\n",
            "54000/54000 [==============================] - 8s 141us/sample - loss: 0.5034 - accuracy: 0.8287 - val_loss: 1.7044 - val_accuracy: 0.6415\n",
            "Epoch 26/60\n",
            "54000/54000 [==============================] - 8s 141us/sample - loss: 0.5001 - accuracy: 0.8299 - val_loss: 1.6829 - val_accuracy: 0.6677\n",
            "Epoch 27/60\n",
            "54000/54000 [==============================] - 8s 139us/sample - loss: 0.4969 - accuracy: 0.8305 - val_loss: 1.6616 - val_accuracy: 0.6763\n",
            "Epoch 28/60\n",
            "54000/54000 [==============================] - 8s 142us/sample - loss: 0.4938 - accuracy: 0.8323 - val_loss: 1.6394 - val_accuracy: 0.6938\n",
            "Epoch 29/60\n",
            "54000/54000 [==============================] - 8s 142us/sample - loss: 0.4909 - accuracy: 0.8324 - val_loss: 1.6174 - val_accuracy: 0.7130\n",
            "Epoch 30/60\n",
            "54000/54000 [==============================] - 8s 142us/sample - loss: 0.4880 - accuracy: 0.8340 - val_loss: 1.5949 - val_accuracy: 0.7217\n",
            "Epoch 31/60\n",
            "54000/54000 [==============================] - 8s 140us/sample - loss: 0.4853 - accuracy: 0.8347 - val_loss: 1.5722 - val_accuracy: 0.7308\n",
            "Epoch 32/60\n",
            "54000/54000 [==============================] - 8s 140us/sample - loss: 0.4828 - accuracy: 0.8357 - val_loss: 1.5493 - val_accuracy: 0.7463\n",
            "Epoch 33/60\n",
            "54000/54000 [==============================] - 8s 143us/sample - loss: 0.4803 - accuracy: 0.8366 - val_loss: 1.5272 - val_accuracy: 0.7557\n",
            "Epoch 34/60\n",
            "54000/54000 [==============================] - 8s 143us/sample - loss: 0.4779 - accuracy: 0.8374 - val_loss: 1.5035 - val_accuracy: 0.7587\n",
            "Epoch 35/60\n",
            "54000/54000 [==============================] - 8s 141us/sample - loss: 0.4756 - accuracy: 0.8383 - val_loss: 1.4800 - val_accuracy: 0.7662\n",
            "Epoch 36/60\n",
            "54000/54000 [==============================] - 8s 141us/sample - loss: 0.4735 - accuracy: 0.8388 - val_loss: 1.4564 - val_accuracy: 0.7735\n",
            "Epoch 37/60\n",
            "54000/54000 [==============================] - 8s 139us/sample - loss: 0.4714 - accuracy: 0.8398 - val_loss: 1.4325 - val_accuracy: 0.7818\n",
            "Epoch 38/60\n",
            "54000/54000 [==============================] - 8s 141us/sample - loss: 0.4692 - accuracy: 0.8402 - val_loss: 1.4095 - val_accuracy: 0.7838\n",
            "Epoch 39/60\n",
            "54000/54000 [==============================] - 8s 139us/sample - loss: 0.4672 - accuracy: 0.8407 - val_loss: 1.3854 - val_accuracy: 0.7910\n",
            "Epoch 40/60\n",
            "54000/54000 [==============================] - 8s 140us/sample - loss: 0.4655 - accuracy: 0.8416 - val_loss: 1.3616 - val_accuracy: 0.7945\n",
            "Epoch 41/60\n",
            "54000/54000 [==============================] - 8s 140us/sample - loss: 0.4635 - accuracy: 0.8423 - val_loss: 1.3376 - val_accuracy: 0.8013\n",
            "Epoch 42/60\n",
            "54000/54000 [==============================] - 8s 141us/sample - loss: 0.4618 - accuracy: 0.8428 - val_loss: 1.3131 - val_accuracy: 0.8037\n",
            "Epoch 43/60\n",
            "54000/54000 [==============================] - 7s 139us/sample - loss: 0.4600 - accuracy: 0.8433 - val_loss: 1.2888 - val_accuracy: 0.8073\n",
            "Epoch 44/60\n",
            "54000/54000 [==============================] - 8s 140us/sample - loss: 0.4584 - accuracy: 0.8435 - val_loss: 1.2649 - val_accuracy: 0.8113\n",
            "Epoch 45/60\n",
            "54000/54000 [==============================] - 8s 139us/sample - loss: 0.4566 - accuracy: 0.8441 - val_loss: 1.2409 - val_accuracy: 0.8150\n",
            "Epoch 46/60\n",
            "54000/54000 [==============================] - 8s 141us/sample - loss: 0.4550 - accuracy: 0.8446 - val_loss: 1.2167 - val_accuracy: 0.8157\n",
            "Epoch 47/60\n",
            "54000/54000 [==============================] - 8s 139us/sample - loss: 0.4535 - accuracy: 0.8449 - val_loss: 1.1932 - val_accuracy: 0.8172\n",
            "Epoch 48/60\n",
            "54000/54000 [==============================] - 8s 140us/sample - loss: 0.4519 - accuracy: 0.8459 - val_loss: 1.1691 - val_accuracy: 0.8223\n",
            "Epoch 49/60\n",
            "54000/54000 [==============================] - 8s 141us/sample - loss: 0.4507 - accuracy: 0.8461 - val_loss: 1.1452 - val_accuracy: 0.8240\n",
            "Epoch 50/60\n",
            "54000/54000 [==============================] - 8s 141us/sample - loss: 0.4491 - accuracy: 0.8469 - val_loss: 1.1208 - val_accuracy: 0.8255\n",
            "Epoch 51/60\n",
            "54000/54000 [==============================] - 8s 140us/sample - loss: 0.4477 - accuracy: 0.8473 - val_loss: 1.0976 - val_accuracy: 0.8272\n",
            "Epoch 52/60\n",
            "54000/54000 [==============================] - 8s 141us/sample - loss: 0.4463 - accuracy: 0.8480 - val_loss: 1.0739 - val_accuracy: 0.8295\n",
            "Epoch 53/60\n",
            "54000/54000 [==============================] - 8s 140us/sample - loss: 0.4448 - accuracy: 0.8488 - val_loss: 1.0514 - val_accuracy: 0.8303\n",
            "Epoch 54/60\n",
            "54000/54000 [==============================] - 8s 142us/sample - loss: 0.4435 - accuracy: 0.8487 - val_loss: 1.0280 - val_accuracy: 0.8320\n",
            "Epoch 55/60\n",
            "54000/54000 [==============================] - 8s 140us/sample - loss: 0.4421 - accuracy: 0.8497 - val_loss: 1.0055 - val_accuracy: 0.8328\n",
            "Epoch 56/60\n",
            "54000/54000 [==============================] - 8s 142us/sample - loss: 0.4409 - accuracy: 0.8499 - val_loss: 0.9833 - val_accuracy: 0.8340\n",
            "Epoch 57/60\n",
            "54000/54000 [==============================] - 8s 142us/sample - loss: 0.4399 - accuracy: 0.8501 - val_loss: 0.9622 - val_accuracy: 0.8352\n",
            "Epoch 58/60\n",
            "54000/54000 [==============================] - 8s 141us/sample - loss: 0.4386 - accuracy: 0.8507 - val_loss: 0.9402 - val_accuracy: 0.8372\n",
            "Epoch 59/60\n",
            "54000/54000 [==============================] - 8s 140us/sample - loss: 0.4373 - accuracy: 0.8509 - val_loss: 0.9193 - val_accuracy: 0.8398\n",
            "Epoch 60/60\n",
            "54000/54000 [==============================] - 8s 141us/sample - loss: 0.4363 - accuracy: 0.8514 - val_loss: 0.8982 - val_accuracy: 0.8390\n"
          ],
          "name": "stdout"
        }
      ]
    },
    {
      "cell_type": "code",
      "metadata": {
        "id": "KoSdGYV_xwbL",
        "colab_type": "code",
        "colab": {
          "base_uri": "https://localhost:8080/",
          "height": 68
        },
        "outputId": "9f577b77-79a1-4444-8221-6fa8651b4b59"
      },
      "source": [
        "loss, accuracy = model1.evaluate(testX,testY, verbose=2)\n",
        "print('Accuracy: %.3f'  % accuracy)\n",
        "print('Loss: %.3f' % loss)"
      ],
      "execution_count": 175,
      "outputs": [
        {
          "output_type": "stream",
          "text": [
            "10000/1 - 2s - loss: 0.8319 - accuracy: 0.8328\n",
            "Accuracy: 0.833\n",
            "Loss: 0.910\n"
          ],
          "name": "stdout"
        }
      ]
    },
    {
      "cell_type": "markdown",
      "metadata": {
        "id": "Py-KwkmjOIVU",
        "colab_type": "text"
      },
      "source": [
        "### Customize the learning rate to 0.001 in sgd optimizer and run the model"
      ]
    },
    {
      "cell_type": "code",
      "metadata": {
        "id": "yLXUE9jWOIVV",
        "colab_type": "code",
        "colab": {}
      },
      "source": [
        "# Initialize the constructor again\n",
        "model2 = tf.keras.models.Sequential()\n",
        "\n",
        "#First layer \n",
        "model2.add(tf.keras.layers.Dense(784,activation='relu'))\n",
        "model.add(tf.keras.layers.Dense(784,activation='sigmoid'))\n",
        "\n",
        "#Normalize the data\n",
        "model2.add(tf.keras.layers.BatchNormalization())\n",
        "\n",
        "#output layer \n",
        "model2.add(tf.keras.layers.Dense(10, activation ='softmax'))\n",
        "\n",
        "sgd = optimizers.SGD(lr=0.001)\n",
        "model2.compile(loss='categorical_crossentropy',optimizer='sgd',metrics=['accuracy'])\n",
        "\n",
        "epochs=60\n",
        "batch_size=10000"
      ],
      "execution_count": 0,
      "outputs": []
    },
    {
      "cell_type": "code",
      "metadata": {
        "id": "pJUqA5T4OIVc",
        "colab_type": "code",
        "outputId": "7faa31e4-763f-4e64-d946-455c36eb5dbc",
        "colab": {
          "base_uri": "https://localhost:8080/",
          "height": 1000
        }
      },
      "source": [
        "history= model2.fit(trainX, trainY, batch_size=batch_size, epochs=epochs,  validation_split=.1, verbose=True)"
      ],
      "execution_count": 178,
      "outputs": [
        {
          "output_type": "stream",
          "text": [
            "Train on 54000 samples, validate on 6000 samples\n",
            "Epoch 1/60\n",
            "54000/54000 [==============================] - 4s 79us/sample - loss: 2.0068 - accuracy: 0.3486 - val_loss: 1.9469 - val_accuracy: 0.3675\n",
            "Epoch 2/60\n",
            "54000/54000 [==============================] - 4s 69us/sample - loss: 1.0574 - accuracy: 0.6586 - val_loss: 1.8185 - val_accuracy: 0.4730\n",
            "Epoch 3/60\n",
            "54000/54000 [==============================] - 4s 69us/sample - loss: 0.8936 - accuracy: 0.7068 - val_loss: 1.7380 - val_accuracy: 0.5313\n",
            "Epoch 4/60\n",
            "54000/54000 [==============================] - 4s 68us/sample - loss: 0.8111 - accuracy: 0.7314 - val_loss: 1.6756 - val_accuracy: 0.5697\n",
            "Epoch 5/60\n",
            "54000/54000 [==============================] - 4s 69us/sample - loss: 0.7572 - accuracy: 0.7482 - val_loss: 1.6201 - val_accuracy: 0.6063\n",
            "Epoch 6/60\n",
            "54000/54000 [==============================] - 4s 69us/sample - loss: 0.7180 - accuracy: 0.7607 - val_loss: 1.5734 - val_accuracy: 0.6303\n",
            "Epoch 7/60\n",
            "54000/54000 [==============================] - 4s 68us/sample - loss: 0.6877 - accuracy: 0.7699 - val_loss: 1.5296 - val_accuracy: 0.6545\n",
            "Epoch 8/60\n",
            "54000/54000 [==============================] - 4s 68us/sample - loss: 0.6631 - accuracy: 0.7779 - val_loss: 1.4898 - val_accuracy: 0.6697\n",
            "Epoch 9/60\n",
            "54000/54000 [==============================] - 4s 69us/sample - loss: 0.6427 - accuracy: 0.7838 - val_loss: 1.4504 - val_accuracy: 0.6910\n",
            "Epoch 10/60\n",
            "54000/54000 [==============================] - 4s 70us/sample - loss: 0.6254 - accuracy: 0.7889 - val_loss: 1.4135 - val_accuracy: 0.7063\n",
            "Epoch 11/60\n",
            "54000/54000 [==============================] - 4s 69us/sample - loss: 0.6099 - accuracy: 0.7941 - val_loss: 1.3781 - val_accuracy: 0.7193\n",
            "Epoch 12/60\n",
            "54000/54000 [==============================] - 4s 68us/sample - loss: 0.5967 - accuracy: 0.7981 - val_loss: 1.3449 - val_accuracy: 0.7272\n",
            "Epoch 13/60\n",
            "54000/54000 [==============================] - 4s 68us/sample - loss: 0.5850 - accuracy: 0.8022 - val_loss: 1.3117 - val_accuracy: 0.7408\n",
            "Epoch 14/60\n",
            "54000/54000 [==============================] - 4s 69us/sample - loss: 0.5746 - accuracy: 0.8055 - val_loss: 1.2804 - val_accuracy: 0.7495\n",
            "Epoch 15/60\n",
            "54000/54000 [==============================] - 4s 68us/sample - loss: 0.5653 - accuracy: 0.8083 - val_loss: 1.2504 - val_accuracy: 0.7553\n",
            "Epoch 16/60\n",
            "54000/54000 [==============================] - 4s 69us/sample - loss: 0.5567 - accuracy: 0.8115 - val_loss: 1.2204 - val_accuracy: 0.7613\n",
            "Epoch 17/60\n",
            "54000/54000 [==============================] - 4s 68us/sample - loss: 0.5490 - accuracy: 0.8141 - val_loss: 1.1913 - val_accuracy: 0.7677\n",
            "Epoch 18/60\n",
            "54000/54000 [==============================] - 4s 69us/sample - loss: 0.5418 - accuracy: 0.8165 - val_loss: 1.1634 - val_accuracy: 0.7737\n",
            "Epoch 19/60\n",
            "54000/54000 [==============================] - 4s 70us/sample - loss: 0.5353 - accuracy: 0.8193 - val_loss: 1.1367 - val_accuracy: 0.7773\n",
            "Epoch 20/60\n",
            "54000/54000 [==============================] - 4s 70us/sample - loss: 0.5293 - accuracy: 0.8207 - val_loss: 1.1096 - val_accuracy: 0.7843\n",
            "Epoch 21/60\n",
            "54000/54000 [==============================] - 4s 68us/sample - loss: 0.5235 - accuracy: 0.8229 - val_loss: 1.0825 - val_accuracy: 0.7875\n",
            "Epoch 22/60\n",
            "54000/54000 [==============================] - 4s 70us/sample - loss: 0.5183 - accuracy: 0.8249 - val_loss: 1.0571 - val_accuracy: 0.7913\n",
            "Epoch 23/60\n",
            "54000/54000 [==============================] - 4s 69us/sample - loss: 0.5134 - accuracy: 0.8264 - val_loss: 1.0333 - val_accuracy: 0.7938\n",
            "Epoch 24/60\n",
            "54000/54000 [==============================] - 4s 69us/sample - loss: 0.5086 - accuracy: 0.8275 - val_loss: 1.0085 - val_accuracy: 0.7962\n",
            "Epoch 25/60\n",
            "54000/54000 [==============================] - 4s 68us/sample - loss: 0.5042 - accuracy: 0.8292 - val_loss: 0.9851 - val_accuracy: 0.7975\n",
            "Epoch 26/60\n",
            "54000/54000 [==============================] - 4s 69us/sample - loss: 0.5001 - accuracy: 0.8300 - val_loss: 0.9615 - val_accuracy: 0.8013\n",
            "Epoch 27/60\n",
            "54000/54000 [==============================] - 4s 69us/sample - loss: 0.4961 - accuracy: 0.8320 - val_loss: 0.9396 - val_accuracy: 0.8038\n",
            "Epoch 28/60\n",
            "54000/54000 [==============================] - 4s 68us/sample - loss: 0.4924 - accuracy: 0.8331 - val_loss: 0.9187 - val_accuracy: 0.8055\n",
            "Epoch 29/60\n",
            "54000/54000 [==============================] - 4s 68us/sample - loss: 0.4888 - accuracy: 0.8345 - val_loss: 0.8975 - val_accuracy: 0.8068\n",
            "Epoch 30/60\n",
            "54000/54000 [==============================] - 4s 70us/sample - loss: 0.4853 - accuracy: 0.8360 - val_loss: 0.8778 - val_accuracy: 0.8102\n",
            "Epoch 31/60\n",
            "54000/54000 [==============================] - 4s 69us/sample - loss: 0.4820 - accuracy: 0.8366 - val_loss: 0.8584 - val_accuracy: 0.8113\n",
            "Epoch 32/60\n",
            "54000/54000 [==============================] - 4s 69us/sample - loss: 0.4789 - accuracy: 0.8375 - val_loss: 0.8391 - val_accuracy: 0.8150\n",
            "Epoch 33/60\n",
            "54000/54000 [==============================] - 4s 67us/sample - loss: 0.4760 - accuracy: 0.8386 - val_loss: 0.8211 - val_accuracy: 0.8160\n",
            "Epoch 34/60\n",
            "54000/54000 [==============================] - 4s 68us/sample - loss: 0.4730 - accuracy: 0.8395 - val_loss: 0.8037 - val_accuracy: 0.8163\n",
            "Epoch 35/60\n",
            "54000/54000 [==============================] - 4s 69us/sample - loss: 0.4703 - accuracy: 0.8408 - val_loss: 0.7860 - val_accuracy: 0.8163\n",
            "Epoch 36/60\n",
            "54000/54000 [==============================] - 4s 69us/sample - loss: 0.4676 - accuracy: 0.8410 - val_loss: 0.7696 - val_accuracy: 0.8178\n",
            "Epoch 37/60\n",
            "54000/54000 [==============================] - 4s 68us/sample - loss: 0.4651 - accuracy: 0.8423 - val_loss: 0.7536 - val_accuracy: 0.8207\n",
            "Epoch 38/60\n",
            "54000/54000 [==============================] - 4s 69us/sample - loss: 0.4625 - accuracy: 0.8430 - val_loss: 0.7388 - val_accuracy: 0.8212\n",
            "Epoch 39/60\n",
            "54000/54000 [==============================] - 4s 69us/sample - loss: 0.4602 - accuracy: 0.8440 - val_loss: 0.7234 - val_accuracy: 0.8230\n",
            "Epoch 40/60\n",
            "54000/54000 [==============================] - 4s 72us/sample - loss: 0.4578 - accuracy: 0.8448 - val_loss: 0.7094 - val_accuracy: 0.8228\n",
            "Epoch 41/60\n",
            "54000/54000 [==============================] - 4s 69us/sample - loss: 0.4557 - accuracy: 0.8452 - val_loss: 0.6959 - val_accuracy: 0.8253\n",
            "Epoch 42/60\n",
            "54000/54000 [==============================] - 4s 68us/sample - loss: 0.4534 - accuracy: 0.8459 - val_loss: 0.6825 - val_accuracy: 0.8255\n",
            "Epoch 43/60\n",
            "54000/54000 [==============================] - 4s 69us/sample - loss: 0.4513 - accuracy: 0.8469 - val_loss: 0.6701 - val_accuracy: 0.8260\n",
            "Epoch 44/60\n",
            "54000/54000 [==============================] - 4s 67us/sample - loss: 0.4492 - accuracy: 0.8477 - val_loss: 0.6585 - val_accuracy: 0.8265\n",
            "Epoch 45/60\n",
            "54000/54000 [==============================] - 4s 67us/sample - loss: 0.4473 - accuracy: 0.8477 - val_loss: 0.6465 - val_accuracy: 0.8282\n",
            "Epoch 46/60\n",
            "54000/54000 [==============================] - 4s 68us/sample - loss: 0.4455 - accuracy: 0.8488 - val_loss: 0.6353 - val_accuracy: 0.8278\n",
            "Epoch 47/60\n",
            "54000/54000 [==============================] - 4s 68us/sample - loss: 0.4434 - accuracy: 0.8491 - val_loss: 0.6247 - val_accuracy: 0.8293\n",
            "Epoch 48/60\n",
            "54000/54000 [==============================] - 4s 68us/sample - loss: 0.4417 - accuracy: 0.8498 - val_loss: 0.6146 - val_accuracy: 0.8287\n",
            "Epoch 49/60\n",
            "54000/54000 [==============================] - 4s 67us/sample - loss: 0.4399 - accuracy: 0.8501 - val_loss: 0.6045 - val_accuracy: 0.8313\n",
            "Epoch 50/60\n",
            "54000/54000 [==============================] - 4s 68us/sample - loss: 0.4381 - accuracy: 0.8508 - val_loss: 0.5950 - val_accuracy: 0.8320\n",
            "Epoch 51/60\n",
            "54000/54000 [==============================] - 4s 69us/sample - loss: 0.4366 - accuracy: 0.8511 - val_loss: 0.5861 - val_accuracy: 0.8333\n",
            "Epoch 52/60\n",
            "54000/54000 [==============================] - 4s 69us/sample - loss: 0.4347 - accuracy: 0.8519 - val_loss: 0.5779 - val_accuracy: 0.8347\n",
            "Epoch 53/60\n",
            "54000/54000 [==============================] - 4s 68us/sample - loss: 0.4331 - accuracy: 0.8521 - val_loss: 0.5694 - val_accuracy: 0.8347\n",
            "Epoch 54/60\n",
            "54000/54000 [==============================] - 4s 69us/sample - loss: 0.4314 - accuracy: 0.8528 - val_loss: 0.5615 - val_accuracy: 0.8368\n",
            "Epoch 55/60\n",
            "54000/54000 [==============================] - 4s 68us/sample - loss: 0.4300 - accuracy: 0.8531 - val_loss: 0.5540 - val_accuracy: 0.8372\n",
            "Epoch 56/60\n",
            "54000/54000 [==============================] - 4s 67us/sample - loss: 0.4283 - accuracy: 0.8536 - val_loss: 0.5466 - val_accuracy: 0.8377\n",
            "Epoch 57/60\n",
            "54000/54000 [==============================] - 4s 67us/sample - loss: 0.4267 - accuracy: 0.8544 - val_loss: 0.5394 - val_accuracy: 0.8392\n",
            "Epoch 58/60\n",
            "54000/54000 [==============================] - 4s 68us/sample - loss: 0.4253 - accuracy: 0.8550 - val_loss: 0.5333 - val_accuracy: 0.8375\n",
            "Epoch 59/60\n",
            "54000/54000 [==============================] - 4s 69us/sample - loss: 0.4240 - accuracy: 0.8551 - val_loss: 0.5272 - val_accuracy: 0.8395\n",
            "Epoch 60/60\n",
            "54000/54000 [==============================] - 4s 67us/sample - loss: 0.4225 - accuracy: 0.8558 - val_loss: 0.5208 - val_accuracy: 0.8407\n"
          ],
          "name": "stdout"
        }
      ]
    },
    {
      "cell_type": "code",
      "metadata": {
        "id": "gIRvvJZmxFLo",
        "colab_type": "code",
        "colab": {
          "base_uri": "https://localhost:8080/",
          "height": 340
        },
        "outputId": "844c8478-c86a-4b04-acf7-bb956bf54c72"
      },
      "source": [
        "print(history.history['val_accuracy'])\n",
        "\n",
        "print(history.history['accuracy'])\n",
        "\n",
        "ta = pd.DataFrame(history.history['accuracy'])\n",
        "va = pd.DataFrame(history.history['val_accuracy'])\n",
        "\n",
        "tva = pd.concat([ta,va] , axis=1)\n",
        "\n",
        "tva.boxplot()"
      ],
      "execution_count": 179,
      "outputs": [
        {
          "output_type": "stream",
          "text": [
            "[0.3675, 0.473, 0.5313333, 0.5696667, 0.6063333, 0.6303333, 0.6545, 0.66966665, 0.691, 0.70633334, 0.71933335, 0.72716665, 0.74083334, 0.7495, 0.7553333, 0.76133335, 0.76766664, 0.7736667, 0.7773333, 0.78433335, 0.7875, 0.7913333, 0.7938333, 0.79616666, 0.7975, 0.8013333, 0.8038333, 0.8055, 0.8068333, 0.81016666, 0.81133336, 0.815, 0.816, 0.81633335, 0.81633335, 0.8178333, 0.8206667, 0.8211667, 0.823, 0.82283336, 0.82533336, 0.8255, 0.826, 0.8265, 0.82816666, 0.82783335, 0.8293333, 0.8286667, 0.83133334, 0.832, 0.8333333, 0.83466667, 0.83466667, 0.83683336, 0.83716667, 0.8376667, 0.83916664, 0.8375, 0.8395, 0.84066665]\n",
            "[0.34855556, 0.6585926, 0.7068148, 0.7314444, 0.7481667, 0.7607037, 0.76985186, 0.77787036, 0.7838333, 0.78892595, 0.79411113, 0.7981296, 0.80222225, 0.80546296, 0.80833334, 0.8115185, 0.8140741, 0.81651855, 0.8192593, 0.8206667, 0.82294446, 0.8248519, 0.82640743, 0.8275, 0.8292222, 0.8300185, 0.8319815, 0.83305556, 0.83446294, 0.836, 0.8365741, 0.83753705, 0.8386296, 0.83951855, 0.8408333, 0.841, 0.8422963, 0.84301853, 0.844, 0.8447963, 0.8452037, 0.8459259, 0.8468518, 0.84768516, 0.84772223, 0.84875923, 0.84914815, 0.8497963, 0.8501296, 0.8507778, 0.8510741, 0.8518519, 0.8521482, 0.85275924, 0.8530741, 0.85355556, 0.85437036, 0.855, 0.85507405, 0.85575926]\n"
          ],
          "name": "stdout"
        },
        {
          "output_type": "execute_result",
          "data": {
            "text/plain": [
              "<matplotlib.axes._subplots.AxesSubplot at 0x7f934d21ffd0>"
            ]
          },
          "metadata": {
            "tags": []
          },
          "execution_count": 179
        },
        {
          "output_type": "display_data",
          "data": {
            "image/png": "[encoded data removed]",
            "text/plain": [
              "<Figure size 432x288 with 1 Axes>"
            ]
          },
          "metadata": {
            "tags": []
          }
        }
      ]
    },
    {
      "cell_type": "code",
      "metadata": {
        "id": "Twt9VuN8Ze-C",
        "colab_type": "code",
        "colab": {
          "base_uri": "https://localhost:8080/",
          "height": 68
        },
        "outputId": "e66631d9-2efe-4991-a593-980206fd3d1b"
      },
      "source": [
        "loss1, acc1 = model2.evaluate(testX,testY, verbose=2)\n",
        "print('Accuracy: %.3f'  % acc1)\n",
        "print('Loss: %.3f' % loss1)"
      ],
      "execution_count": 181,
      "outputs": [
        {
          "output_type": "stream",
          "text": [
            "10000/1 - 1s - loss: 0.4649 - accuracy: 0.8257\n",
            "Accuracy: 0.826\n",
            "Loss: 0.551\n"
          ],
          "name": "stdout"
        }
      ]
    },
    {
      "cell_type": "markdown",
      "metadata": {
        "id": "j9CSqKvpOIVk",
        "colab_type": "text"
      },
      "source": [
        "### Build the Neural Network model with 3 Dense layers with 100,100,10 neurons respectively in each layer. Use cross entropy loss function and singmoid as activation in the hidden layers and softmax as activation function in the output layer. Use sgd optimizer with learning rate 0.03."
      ]
    },
    {
      "cell_type": "code",
      "metadata": {
        "id": "GGAad54JOIVm",
        "colab_type": "code",
        "colab": {}
      },
      "source": [
        "# Initialize the constructor again\n",
        "model3 = tf.keras.models.Sequential()\n",
        "\n",
        "#First layer \n",
        "model3.add(tf.keras.layers.Dense(100,activation='sigmoid'))\n",
        "\n",
        "#Second Dense layer \n",
        "model3.add(tf.keras.layers.Dense(100,activation='sigmoid'))\n",
        "\n",
        "#Normalize the data\n",
        "model3.add(tf.keras.layers.BatchNormalization())\n",
        "\n",
        "#output layer -Third layer\n",
        "model3.add(tf.keras.layers.Dense(10, activation ='softmax'))\n",
        "\n",
        "\n",
        "sgd = optimizers.SGD(lr=0.03)\n",
        "model3.compile(loss='categorical_crossentropy',optimizer='sgd',metrics=['accuracy'])\n",
        "\n",
        "batch_size=10000\n",
        "epochs=60"
      ],
      "execution_count": 0,
      "outputs": []
    },
    {
      "cell_type": "markdown",
      "metadata": {
        "id": "gfFGmbZLOIV5",
        "colab_type": "text"
      },
      "source": [
        "### Run the model"
      ]
    },
    {
      "cell_type": "code",
      "metadata": {
        "id": "bIkbMEN5OIV7",
        "colab_type": "code",
        "colab": {
          "base_uri": "https://localhost:8080/",
          "height": 1000
        },
        "outputId": "0750a9d8-9460-4011-da43-509ce016886e"
      },
      "source": [
        "history= model3.fit(trainX, trainY, batch_size=batch_size, epochs=epochs,  validation_split=.1, verbose=True)\n",
        "loss,accuracy  = model3.evaluate(testX, testY, verbose=False)"
      ],
      "execution_count": 184,
      "outputs": [
        {
          "output_type": "stream",
          "text": [
            "Train on 54000 samples, validate on 6000 samples\n",
            "Epoch 1/60\n",
            "54000/54000 [==============================] - 1s 26us/sample - loss: 2.1877 - accuracy: 0.1931 - val_loss: 2.6648 - val_accuracy: 0.0942\n",
            "Epoch 2/60\n",
            "54000/54000 [==============================] - 1s 14us/sample - loss: 1.7313 - accuracy: 0.4254 - val_loss: 2.6215 - val_accuracy: 0.0942\n",
            "Epoch 3/60\n",
            "54000/54000 [==============================] - 1s 14us/sample - loss: 1.4821 - accuracy: 0.5188 - val_loss: 2.5850 - val_accuracy: 0.0942\n",
            "Epoch 4/60\n",
            "54000/54000 [==============================] - 1s 14us/sample - loss: 1.3307 - accuracy: 0.5670 - val_loss: 2.5527 - val_accuracy: 0.0942\n",
            "Epoch 5/60\n",
            "54000/54000 [==============================] - 1s 14us/sample - loss: 1.2296 - accuracy: 0.5994 - val_loss: 2.5232 - val_accuracy: 0.0942\n",
            "Epoch 6/60\n",
            "54000/54000 [==============================] - 1s 15us/sample - loss: 1.1569 - accuracy: 0.6240 - val_loss: 2.4959 - val_accuracy: 0.0942\n",
            "Epoch 7/60\n",
            "54000/54000 [==============================] - 1s 15us/sample - loss: 1.1013 - accuracy: 0.6419 - val_loss: 2.4702 - val_accuracy: 0.0942\n",
            "Epoch 8/60\n",
            "54000/54000 [==============================] - 1s 15us/sample - loss: 1.0567 - accuracy: 0.6553 - val_loss: 2.4459 - val_accuracy: 0.0942\n",
            "Epoch 9/60\n",
            "54000/54000 [==============================] - 1s 14us/sample - loss: 1.0199 - accuracy: 0.6660 - val_loss: 2.4227 - val_accuracy: 0.0942\n",
            "Epoch 10/60\n",
            "54000/54000 [==============================] - 1s 14us/sample - loss: 0.9886 - accuracy: 0.6762 - val_loss: 2.4002 - val_accuracy: 0.0942\n",
            "Epoch 11/60\n",
            "54000/54000 [==============================] - 1s 14us/sample - loss: 0.9620 - accuracy: 0.6839 - val_loss: 2.3787 - val_accuracy: 0.0942\n",
            "Epoch 12/60\n",
            "54000/54000 [==============================] - 1s 14us/sample - loss: 0.9383 - accuracy: 0.6908 - val_loss: 2.3579 - val_accuracy: 0.0942\n",
            "Epoch 13/60\n",
            "54000/54000 [==============================] - 1s 14us/sample - loss: 0.9175 - accuracy: 0.6971 - val_loss: 2.3376 - val_accuracy: 0.0942\n",
            "Epoch 14/60\n",
            "54000/54000 [==============================] - 1s 14us/sample - loss: 0.8990 - accuracy: 0.7033 - val_loss: 2.3177 - val_accuracy: 0.0942\n",
            "Epoch 15/60\n",
            "54000/54000 [==============================] - 1s 14us/sample - loss: 0.8823 - accuracy: 0.7089 - val_loss: 2.2983 - val_accuracy: 0.0942\n",
            "Epoch 16/60\n",
            "54000/54000 [==============================] - 1s 15us/sample - loss: 0.8669 - accuracy: 0.7129 - val_loss: 2.2795 - val_accuracy: 0.0942\n",
            "Epoch 17/60\n",
            "54000/54000 [==============================] - 1s 14us/sample - loss: 0.8528 - accuracy: 0.7179 - val_loss: 2.2608 - val_accuracy: 0.0955\n",
            "Epoch 18/60\n",
            "54000/54000 [==============================] - 1s 15us/sample - loss: 0.8401 - accuracy: 0.7216 - val_loss: 2.2425 - val_accuracy: 0.1068\n",
            "Epoch 19/60\n",
            "54000/54000 [==============================] - 1s 15us/sample - loss: 0.8282 - accuracy: 0.7251 - val_loss: 2.2245 - val_accuracy: 0.1270\n",
            "Epoch 20/60\n",
            "54000/54000 [==============================] - 1s 14us/sample - loss: 0.8172 - accuracy: 0.7288 - val_loss: 2.2066 - val_accuracy: 0.1462\n",
            "Epoch 21/60\n",
            "54000/54000 [==============================] - 1s 14us/sample - loss: 0.8068 - accuracy: 0.7324 - val_loss: 2.1888 - val_accuracy: 0.1607\n",
            "Epoch 22/60\n",
            "54000/54000 [==============================] - 1s 14us/sample - loss: 0.7974 - accuracy: 0.7351 - val_loss: 2.1712 - val_accuracy: 0.1722\n",
            "Epoch 23/60\n",
            "54000/54000 [==============================] - 1s 14us/sample - loss: 0.7883 - accuracy: 0.7384 - val_loss: 2.1538 - val_accuracy: 0.1797\n",
            "Epoch 24/60\n",
            "54000/54000 [==============================] - 1s 14us/sample - loss: 0.7798 - accuracy: 0.7413 - val_loss: 2.1364 - val_accuracy: 0.1872\n",
            "Epoch 25/60\n",
            "54000/54000 [==============================] - 1s 15us/sample - loss: 0.7719 - accuracy: 0.7428 - val_loss: 2.1192 - val_accuracy: 0.1983\n",
            "Epoch 26/60\n",
            "54000/54000 [==============================] - 1s 14us/sample - loss: 0.7644 - accuracy: 0.7454 - val_loss: 2.1019 - val_accuracy: 0.2145\n",
            "Epoch 27/60\n",
            "54000/54000 [==============================] - 1s 14us/sample - loss: 0.7570 - accuracy: 0.7479 - val_loss: 2.0847 - val_accuracy: 0.2325\n",
            "Epoch 28/60\n",
            "54000/54000 [==============================] - 1s 14us/sample - loss: 0.7503 - accuracy: 0.7497 - val_loss: 2.0674 - val_accuracy: 0.2505\n",
            "Epoch 29/60\n",
            "54000/54000 [==============================] - 1s 14us/sample - loss: 0.7439 - accuracy: 0.7519 - val_loss: 2.0499 - val_accuracy: 0.2715\n",
            "Epoch 30/60\n",
            "54000/54000 [==============================] - 1s 14us/sample - loss: 0.7377 - accuracy: 0.7536 - val_loss: 2.0324 - val_accuracy: 0.2973\n",
            "Epoch 31/60\n",
            "54000/54000 [==============================] - 1s 15us/sample - loss: 0.7320 - accuracy: 0.7552 - val_loss: 2.0150 - val_accuracy: 0.3253\n",
            "Epoch 32/60\n",
            "54000/54000 [==============================] - 1s 15us/sample - loss: 0.7261 - accuracy: 0.7572 - val_loss: 1.9974 - val_accuracy: 0.3547\n",
            "Epoch 33/60\n",
            "54000/54000 [==============================] - 1s 15us/sample - loss: 0.7208 - accuracy: 0.7591 - val_loss: 1.9796 - val_accuracy: 0.3827\n",
            "Epoch 34/60\n",
            "54000/54000 [==============================] - 1s 15us/sample - loss: 0.7157 - accuracy: 0.7606 - val_loss: 1.9617 - val_accuracy: 0.4110\n",
            "Epoch 35/60\n",
            "54000/54000 [==============================] - 1s 14us/sample - loss: 0.7108 - accuracy: 0.7624 - val_loss: 1.9438 - val_accuracy: 0.4333\n",
            "Epoch 36/60\n",
            "54000/54000 [==============================] - 1s 15us/sample - loss: 0.7060 - accuracy: 0.7636 - val_loss: 1.9255 - val_accuracy: 0.4537\n",
            "Epoch 37/60\n",
            "54000/54000 [==============================] - 1s 14us/sample - loss: 0.7014 - accuracy: 0.7650 - val_loss: 1.9072 - val_accuracy: 0.4728\n",
            "Epoch 38/60\n",
            "54000/54000 [==============================] - 1s 14us/sample - loss: 0.6970 - accuracy: 0.7662 - val_loss: 1.8886 - val_accuracy: 0.4917\n",
            "Epoch 39/60\n",
            "54000/54000 [==============================] - 1s 14us/sample - loss: 0.6928 - accuracy: 0.7674 - val_loss: 1.8697 - val_accuracy: 0.5075\n",
            "Epoch 40/60\n",
            "54000/54000 [==============================] - 1s 14us/sample - loss: 0.6888 - accuracy: 0.7686 - val_loss: 1.8506 - val_accuracy: 0.5227\n",
            "Epoch 41/60\n",
            "54000/54000 [==============================] - 1s 14us/sample - loss: 0.6847 - accuracy: 0.7696 - val_loss: 1.8313 - val_accuracy: 0.5363\n",
            "Epoch 42/60\n",
            "54000/54000 [==============================] - 1s 14us/sample - loss: 0.6809 - accuracy: 0.7706 - val_loss: 1.8119 - val_accuracy: 0.5497\n",
            "Epoch 43/60\n",
            "54000/54000 [==============================] - 1s 15us/sample - loss: 0.6773 - accuracy: 0.7717 - val_loss: 1.7923 - val_accuracy: 0.5607\n",
            "Epoch 44/60\n",
            "54000/54000 [==============================] - 1s 14us/sample - loss: 0.6737 - accuracy: 0.7728 - val_loss: 1.7724 - val_accuracy: 0.5715\n",
            "Epoch 45/60\n",
            "54000/54000 [==============================] - 1s 14us/sample - loss: 0.6702 - accuracy: 0.7737 - val_loss: 1.7522 - val_accuracy: 0.5790\n",
            "Epoch 46/60\n",
            "54000/54000 [==============================] - 1s 15us/sample - loss: 0.6669 - accuracy: 0.7750 - val_loss: 1.7317 - val_accuracy: 0.5888\n",
            "Epoch 47/60\n",
            "54000/54000 [==============================] - 1s 14us/sample - loss: 0.6636 - accuracy: 0.7757 - val_loss: 1.7109 - val_accuracy: 0.5992\n",
            "Epoch 48/60\n",
            "54000/54000 [==============================] - 1s 14us/sample - loss: 0.6605 - accuracy: 0.7769 - val_loss: 1.6900 - val_accuracy: 0.6062\n",
            "Epoch 49/60\n",
            "54000/54000 [==============================] - 1s 14us/sample - loss: 0.6574 - accuracy: 0.7779 - val_loss: 1.6687 - val_accuracy: 0.6153\n",
            "Epoch 50/60\n",
            "54000/54000 [==============================] - 1s 14us/sample - loss: 0.6544 - accuracy: 0.7785 - val_loss: 1.6472 - val_accuracy: 0.6223\n",
            "Epoch 51/60\n",
            "54000/54000 [==============================] - 1s 14us/sample - loss: 0.6516 - accuracy: 0.7793 - val_loss: 1.6254 - val_accuracy: 0.6297\n",
            "Epoch 52/60\n",
            "54000/54000 [==============================] - 1s 15us/sample - loss: 0.6487 - accuracy: 0.7802 - val_loss: 1.6038 - val_accuracy: 0.6350\n",
            "Epoch 53/60\n",
            "54000/54000 [==============================] - 1s 14us/sample - loss: 0.6459 - accuracy: 0.7811 - val_loss: 1.5816 - val_accuracy: 0.6422\n",
            "Epoch 54/60\n",
            "54000/54000 [==============================] - 1s 14us/sample - loss: 0.6433 - accuracy: 0.7818 - val_loss: 1.5594 - val_accuracy: 0.6485\n",
            "Epoch 55/60\n",
            "54000/54000 [==============================] - 1s 15us/sample - loss: 0.6406 - accuracy: 0.7827 - val_loss: 1.5366 - val_accuracy: 0.6563\n",
            "Epoch 56/60\n",
            "54000/54000 [==============================] - 1s 15us/sample - loss: 0.6381 - accuracy: 0.7836 - val_loss: 1.5138 - val_accuracy: 0.6665\n",
            "Epoch 57/60\n",
            "54000/54000 [==============================] - 1s 14us/sample - loss: 0.6356 - accuracy: 0.7848 - val_loss: 1.4909 - val_accuracy: 0.6727\n",
            "Epoch 58/60\n",
            "54000/54000 [==============================] - 1s 15us/sample - loss: 0.6332 - accuracy: 0.7855 - val_loss: 1.4682 - val_accuracy: 0.6785\n",
            "Epoch 59/60\n",
            "54000/54000 [==============================] - 1s 15us/sample - loss: 0.6309 - accuracy: 0.7866 - val_loss: 1.4450 - val_accuracy: 0.6855\n",
            "Epoch 60/60\n",
            "54000/54000 [==============================] - 1s 15us/sample - loss: 0.6285 - accuracy: 0.7870 - val_loss: 1.4219 - val_accuracy: 0.6910\n"
          ],
          "name": "stdout"
        }
      ]
    },
    {
      "cell_type": "code",
      "metadata": {
        "id": "B7Fv_2B0j6wW",
        "colab_type": "code",
        "colab": {
          "base_uri": "https://localhost:8080/",
          "height": 51
        },
        "outputId": "0d71b4a9-6dd6-4188-cd34-076148b880df"
      },
      "source": [
        "loss,accuracy  = model3.evaluate(testX, testY, verbose=False)\n",
        "print('Accuracy: %.3f'  % accuracy)\n",
        "print('Loss: %.3f' % loss)"
      ],
      "execution_count": 185,
      "outputs": [
        {
          "output_type": "stream",
          "text": [
            "Accuracy: 0.688\n",
            "Loss: 1.428\n"
          ],
          "name": "stdout"
        }
      ]
    },
    {
      "cell_type": "code",
      "metadata": {
        "id": "CQ64_2--kBIy",
        "colab_type": "code",
        "colab": {}
      },
      "source": [
        ""
      ],
      "execution_count": 0,
      "outputs": []
    },
    {
      "cell_type": "markdown",
      "metadata": {
        "id": "I3oTaTMOlQP_",
        "colab_type": "text"
      },
      "source": [
        "# Review The Model"
      ]
    },
    {
      "cell_type": "code",
      "metadata": {
        "id": "Nc-skX84lLgx",
        "colab_type": "code",
        "colab": {
          "base_uri": "https://localhost:8080/",
          "height": 289
        },
        "outputId": "51f3dcb0-1e60-409b-d407-c05152f48386"
      },
      "source": [
        "model3.summary()"
      ],
      "execution_count": 186,
      "outputs": [
        {
          "output_type": "stream",
          "text": [
            "Model: \"sequential_36\"\n",
            "_________________________________________________________________\n",
            "Layer (type)                 Output Shape              Param #   \n",
            "=================================================================\n",
            "dense_107 (Dense)            multiple                  78500     \n",
            "_________________________________________________________________\n",
            "dense_108 (Dense)            multiple                  10100     \n",
            "_________________________________________________________________\n",
            "batch_normalization_31 (Batc multiple                  400       \n",
            "_________________________________________________________________\n",
            "dense_109 (Dense)            multiple                  1010      \n",
            "=================================================================\n",
            "Total params: 90,010\n",
            "Trainable params: 89,810\n",
            "Non-trainable params: 200\n",
            "_________________________________________________________________\n"
          ],
          "name": "stdout"
        }
      ]
    },
    {
      "cell_type": "code",
      "metadata": {
        "id": "ILb3zW4Vlapn",
        "colab_type": "code",
        "colab": {}
      },
      "source": [
        "## Conclusion:-\n",
        "# Model 1 performed better with 83.3% accuracy."
      ],
      "execution_count": 0,
      "outputs": []
    }
  ]
}