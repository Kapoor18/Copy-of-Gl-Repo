{
  "nbformat": 4,
  "nbformat_minor": 0,
  "metadata": {
    "colab": {
      "name": "R6_NeuralNetwork_BankChurn_Ashita.ipynb",
      "provenance": []
    },
    "kernelspec": {
      "name": "python3",
      "display_name": "Python 3"
    }
  },
  "cells": [
    {
      "cell_type": "code",
      "metadata": {
        "id": "IqOg8PbsxSXI",
        "colab_type": "code",
        "colab": {}
      },
      "source": [
        "## 1. Read the dataset\n",
        "#2. Drop the columns which are unique for all users like IDs (2.5 points)\n",
        "#3. Distinguish the feature and target set (2.5 points)\n",
        "#4. Divide the data set into training and test sets ( 2.5 points)\n",
        "#5. Normalize the train and test data (5 points)\n",
        "#6. Initialize & build the model (10 points)\n",
        "#7. Predict the results using 0.5 as a threshold (5 points)\n",
        "# Print the Accuracy score and confusion matrix (2.5 points)"
      ],
      "execution_count": 0,
      "outputs": []
    },
    {
      "cell_type": "code",
      "metadata": {
        "id": "2mpgCAyj0tQ0",
        "colab_type": "code",
        "outputId": "ba48eeff-3fb6-41d4-d34b-2ca41d48ac83",
        "colab": {
          "base_uri": "https://localhost:8080/",
          "height": 989
        }
      },
      "source": [
        "!pip install tensorflow==2.0"
      ],
      "execution_count": 4,
      "outputs": [
        {
          "output_type": "stream",
          "text": [
            "Collecting tensorflow==2.0\n",
            "\u001b[?25l  Downloading https://files.pythonhosted.org/packages/46/0f/7bd55361168bb32796b360ad15a25de6966c9c1beb58a8e30c01c8279862/tensorflow-2.0.0-cp36-cp36m-manylinux2010_x86_64.whl (86.3MB)\n",
            "\u001b[K     |████████████████████████████████| 86.3MB 66kB/s \n",
            "\u001b[?25hRequirement already satisfied: protobuf>=3.6.1 in /usr/local/lib/python3.6/dist-packages (from tensorflow==2.0) (3.10.0)\n",
            "Requirement already satisfied: keras-preprocessing>=1.0.5 in /usr/local/lib/python3.6/dist-packages (from tensorflow==2.0) (1.1.0)\n",
            "Collecting tensorflow-estimator<2.1.0,>=2.0.0\n",
            "\u001b[?25l  Downloading https://files.pythonhosted.org/packages/fc/08/8b927337b7019c374719145d1dceba21a8bb909b93b1ad6f8fb7d22c1ca1/tensorflow_estimator-2.0.1-py2.py3-none-any.whl (449kB)\n",
            "\u001b[K     |████████████████████████████████| 450kB 43.0MB/s \n",
            "\u001b[?25hRequirement already satisfied: opt-einsum>=2.3.2 in /usr/local/lib/python3.6/dist-packages (from tensorflow==2.0) (3.1.0)\n",
            "Requirement already satisfied: wrapt>=1.11.1 in /usr/local/lib/python3.6/dist-packages (from tensorflow==2.0) (1.11.2)\n",
            "Requirement already satisfied: wheel>=0.26 in /usr/local/lib/python3.6/dist-packages (from tensorflow==2.0) (0.34.2)\n",
            "Requirement already satisfied: google-pasta>=0.1.6 in /usr/local/lib/python3.6/dist-packages (from tensorflow==2.0) (0.1.8)\n",
            "Requirement already satisfied: grpcio>=1.8.6 in /usr/local/lib/python3.6/dist-packages (from tensorflow==2.0) (1.27.1)\n",
            "Requirement already satisfied: numpy<2.0,>=1.16.0 in /usr/local/lib/python3.6/dist-packages (from tensorflow==2.0) (1.17.5)\n",
            "Requirement already satisfied: six>=1.10.0 in /usr/local/lib/python3.6/dist-packages (from tensorflow==2.0) (1.12.0)\n",
            "Requirement already satisfied: keras-applications>=1.0.8 in /usr/local/lib/python3.6/dist-packages (from tensorflow==2.0) (1.0.8)\n",
            "Requirement already satisfied: absl-py>=0.7.0 in /usr/local/lib/python3.6/dist-packages (from tensorflow==2.0) (0.9.0)\n",
            "Requirement already satisfied: termcolor>=1.1.0 in /usr/local/lib/python3.6/dist-packages (from tensorflow==2.0) (1.1.0)\n",
            "Requirement already satisfied: gast==0.2.2 in /usr/local/lib/python3.6/dist-packages (from tensorflow==2.0) (0.2.2)\n",
            "Requirement already satisfied: astor>=0.6.0 in /usr/local/lib/python3.6/dist-packages (from tensorflow==2.0) (0.8.1)\n",
            "Collecting tensorboard<2.1.0,>=2.0.0\n",
            "\u001b[?25l  Downloading https://files.pythonhosted.org/packages/76/54/99b9d5d52d5cb732f099baaaf7740403e83fe6b0cedde940fabd2b13d75a/tensorboard-2.0.2-py3-none-any.whl (3.8MB)\n",
            "\u001b[K     |████████████████████████████████| 3.8MB 49.0MB/s \n",
            "\u001b[?25hRequirement already satisfied: setuptools in /usr/local/lib/python3.6/dist-packages (from protobuf>=3.6.1->tensorflow==2.0) (45.2.0)\n",
            "Requirement already satisfied: h5py in /usr/local/lib/python3.6/dist-packages (from keras-applications>=1.0.8->tensorflow==2.0) (2.8.0)\n",
            "Requirement already satisfied: google-auth<2,>=1.6.3 in /usr/local/lib/python3.6/dist-packages (from tensorboard<2.1.0,>=2.0.0->tensorflow==2.0) (1.7.2)\n",
            "Requirement already satisfied: markdown>=2.6.8 in /usr/local/lib/python3.6/dist-packages (from tensorboard<2.1.0,>=2.0.0->tensorflow==2.0) (3.2.1)\n",
            "Requirement already satisfied: werkzeug>=0.11.15 in /usr/local/lib/python3.6/dist-packages (from tensorboard<2.1.0,>=2.0.0->tensorflow==2.0) (1.0.0)\n",
            "Requirement already satisfied: requests<3,>=2.21.0 in /usr/local/lib/python3.6/dist-packages (from tensorboard<2.1.0,>=2.0.0->tensorflow==2.0) (2.21.0)\n",
            "Requirement already satisfied: google-auth-oauthlib<0.5,>=0.4.1 in /usr/local/lib/python3.6/dist-packages (from tensorboard<2.1.0,>=2.0.0->tensorflow==2.0) (0.4.1)\n",
            "Requirement already satisfied: cachetools<3.2,>=2.0.0 in /usr/local/lib/python3.6/dist-packages (from google-auth<2,>=1.6.3->tensorboard<2.1.0,>=2.0.0->tensorflow==2.0) (3.1.1)\n",
            "Requirement already satisfied: rsa<4.1,>=3.1.4 in /usr/local/lib/python3.6/dist-packages (from google-auth<2,>=1.6.3->tensorboard<2.1.0,>=2.0.0->tensorflow==2.0) (4.0)\n",
            "Requirement already satisfied: pyasn1-modules>=0.2.1 in /usr/local/lib/python3.6/dist-packages (from google-auth<2,>=1.6.3->tensorboard<2.1.0,>=2.0.0->tensorflow==2.0) (0.2.8)\n",
            "Requirement already satisfied: certifi>=2017.4.17 in /usr/local/lib/python3.6/dist-packages (from requests<3,>=2.21.0->tensorboard<2.1.0,>=2.0.0->tensorflow==2.0) (2019.11.28)\n",
            "Requirement already satisfied: chardet<3.1.0,>=3.0.2 in /usr/local/lib/python3.6/dist-packages (from requests<3,>=2.21.0->tensorboard<2.1.0,>=2.0.0->tensorflow==2.0) (3.0.4)\n",
            "Requirement already satisfied: urllib3<1.25,>=1.21.1 in /usr/local/lib/python3.6/dist-packages (from requests<3,>=2.21.0->tensorboard<2.1.0,>=2.0.0->tensorflow==2.0) (1.24.3)\n",
            "Requirement already satisfied: idna<2.9,>=2.5 in /usr/local/lib/python3.6/dist-packages (from requests<3,>=2.21.0->tensorboard<2.1.0,>=2.0.0->tensorflow==2.0) (2.8)\n",
            "Requirement already satisfied: requests-oauthlib>=0.7.0 in /usr/local/lib/python3.6/dist-packages (from google-auth-oauthlib<0.5,>=0.4.1->tensorboard<2.1.0,>=2.0.0->tensorflow==2.0) (1.3.0)\n",
            "Requirement already satisfied: pyasn1>=0.1.3 in /usr/local/lib/python3.6/dist-packages (from rsa<4.1,>=3.1.4->google-auth<2,>=1.6.3->tensorboard<2.1.0,>=2.0.0->tensorflow==2.0) (0.4.8)\n",
            "Requirement already satisfied: oauthlib>=3.0.0 in /usr/local/lib/python3.6/dist-packages (from requests-oauthlib>=0.7.0->google-auth-oauthlib<0.5,>=0.4.1->tensorboard<2.1.0,>=2.0.0->tensorflow==2.0) (3.1.0)\n",
            "Installing collected packages: tensorflow-estimator, tensorboard, tensorflow\n",
            "  Found existing installation: tensorflow-estimator 1.15.1\n",
            "    Uninstalling tensorflow-estimator-1.15.1:\n",
            "      Successfully uninstalled tensorflow-estimator-1.15.1\n",
            "  Found existing installation: tensorboard 1.15.0\n",
            "    Uninstalling tensorboard-1.15.0:\n",
            "      Successfully uninstalled tensorboard-1.15.0\n",
            "  Found existing installation: tensorflow 1.15.0\n",
            "    Uninstalling tensorflow-1.15.0:\n",
            "      Successfully uninstalled tensorflow-1.15.0\n",
            "Successfully installed tensorboard-2.0.2 tensorflow-2.0.0 tensorflow-estimator-2.0.1\n"
          ],
          "name": "stdout"
        },
        {
          "output_type": "display_data",
          "data": {
            "application/vnd.colab-display-data+json": {
              "pip_warning": {
                "packages": [
                  "tensorboard",
                  "tensorflow",
                  "tensorflow_core",
                  "tensorflow_estimator"
                ]
              }
            }
          },
          "metadata": {
            "tags": []
          }
        }
      ]
    },
    {
      "cell_type": "code",
      "metadata": {
        "id": "bHUNkUOFxWDd",
        "colab_type": "code",
        "colab": {}
      },
      "source": [
        "# Add some necessary imports\n",
        "import numpy as np\n",
        "import pandas as pd\n",
        "import tensorflow as tf"
      ],
      "execution_count": 0,
      "outputs": []
    },
    {
      "cell_type": "code",
      "metadata": {
        "id": "lbbzfDFixWGR",
        "colab_type": "code",
        "outputId": "4ca5d501-5b52-49eb-e90a-85919a972caa",
        "colab": {
          "base_uri": "https://localhost:8080/",
          "height": 34
        }
      },
      "source": [
        "print(tf.__version__)"
      ],
      "execution_count": 3,
      "outputs": [
        {
          "output_type": "stream",
          "text": [
            "2.0.0\n"
          ],
          "name": "stdout"
        }
      ]
    },
    {
      "cell_type": "code",
      "metadata": {
        "id": "PFqnCiUFxWJH",
        "colab_type": "code",
        "outputId": "2b4f30f8-bcd5-45fb-d986-96c1ef6c85b6",
        "colab": {
          "resources": {
            "http://localhost:8080/nbextensions/google.colab/files.js": {
              "data": "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",
              "ok": true,
              "headers": [
                [
                  "content-type",
                  "application/javascript"
                ]
              ],
              "status": 200,
              "status_text": ""
            }
          },
          "base_uri": "https://localhost:8080/",
          "height": 74
        }
      },
      "source": [
        "from google.colab import files\n",
        "uploaded= files.upload()"
      ],
      "execution_count": 6,
      "outputs": [
        {
          "output_type": "display_data",
          "data": {
            "text/html": [
              "\n",
              "     <input type=\"file\" id=\"files-c3aa4c3f-d502-43cc-bd86-ffcab350bcf0\" name=\"files[]\" multiple disabled />\n",
              "     <output id=\"result-c3aa4c3f-d502-43cc-bd86-ffcab350bcf0\">\n",
              "      Upload widget is only available when the cell has been executed in the\n",
              "      current browser session. Please rerun this cell to enable.\n",
              "      </output>\n",
              "      <script src=\"/nbextensions/google.colab/files.js\"></script> "
            ],
            "text/plain": [
              "<IPython.core.display.HTML object>"
            ]
          },
          "metadata": {
            "tags": []
          }
        },
        {
          "output_type": "stream",
          "text": [
            "Saving Churn_Modelling.csv to Churn_Modelling.csv\n"
          ],
          "name": "stdout"
        }
      ]
    },
    {
      "cell_type": "code",
      "metadata": {
        "id": "UKJoJIaf5Dgr",
        "colab_type": "code",
        "colab": {}
      },
      "source": [
        "import io\n",
        "bank_df=pd.read_csv(io.BytesIO(uploaded['Churn_Modelling.csv']))"
      ],
      "execution_count": 0,
      "outputs": []
    },
    {
      "cell_type": "code",
      "metadata": {
        "id": "bW7m3npixWRC",
        "colab_type": "code",
        "outputId": "0ad883e3-d45a-49d5-c2a4-c512a3d5e4be",
        "colab": {
          "base_uri": "https://localhost:8080/",
          "height": 204
        }
      },
      "source": [
        "bank_df.head()"
      ],
      "execution_count": 30,
      "outputs": [
        {
          "output_type": "execute_result",
          "data": {
            "text/html": [
              "<div>\n",
              "<style scoped>\n",
              "    .dataframe tbody tr th:only-of-type {\n",
              "        vertical-align: middle;\n",
              "    }\n",
              "\n",
              "    .dataframe tbody tr th {\n",
              "        vertical-align: top;\n",
              "    }\n",
              "\n",
              "    .dataframe thead th {\n",
              "        text-align: right;\n",
              "    }\n",
              "</style>\n",
              "<table border=\"1\" class=\"dataframe\">\n",
              "  <thead>\n",
              "    <tr style=\"text-align: right;\">\n",
              "      <th></th>\n",
              "      <th>RowNumber</th>\n",
              "      <th>CustomerId</th>\n",
              "      <th>Surname</th>\n",
              "      <th>CreditScore</th>\n",
              "      <th>Geography</th>\n",
              "      <th>Gender</th>\n",
              "      <th>Age</th>\n",
              "      <th>Tenure</th>\n",
              "      <th>Balance</th>\n",
              "      <th>NumOfProducts</th>\n",
              "      <th>HasCrCard</th>\n",
              "      <th>IsActiveMember</th>\n",
              "      <th>EstimatedSalary</th>\n",
              "      <th>Exited</th>\n",
              "    </tr>\n",
              "  </thead>\n",
              "  <tbody>\n",
              "    <tr>\n",
              "      <th>0</th>\n",
              "      <td>1</td>\n",
              "      <td>15634602</td>\n",
              "      <td>Hargrave</td>\n",
              "      <td>619</td>\n",
              "      <td>France</td>\n",
              "      <td>Female</td>\n",
              "      <td>42</td>\n",
              "      <td>2</td>\n",
              "      <td>0.00</td>\n",
              "      <td>1</td>\n",
              "      <td>1</td>\n",
              "      <td>1</td>\n",
              "      <td>101348.88</td>\n",
              "      <td>1</td>\n",
              "    </tr>\n",
              "    <tr>\n",
              "      <th>1</th>\n",
              "      <td>2</td>\n",
              "      <td>15647311</td>\n",
              "      <td>Hill</td>\n",
              "      <td>608</td>\n",
              "      <td>Spain</td>\n",
              "      <td>Female</td>\n",
              "      <td>41</td>\n",
              "      <td>1</td>\n",
              "      <td>83807.86</td>\n",
              "      <td>1</td>\n",
              "      <td>0</td>\n",
              "      <td>1</td>\n",
              "      <td>112542.58</td>\n",
              "      <td>0</td>\n",
              "    </tr>\n",
              "    <tr>\n",
              "      <th>2</th>\n",
              "      <td>3</td>\n",
              "      <td>15619304</td>\n",
              "      <td>Onio</td>\n",
              "      <td>502</td>\n",
              "      <td>France</td>\n",
              "      <td>Female</td>\n",
              "      <td>42</td>\n",
              "      <td>8</td>\n",
              "      <td>159660.80</td>\n",
              "      <td>3</td>\n",
              "      <td>1</td>\n",
              "      <td>0</td>\n",
              "      <td>113931.57</td>\n",
              "      <td>1</td>\n",
              "    </tr>\n",
              "    <tr>\n",
              "      <th>3</th>\n",
              "      <td>4</td>\n",
              "      <td>15701354</td>\n",
              "      <td>Boni</td>\n",
              "      <td>699</td>\n",
              "      <td>France</td>\n",
              "      <td>Female</td>\n",
              "      <td>39</td>\n",
              "      <td>1</td>\n",
              "      <td>0.00</td>\n",
              "      <td>2</td>\n",
              "      <td>0</td>\n",
              "      <td>0</td>\n",
              "      <td>93826.63</td>\n",
              "      <td>0</td>\n",
              "    </tr>\n",
              "    <tr>\n",
              "      <th>4</th>\n",
              "      <td>5</td>\n",
              "      <td>15737888</td>\n",
              "      <td>Mitchell</td>\n",
              "      <td>850</td>\n",
              "      <td>Spain</td>\n",
              "      <td>Female</td>\n",
              "      <td>43</td>\n",
              "      <td>2</td>\n",
              "      <td>125510.82</td>\n",
              "      <td>1</td>\n",
              "      <td>1</td>\n",
              "      <td>1</td>\n",
              "      <td>79084.10</td>\n",
              "      <td>0</td>\n",
              "    </tr>\n",
              "  </tbody>\n",
              "</table>\n",
              "</div>"
            ],
            "text/plain": [
              "   RowNumber  CustomerId   Surname  ...  IsActiveMember EstimatedSalary Exited\n",
              "0          1    15634602  Hargrave  ...               1       101348.88      1\n",
              "1          2    15647311      Hill  ...               1       112542.58      0\n",
              "2          3    15619304      Onio  ...               0       113931.57      1\n",
              "3          4    15701354      Boni  ...               0        93826.63      0\n",
              "4          5    15737888  Mitchell  ...               1        79084.10      0\n",
              "\n",
              "[5 rows x 14 columns]"
            ]
          },
          "metadata": {
            "tags": []
          },
          "execution_count": 30
        }
      ]
    },
    {
      "cell_type": "code",
      "metadata": {
        "id": "IPuI_MV_xWUN",
        "colab_type": "code",
        "colab": {}
      },
      "source": [
        "#2. Drop the columns which are unique for all users like IDs (2.5 points)"
      ],
      "execution_count": 0,
      "outputs": []
    },
    {
      "cell_type": "code",
      "metadata": {
        "id": "LcwvUTZAxWZ9",
        "colab_type": "code",
        "colab": {}
      },
      "source": [
        "## Only Customer Id is unique for all user . Hence dropping it as asked.\n",
        "bank_df.drop(columns=[\"CustomerId\"], axis= 1, inplace=True) "
      ],
      "execution_count": 0,
      "outputs": []
    },
    {
      "cell_type": "code",
      "metadata": {
        "id": "s6NZW0cl_s77",
        "colab_type": "code",
        "outputId": "79e6e669-39d9-4263-cd76-c2e49f58697c",
        "colab": {
          "base_uri": "https://localhost:8080/",
          "height": 34
        }
      },
      "source": [
        "## Hence there are duplicate values in the surname column \n",
        "boolean = bank_df['Surname'].duplicated().any()\n",
        "boolean"
      ],
      "execution_count": 33,
      "outputs": [
        {
          "output_type": "execute_result",
          "data": {
            "text/plain": [
              "True"
            ]
          },
          "metadata": {
            "tags": []
          },
          "execution_count": 33
        }
      ]
    },
    {
      "cell_type": "code",
      "metadata": {
        "id": "KTOo7ugMB3B8",
        "colab_type": "code",
        "colab": {}
      },
      "source": [
        "## Dropping other irrelevant columns\n",
        "bank_df.drop([\"RowNumber\"], axis=1, inplace=True)"
      ],
      "execution_count": 0,
      "outputs": []
    },
    {
      "cell_type": "code",
      "metadata": {
        "id": "QQud9S0iFO5B",
        "colab_type": "code",
        "colab": {}
      },
      "source": [
        "bank_df.drop([\"Surname\"], axis=1, inplace=True)"
      ],
      "execution_count": 0,
      "outputs": []
    },
    {
      "cell_type": "code",
      "metadata": {
        "id": "r6ZPGKqUxWdD",
        "colab_type": "code",
        "outputId": "8a9be34e-b8a3-4f6e-ad80-a879a609c7cf",
        "colab": {
          "base_uri": "https://localhost:8080/",
          "height": 204
        }
      },
      "source": [
        "bank_df.head()"
      ],
      "execution_count": 36,
      "outputs": [
        {
          "output_type": "execute_result",
          "data": {
            "text/html": [
              "<div>\n",
              "<style scoped>\n",
              "    .dataframe tbody tr th:only-of-type {\n",
              "        vertical-align: middle;\n",
              "    }\n",
              "\n",
              "    .dataframe tbody tr th {\n",
              "        vertical-align: top;\n",
              "    }\n",
              "\n",
              "    .dataframe thead th {\n",
              "        text-align: right;\n",
              "    }\n",
              "</style>\n",
              "<table border=\"1\" class=\"dataframe\">\n",
              "  <thead>\n",
              "    <tr style=\"text-align: right;\">\n",
              "      <th></th>\n",
              "      <th>CreditScore</th>\n",
              "      <th>Geography</th>\n",
              "      <th>Gender</th>\n",
              "      <th>Age</th>\n",
              "      <th>Tenure</th>\n",
              "      <th>Balance</th>\n",
              "      <th>NumOfProducts</th>\n",
              "      <th>HasCrCard</th>\n",
              "      <th>IsActiveMember</th>\n",
              "      <th>EstimatedSalary</th>\n",
              "      <th>Exited</th>\n",
              "    </tr>\n",
              "  </thead>\n",
              "  <tbody>\n",
              "    <tr>\n",
              "      <th>0</th>\n",
              "      <td>619</td>\n",
              "      <td>France</td>\n",
              "      <td>Female</td>\n",
              "      <td>42</td>\n",
              "      <td>2</td>\n",
              "      <td>0.00</td>\n",
              "      <td>1</td>\n",
              "      <td>1</td>\n",
              "      <td>1</td>\n",
              "      <td>101348.88</td>\n",
              "      <td>1</td>\n",
              "    </tr>\n",
              "    <tr>\n",
              "      <th>1</th>\n",
              "      <td>608</td>\n",
              "      <td>Spain</td>\n",
              "      <td>Female</td>\n",
              "      <td>41</td>\n",
              "      <td>1</td>\n",
              "      <td>83807.86</td>\n",
              "      <td>1</td>\n",
              "      <td>0</td>\n",
              "      <td>1</td>\n",
              "      <td>112542.58</td>\n",
              "      <td>0</td>\n",
              "    </tr>\n",
              "    <tr>\n",
              "      <th>2</th>\n",
              "      <td>502</td>\n",
              "      <td>France</td>\n",
              "      <td>Female</td>\n",
              "      <td>42</td>\n",
              "      <td>8</td>\n",
              "      <td>159660.80</td>\n",
              "      <td>3</td>\n",
              "      <td>1</td>\n",
              "      <td>0</td>\n",
              "      <td>113931.57</td>\n",
              "      <td>1</td>\n",
              "    </tr>\n",
              "    <tr>\n",
              "      <th>3</th>\n",
              "      <td>699</td>\n",
              "      <td>France</td>\n",
              "      <td>Female</td>\n",
              "      <td>39</td>\n",
              "      <td>1</td>\n",
              "      <td>0.00</td>\n",
              "      <td>2</td>\n",
              "      <td>0</td>\n",
              "      <td>0</td>\n",
              "      <td>93826.63</td>\n",
              "      <td>0</td>\n",
              "    </tr>\n",
              "    <tr>\n",
              "      <th>4</th>\n",
              "      <td>850</td>\n",
              "      <td>Spain</td>\n",
              "      <td>Female</td>\n",
              "      <td>43</td>\n",
              "      <td>2</td>\n",
              "      <td>125510.82</td>\n",
              "      <td>1</td>\n",
              "      <td>1</td>\n",
              "      <td>1</td>\n",
              "      <td>79084.10</td>\n",
              "      <td>0</td>\n",
              "    </tr>\n",
              "  </tbody>\n",
              "</table>\n",
              "</div>"
            ],
            "text/plain": [
              "   CreditScore Geography  Gender  ...  IsActiveMember  EstimatedSalary  Exited\n",
              "0          619    France  Female  ...               1        101348.88       1\n",
              "1          608     Spain  Female  ...               1        112542.58       0\n",
              "2          502    France  Female  ...               0        113931.57       1\n",
              "3          699    France  Female  ...               0         93826.63       0\n",
              "4          850     Spain  Female  ...               1         79084.10       0\n",
              "\n",
              "[5 rows x 11 columns]"
            ]
          },
          "metadata": {
            "tags": []
          },
          "execution_count": 36
        }
      ]
    },
    {
      "cell_type": "code",
      "metadata": {
        "id": "EER_unE9CQf-",
        "colab_type": "code",
        "outputId": "2bf04d26-7655-4f33-c03e-d43577dac5a1",
        "colab": {
          "base_uri": "https://localhost:8080/",
          "height": 289
        }
      },
      "source": [
        "bank_df.info()"
      ],
      "execution_count": 37,
      "outputs": [
        {
          "output_type": "stream",
          "text": [
            "<class 'pandas.core.frame.DataFrame'>\n",
            "RangeIndex: 10000 entries, 0 to 9999\n",
            "Data columns (total 11 columns):\n",
            "CreditScore        10000 non-null int64\n",
            "Geography          10000 non-null object\n",
            "Gender             10000 non-null object\n",
            "Age                10000 non-null int64\n",
            "Tenure             10000 non-null int64\n",
            "Balance            10000 non-null float64\n",
            "NumOfProducts      10000 non-null int64\n",
            "HasCrCard          10000 non-null int64\n",
            "IsActiveMember     10000 non-null int64\n",
            "EstimatedSalary    10000 non-null float64\n",
            "Exited             10000 non-null int64\n",
            "dtypes: float64(2), int64(7), object(2)\n",
            "memory usage: 859.5+ KB\n"
          ],
          "name": "stdout"
        }
      ]
    },
    {
      "cell_type": "code",
      "metadata": {
        "id": "KmE5ZYYWCQit",
        "colab_type": "code",
        "outputId": "a4be0a4d-511f-4fba-f4ad-a62218fe62ae",
        "colab": {
          "base_uri": "https://localhost:8080/",
          "height": 221
        }
      },
      "source": [
        "bank_df.isnull().sum() ## No null values"
      ],
      "execution_count": 38,
      "outputs": [
        {
          "output_type": "execute_result",
          "data": {
            "text/plain": [
              "CreditScore        0\n",
              "Geography          0\n",
              "Gender             0\n",
              "Age                0\n",
              "Tenure             0\n",
              "Balance            0\n",
              "NumOfProducts      0\n",
              "HasCrCard          0\n",
              "IsActiveMember     0\n",
              "EstimatedSalary    0\n",
              "Exited             0\n",
              "dtype: int64"
            ]
          },
          "metadata": {
            "tags": []
          },
          "execution_count": 38
        }
      ]
    },
    {
      "cell_type": "code",
      "metadata": {
        "id": "lWgYkT7NCQok",
        "colab_type": "code",
        "colab": {}
      },
      "source": [
        "#3. Distinguish the feature and target set (2.5 points)"
      ],
      "execution_count": 0,
      "outputs": []
    },
    {
      "cell_type": "code",
      "metadata": {
        "id": "4I9XejzRCQrq",
        "colab_type": "code",
        "colab": {}
      },
      "source": [
        "X= bank_df.iloc[:,:10]\n",
        "Y= (bank_df.Exited)"
      ],
      "execution_count": 0,
      "outputs": []
    },
    {
      "cell_type": "code",
      "metadata": {
        "id": "eNLFz_emCQxG",
        "colab_type": "code",
        "outputId": "e05cd2ef-66cf-4e58-dc06-5f358ed08c3b",
        "colab": {
          "base_uri": "https://localhost:8080/",
          "height": 204
        }
      },
      "source": [
        "X.head()"
      ],
      "execution_count": 48,
      "outputs": [
        {
          "output_type": "execute_result",
          "data": {
            "text/html": [
              "<div>\n",
              "<style scoped>\n",
              "    .dataframe tbody tr th:only-of-type {\n",
              "        vertical-align: middle;\n",
              "    }\n",
              "\n",
              "    .dataframe tbody tr th {\n",
              "        vertical-align: top;\n",
              "    }\n",
              "\n",
              "    .dataframe thead th {\n",
              "        text-align: right;\n",
              "    }\n",
              "</style>\n",
              "<table border=\"1\" class=\"dataframe\">\n",
              "  <thead>\n",
              "    <tr style=\"text-align: right;\">\n",
              "      <th></th>\n",
              "      <th>CreditScore</th>\n",
              "      <th>Geography</th>\n",
              "      <th>Gender</th>\n",
              "      <th>Age</th>\n",
              "      <th>Tenure</th>\n",
              "      <th>Balance</th>\n",
              "      <th>NumOfProducts</th>\n",
              "      <th>HasCrCard</th>\n",
              "      <th>IsActiveMember</th>\n",
              "      <th>EstimatedSalary</th>\n",
              "    </tr>\n",
              "  </thead>\n",
              "  <tbody>\n",
              "    <tr>\n",
              "      <th>0</th>\n",
              "      <td>619</td>\n",
              "      <td>0</td>\n",
              "      <td>0</td>\n",
              "      <td>42</td>\n",
              "      <td>2</td>\n",
              "      <td>0.00</td>\n",
              "      <td>1</td>\n",
              "      <td>1</td>\n",
              "      <td>1</td>\n",
              "      <td>101348.88</td>\n",
              "    </tr>\n",
              "    <tr>\n",
              "      <th>1</th>\n",
              "      <td>608</td>\n",
              "      <td>2</td>\n",
              "      <td>0</td>\n",
              "      <td>41</td>\n",
              "      <td>1</td>\n",
              "      <td>83807.86</td>\n",
              "      <td>1</td>\n",
              "      <td>0</td>\n",
              "      <td>1</td>\n",
              "      <td>112542.58</td>\n",
              "    </tr>\n",
              "    <tr>\n",
              "      <th>2</th>\n",
              "      <td>502</td>\n",
              "      <td>0</td>\n",
              "      <td>0</td>\n",
              "      <td>42</td>\n",
              "      <td>8</td>\n",
              "      <td>159660.80</td>\n",
              "      <td>3</td>\n",
              "      <td>1</td>\n",
              "      <td>0</td>\n",
              "      <td>113931.57</td>\n",
              "    </tr>\n",
              "    <tr>\n",
              "      <th>3</th>\n",
              "      <td>699</td>\n",
              "      <td>0</td>\n",
              "      <td>0</td>\n",
              "      <td>39</td>\n",
              "      <td>1</td>\n",
              "      <td>0.00</td>\n",
              "      <td>2</td>\n",
              "      <td>0</td>\n",
              "      <td>0</td>\n",
              "      <td>93826.63</td>\n",
              "    </tr>\n",
              "    <tr>\n",
              "      <th>4</th>\n",
              "      <td>850</td>\n",
              "      <td>2</td>\n",
              "      <td>0</td>\n",
              "      <td>43</td>\n",
              "      <td>2</td>\n",
              "      <td>125510.82</td>\n",
              "      <td>1</td>\n",
              "      <td>1</td>\n",
              "      <td>1</td>\n",
              "      <td>79084.10</td>\n",
              "    </tr>\n",
              "  </tbody>\n",
              "</table>\n",
              "</div>"
            ],
            "text/plain": [
              "   CreditScore  Geography  Gender  ...  HasCrCard  IsActiveMember  EstimatedSalary\n",
              "0          619          0       0  ...          1               1        101348.88\n",
              "1          608          2       0  ...          0               1        112542.58\n",
              "2          502          0       0  ...          1               0        113931.57\n",
              "3          699          0       0  ...          0               0         93826.63\n",
              "4          850          2       0  ...          1               1         79084.10\n",
              "\n",
              "[5 rows x 10 columns]"
            ]
          },
          "metadata": {
            "tags": []
          },
          "execution_count": 48
        }
      ]
    },
    {
      "cell_type": "code",
      "metadata": {
        "id": "k8EQm9ePYJdp",
        "colab_type": "code",
        "outputId": "6f56c387-a758-4a72-936c-dc5eda1ecef6",
        "colab": {
          "base_uri": "https://localhost:8080/",
          "height": 359
        }
      },
      "source": [
        "#Apply Label Encoder \n",
        "from sklearn.preprocessing import LabelEncoder\n",
        "le= LabelEncoder()\n",
        "bank_df['Gender'] = le.fit_transform(bank_df['Gender'])\n",
        "bank_df['Geography'] = le.fit_transform(bank_df['Geography'])\n",
        "\n",
        "bank_df.head(10)"
      ],
      "execution_count": 49,
      "outputs": [
        {
          "output_type": "execute_result",
          "data": {
            "text/html": [
              "<div>\n",
              "<style scoped>\n",
              "    .dataframe tbody tr th:only-of-type {\n",
              "        vertical-align: middle;\n",
              "    }\n",
              "\n",
              "    .dataframe tbody tr th {\n",
              "        vertical-align: top;\n",
              "    }\n",
              "\n",
              "    .dataframe thead th {\n",
              "        text-align: right;\n",
              "    }\n",
              "</style>\n",
              "<table border=\"1\" class=\"dataframe\">\n",
              "  <thead>\n",
              "    <tr style=\"text-align: right;\">\n",
              "      <th></th>\n",
              "      <th>CreditScore</th>\n",
              "      <th>Geography</th>\n",
              "      <th>Gender</th>\n",
              "      <th>Age</th>\n",
              "      <th>Tenure</th>\n",
              "      <th>Balance</th>\n",
              "      <th>NumOfProducts</th>\n",
              "      <th>HasCrCard</th>\n",
              "      <th>IsActiveMember</th>\n",
              "      <th>EstimatedSalary</th>\n",
              "      <th>Exited</th>\n",
              "    </tr>\n",
              "  </thead>\n",
              "  <tbody>\n",
              "    <tr>\n",
              "      <th>0</th>\n",
              "      <td>619</td>\n",
              "      <td>0</td>\n",
              "      <td>0</td>\n",
              "      <td>42</td>\n",
              "      <td>2</td>\n",
              "      <td>0.00</td>\n",
              "      <td>1</td>\n",
              "      <td>1</td>\n",
              "      <td>1</td>\n",
              "      <td>101348.88</td>\n",
              "      <td>1</td>\n",
              "    </tr>\n",
              "    <tr>\n",
              "      <th>1</th>\n",
              "      <td>608</td>\n",
              "      <td>2</td>\n",
              "      <td>0</td>\n",
              "      <td>41</td>\n",
              "      <td>1</td>\n",
              "      <td>83807.86</td>\n",
              "      <td>1</td>\n",
              "      <td>0</td>\n",
              "      <td>1</td>\n",
              "      <td>112542.58</td>\n",
              "      <td>0</td>\n",
              "    </tr>\n",
              "    <tr>\n",
              "      <th>2</th>\n",
              "      <td>502</td>\n",
              "      <td>0</td>\n",
              "      <td>0</td>\n",
              "      <td>42</td>\n",
              "      <td>8</td>\n",
              "      <td>159660.80</td>\n",
              "      <td>3</td>\n",
              "      <td>1</td>\n",
              "      <td>0</td>\n",
              "      <td>113931.57</td>\n",
              "      <td>1</td>\n",
              "    </tr>\n",
              "    <tr>\n",
              "      <th>3</th>\n",
              "      <td>699</td>\n",
              "      <td>0</td>\n",
              "      <td>0</td>\n",
              "      <td>39</td>\n",
              "      <td>1</td>\n",
              "      <td>0.00</td>\n",
              "      <td>2</td>\n",
              "      <td>0</td>\n",
              "      <td>0</td>\n",
              "      <td>93826.63</td>\n",
              "      <td>0</td>\n",
              "    </tr>\n",
              "    <tr>\n",
              "      <th>4</th>\n",
              "      <td>850</td>\n",
              "      <td>2</td>\n",
              "      <td>0</td>\n",
              "      <td>43</td>\n",
              "      <td>2</td>\n",
              "      <td>125510.82</td>\n",
              "      <td>1</td>\n",
              "      <td>1</td>\n",
              "      <td>1</td>\n",
              "      <td>79084.10</td>\n",
              "      <td>0</td>\n",
              "    </tr>\n",
              "    <tr>\n",
              "      <th>5</th>\n",
              "      <td>645</td>\n",
              "      <td>2</td>\n",
              "      <td>1</td>\n",
              "      <td>44</td>\n",
              "      <td>8</td>\n",
              "      <td>113755.78</td>\n",
              "      <td>2</td>\n",
              "      <td>1</td>\n",
              "      <td>0</td>\n",
              "      <td>149756.71</td>\n",
              "      <td>1</td>\n",
              "    </tr>\n",
              "    <tr>\n",
              "      <th>6</th>\n",
              "      <td>822</td>\n",
              "      <td>0</td>\n",
              "      <td>1</td>\n",
              "      <td>50</td>\n",
              "      <td>7</td>\n",
              "      <td>0.00</td>\n",
              "      <td>2</td>\n",
              "      <td>1</td>\n",
              "      <td>1</td>\n",
              "      <td>10062.80</td>\n",
              "      <td>0</td>\n",
              "    </tr>\n",
              "    <tr>\n",
              "      <th>7</th>\n",
              "      <td>376</td>\n",
              "      <td>1</td>\n",
              "      <td>0</td>\n",
              "      <td>29</td>\n",
              "      <td>4</td>\n",
              "      <td>115046.74</td>\n",
              "      <td>4</td>\n",
              "      <td>1</td>\n",
              "      <td>0</td>\n",
              "      <td>119346.88</td>\n",
              "      <td>1</td>\n",
              "    </tr>\n",
              "    <tr>\n",
              "      <th>8</th>\n",
              "      <td>501</td>\n",
              "      <td>0</td>\n",
              "      <td>1</td>\n",
              "      <td>44</td>\n",
              "      <td>4</td>\n",
              "      <td>142051.07</td>\n",
              "      <td>2</td>\n",
              "      <td>0</td>\n",
              "      <td>1</td>\n",
              "      <td>74940.50</td>\n",
              "      <td>0</td>\n",
              "    </tr>\n",
              "    <tr>\n",
              "      <th>9</th>\n",
              "      <td>684</td>\n",
              "      <td>0</td>\n",
              "      <td>1</td>\n",
              "      <td>27</td>\n",
              "      <td>2</td>\n",
              "      <td>134603.88</td>\n",
              "      <td>1</td>\n",
              "      <td>1</td>\n",
              "      <td>1</td>\n",
              "      <td>71725.73</td>\n",
              "      <td>0</td>\n",
              "    </tr>\n",
              "  </tbody>\n",
              "</table>\n",
              "</div>"
            ],
            "text/plain": [
              "   CreditScore  Geography  Gender  ...  IsActiveMember  EstimatedSalary  Exited\n",
              "0          619          0       0  ...               1        101348.88       1\n",
              "1          608          2       0  ...               1        112542.58       0\n",
              "2          502          0       0  ...               0        113931.57       1\n",
              "3          699          0       0  ...               0         93826.63       0\n",
              "4          850          2       0  ...               1         79084.10       0\n",
              "5          645          2       1  ...               0        149756.71       1\n",
              "6          822          0       1  ...               1         10062.80       0\n",
              "7          376          1       0  ...               0        119346.88       1\n",
              "8          501          0       1  ...               1         74940.50       0\n",
              "9          684          0       1  ...               1         71725.73       0\n",
              "\n",
              "[10 rows x 11 columns]"
            ]
          },
          "metadata": {
            "tags": []
          },
          "execution_count": 49
        }
      ]
    },
    {
      "cell_type": "code",
      "metadata": {
        "id": "gnTekQTYCQmJ",
        "colab_type": "code",
        "outputId": "f08cd4d5-aaf0-4cf4-8572-07907e2c9848",
        "colab": {
          "base_uri": "https://localhost:8080/",
          "height": 34
        }
      },
      "source": [
        "from sklearn.model_selection import train_test_split\n",
        "X_train, X_test,Y_train, Y_test= train_test_split(X, Y, test_size=0.20, random_state=1, stratify=Y)\n",
        "X_train.shape\n"
      ],
      "execution_count": 50,
      "outputs": [
        {
          "output_type": "execute_result",
          "data": {
            "text/plain": [
              "(8000, 10)"
            ]
          },
          "metadata": {
            "tags": []
          },
          "execution_count": 50
        }
      ]
    },
    {
      "cell_type": "code",
      "metadata": {
        "id": "WB5Y_9JYxWXX",
        "colab_type": "code",
        "colab": {}
      },
      "source": [
        "#5. Normalize the train and test data (2.5 points)\n",
        "# normalising using standard scalar\n",
        "from sklearn.preprocessing import StandardScaler\n",
        "\n",
        "# Define the scaler \n",
        "scaler = StandardScaler().fit(X_train)\n",
        "\n",
        "#transform the x_train\n",
        "X_train_std= scaler.transform(X_train)\n",
        "\n",
        "X_test_std=scaler.transform(X_test)\n",
        "\n",
        "Y_train_array= np.asarray(Y_train)\n",
        "\n",
        "Y_test_array=np.asarray(Y_test)"
      ],
      "execution_count": 0,
      "outputs": []
    },
    {
      "cell_type": "code",
      "metadata": {
        "id": "lNwGMBJKxCnk",
        "colab_type": "code",
        "colab": {}
      },
      "source": [
        "from sklearn import metrics\n",
        "import matplotlib.pyplot as plt\n",
        "%matplotlib inline\n",
        "from sklearn import metrics\n",
        "\n",
        "\n",
        "# Using Tensorflow Keras instead of the original Keras\n",
        "from tensorflow.keras import Sequential\n",
        "from tensorflow.keras.layers import Dense"
      ],
      "execution_count": 0,
      "outputs": []
    },
    {
      "cell_type": "code",
      "metadata": {
        "id": "2PXz7OYwxWPZ",
        "colab_type": "code",
        "colab": {}
      },
      "source": [
        "#6. Initialize & build the model (7.5 points)\n",
        "#Initialize Sequential Graph (model)\n",
        "\n",
        "from tensorflow.keras.layers import BatchNormalization \n",
        "\n",
        "model = Sequential()\n",
        "model = Sequential()\n",
        "model.add(Dense(12,activation='relu'))\n",
        "model.add(BatchNormalization())\n",
        "model.add(Dense(288,activation='relu'))\n",
        "model.add(Dense(144,activation='sigmoid'))\n",
        "model.add(Dense(1,activation='sigmoid'))"
      ],
      "execution_count": 0,
      "outputs": []
    },
    {
      "cell_type": "code",
      "metadata": {
        "id": "KoD25Na8w3Mx",
        "colab_type": "code",
        "colab": {}
      },
      "source": [
        "model.compile(loss='binary_crossentropy',optimizer='adam',metrics=['accuracy'])\n",
        "\n",
        "epochs = 100\n",
        "batch_size = 1000"
      ],
      "execution_count": 0,
      "outputs": []
    },
    {
      "cell_type": "code",
      "metadata": {
        "id": "DKM3uiMnw3Rb",
        "colab_type": "code",
        "outputId": "85a814c9-ca0b-4c7f-a2ca-f770ca34a816",
        "colab": {
          "base_uri": "https://localhost:8080/",
          "height": 1000
        }
      },
      "source": [
        "history = model.fit(X_train_std, Y_train_array, batch_size=batch_size, epochs=epochs, validation_split=.2, verbose=True)\n",
        "loss,accuracy  = model.evaluate(X_test_std, Y_test_array, verbose=False)"
      ],
      "execution_count": 55,
      "outputs": [
        {
          "output_type": "stream",
          "text": [
            "Train on 6400 samples, validate on 1600 samples\n",
            "Epoch 1/100\n",
            "6400/6400 [==============================] - 1s 163us/sample - loss: 0.5163 - accuracy: 0.7977 - val_loss: 0.5006 - val_accuracy: 0.7906\n",
            "Epoch 2/100\n",
            "6400/6400 [==============================] - 0s 14us/sample - loss: 0.4841 - accuracy: 0.7977 - val_loss: 0.4843 - val_accuracy: 0.7906\n",
            "Epoch 3/100\n",
            "6400/6400 [==============================] - 0s 14us/sample - loss: 0.4680 - accuracy: 0.7978 - val_loss: 0.4742 - val_accuracy: 0.7906\n",
            "Epoch 4/100\n",
            "6400/6400 [==============================] - 0s 14us/sample - loss: 0.4578 - accuracy: 0.8006 - val_loss: 0.4658 - val_accuracy: 0.7906\n",
            "Epoch 5/100\n",
            "6400/6400 [==============================] - 0s 14us/sample - loss: 0.4492 - accuracy: 0.8011 - val_loss: 0.4603 - val_accuracy: 0.7906\n",
            "Epoch 6/100\n",
            "6400/6400 [==============================] - 0s 14us/sample - loss: 0.4414 - accuracy: 0.8039 - val_loss: 0.4539 - val_accuracy: 0.7919\n",
            "Epoch 7/100\n",
            "6400/6400 [==============================] - 0s 15us/sample - loss: 0.4346 - accuracy: 0.8098 - val_loss: 0.4473 - val_accuracy: 0.7931\n",
            "Epoch 8/100\n",
            "6400/6400 [==============================] - 0s 15us/sample - loss: 0.4281 - accuracy: 0.8134 - val_loss: 0.4416 - val_accuracy: 0.7956\n",
            "Epoch 9/100\n",
            "6400/6400 [==============================] - 0s 14us/sample - loss: 0.4223 - accuracy: 0.8163 - val_loss: 0.4358 - val_accuracy: 0.7994\n",
            "Epoch 10/100\n",
            "6400/6400 [==============================] - 0s 14us/sample - loss: 0.4160 - accuracy: 0.8172 - val_loss: 0.4324 - val_accuracy: 0.8000\n",
            "Epoch 11/100\n",
            "6400/6400 [==============================] - 0s 15us/sample - loss: 0.4094 - accuracy: 0.8227 - val_loss: 0.4255 - val_accuracy: 0.8100\n",
            "Epoch 12/100\n",
            "6400/6400 [==============================] - 0s 15us/sample - loss: 0.4035 - accuracy: 0.8267 - val_loss: 0.4212 - val_accuracy: 0.8100\n",
            "Epoch 13/100\n",
            "6400/6400 [==============================] - 0s 14us/sample - loss: 0.3983 - accuracy: 0.8294 - val_loss: 0.4144 - val_accuracy: 0.8150\n",
            "Epoch 14/100\n",
            "6400/6400 [==============================] - 0s 15us/sample - loss: 0.3917 - accuracy: 0.8328 - val_loss: 0.4079 - val_accuracy: 0.8238\n",
            "Epoch 15/100\n",
            "6400/6400 [==============================] - 0s 15us/sample - loss: 0.3860 - accuracy: 0.8333 - val_loss: 0.4013 - val_accuracy: 0.8288\n",
            "Epoch 16/100\n",
            "6400/6400 [==============================] - 0s 14us/sample - loss: 0.3812 - accuracy: 0.8367 - val_loss: 0.3962 - val_accuracy: 0.8331\n",
            "Epoch 17/100\n",
            "6400/6400 [==============================] - 0s 14us/sample - loss: 0.3761 - accuracy: 0.8397 - val_loss: 0.3915 - val_accuracy: 0.8325\n",
            "Epoch 18/100\n",
            "6400/6400 [==============================] - 0s 14us/sample - loss: 0.3714 - accuracy: 0.8433 - val_loss: 0.3874 - val_accuracy: 0.8381\n",
            "Epoch 19/100\n",
            "6400/6400 [==============================] - 0s 14us/sample - loss: 0.3674 - accuracy: 0.8456 - val_loss: 0.3832 - val_accuracy: 0.8375\n",
            "Epoch 20/100\n",
            "6400/6400 [==============================] - 0s 14us/sample - loss: 0.3645 - accuracy: 0.8472 - val_loss: 0.3804 - val_accuracy: 0.8375\n",
            "Epoch 21/100\n",
            "6400/6400 [==============================] - 0s 14us/sample - loss: 0.3607 - accuracy: 0.8509 - val_loss: 0.3769 - val_accuracy: 0.8400\n",
            "Epoch 22/100\n",
            "6400/6400 [==============================] - 0s 14us/sample - loss: 0.3576 - accuracy: 0.8505 - val_loss: 0.3747 - val_accuracy: 0.8413\n",
            "Epoch 23/100\n",
            "6400/6400 [==============================] - 0s 14us/sample - loss: 0.3565 - accuracy: 0.8519 - val_loss: 0.3714 - val_accuracy: 0.8425\n",
            "Epoch 24/100\n",
            "6400/6400 [==============================] - 0s 14us/sample - loss: 0.3540 - accuracy: 0.8511 - val_loss: 0.3710 - val_accuracy: 0.8419\n",
            "Epoch 25/100\n",
            "6400/6400 [==============================] - 0s 14us/sample - loss: 0.3523 - accuracy: 0.8516 - val_loss: 0.3701 - val_accuracy: 0.8400\n",
            "Epoch 26/100\n",
            "6400/6400 [==============================] - 0s 15us/sample - loss: 0.3513 - accuracy: 0.8544 - val_loss: 0.3674 - val_accuracy: 0.8425\n",
            "Epoch 27/100\n",
            "6400/6400 [==============================] - 0s 14us/sample - loss: 0.3486 - accuracy: 0.8541 - val_loss: 0.3639 - val_accuracy: 0.8431\n",
            "Epoch 28/100\n",
            "6400/6400 [==============================] - 0s 14us/sample - loss: 0.3470 - accuracy: 0.8566 - val_loss: 0.3648 - val_accuracy: 0.8456\n",
            "Epoch 29/100\n",
            "6400/6400 [==============================] - 0s 15us/sample - loss: 0.3462 - accuracy: 0.8581 - val_loss: 0.3627 - val_accuracy: 0.8431\n",
            "Epoch 30/100\n",
            "6400/6400 [==============================] - 0s 15us/sample - loss: 0.3451 - accuracy: 0.8553 - val_loss: 0.3622 - val_accuracy: 0.8456\n",
            "Epoch 31/100\n",
            "6400/6400 [==============================] - 0s 16us/sample - loss: 0.3453 - accuracy: 0.8587 - val_loss: 0.3603 - val_accuracy: 0.8419\n",
            "Epoch 32/100\n",
            "6400/6400 [==============================] - 0s 15us/sample - loss: 0.3441 - accuracy: 0.8572 - val_loss: 0.3612 - val_accuracy: 0.8394\n",
            "Epoch 33/100\n",
            "6400/6400 [==============================] - 0s 13us/sample - loss: 0.3424 - accuracy: 0.8572 - val_loss: 0.3593 - val_accuracy: 0.8450\n",
            "Epoch 34/100\n",
            "6400/6400 [==============================] - 0s 13us/sample - loss: 0.3409 - accuracy: 0.8600 - val_loss: 0.3570 - val_accuracy: 0.8469\n",
            "Epoch 35/100\n",
            "6400/6400 [==============================] - 0s 14us/sample - loss: 0.3407 - accuracy: 0.8577 - val_loss: 0.3584 - val_accuracy: 0.8475\n",
            "Epoch 36/100\n",
            "6400/6400 [==============================] - 0s 13us/sample - loss: 0.3392 - accuracy: 0.8598 - val_loss: 0.3572 - val_accuracy: 0.8456\n",
            "Epoch 37/100\n",
            "6400/6400 [==============================] - 0s 14us/sample - loss: 0.3385 - accuracy: 0.8566 - val_loss: 0.3564 - val_accuracy: 0.8487\n",
            "Epoch 38/100\n",
            "6400/6400 [==============================] - 0s 14us/sample - loss: 0.3369 - accuracy: 0.8583 - val_loss: 0.3568 - val_accuracy: 0.8450\n",
            "Epoch 39/100\n",
            "6400/6400 [==============================] - 0s 14us/sample - loss: 0.3358 - accuracy: 0.8600 - val_loss: 0.3563 - val_accuracy: 0.8444\n",
            "Epoch 40/100\n",
            "6400/6400 [==============================] - 0s 14us/sample - loss: 0.3351 - accuracy: 0.8614 - val_loss: 0.3567 - val_accuracy: 0.8444\n",
            "Epoch 41/100\n",
            "6400/6400 [==============================] - 0s 14us/sample - loss: 0.3333 - accuracy: 0.8608 - val_loss: 0.3568 - val_accuracy: 0.8431\n",
            "Epoch 42/100\n",
            "6400/6400 [==============================] - 0s 14us/sample - loss: 0.3334 - accuracy: 0.8614 - val_loss: 0.3574 - val_accuracy: 0.8462\n",
            "Epoch 43/100\n",
            "6400/6400 [==============================] - 0s 14us/sample - loss: 0.3340 - accuracy: 0.8617 - val_loss: 0.3549 - val_accuracy: 0.8469\n",
            "Epoch 44/100\n",
            "6400/6400 [==============================] - 0s 14us/sample - loss: 0.3320 - accuracy: 0.8600 - val_loss: 0.3549 - val_accuracy: 0.8475\n",
            "Epoch 45/100\n",
            "6400/6400 [==============================] - 0s 13us/sample - loss: 0.3330 - accuracy: 0.8623 - val_loss: 0.3546 - val_accuracy: 0.8462\n",
            "Epoch 46/100\n",
            "6400/6400 [==============================] - 0s 13us/sample - loss: 0.3308 - accuracy: 0.8611 - val_loss: 0.3543 - val_accuracy: 0.8481\n",
            "Epoch 47/100\n",
            "6400/6400 [==============================] - 0s 15us/sample - loss: 0.3301 - accuracy: 0.8625 - val_loss: 0.3537 - val_accuracy: 0.8469\n",
            "Epoch 48/100\n",
            "6400/6400 [==============================] - 0s 14us/sample - loss: 0.3291 - accuracy: 0.8620 - val_loss: 0.3551 - val_accuracy: 0.8512\n",
            "Epoch 49/100\n",
            "6400/6400 [==============================] - 0s 14us/sample - loss: 0.3288 - accuracy: 0.8647 - val_loss: 0.3537 - val_accuracy: 0.8481\n",
            "Epoch 50/100\n",
            "6400/6400 [==============================] - 0s 14us/sample - loss: 0.3278 - accuracy: 0.8619 - val_loss: 0.3536 - val_accuracy: 0.8500\n",
            "Epoch 51/100\n",
            "6400/6400 [==============================] - 0s 14us/sample - loss: 0.3267 - accuracy: 0.8627 - val_loss: 0.3558 - val_accuracy: 0.8500\n",
            "Epoch 52/100\n",
            "6400/6400 [==============================] - 0s 14us/sample - loss: 0.3275 - accuracy: 0.8639 - val_loss: 0.3550 - val_accuracy: 0.8481\n",
            "Epoch 53/100\n",
            "6400/6400 [==============================] - 0s 14us/sample - loss: 0.3271 - accuracy: 0.8633 - val_loss: 0.3541 - val_accuracy: 0.8487\n",
            "Epoch 54/100\n",
            "6400/6400 [==============================] - 0s 16us/sample - loss: 0.3251 - accuracy: 0.8666 - val_loss: 0.3547 - val_accuracy: 0.8462\n",
            "Epoch 55/100\n",
            "6400/6400 [==============================] - 0s 15us/sample - loss: 0.3250 - accuracy: 0.8650 - val_loss: 0.3542 - val_accuracy: 0.8456\n",
            "Epoch 56/100\n",
            "6400/6400 [==============================] - 0s 14us/sample - loss: 0.3251 - accuracy: 0.8644 - val_loss: 0.3536 - val_accuracy: 0.8531\n",
            "Epoch 57/100\n",
            "6400/6400 [==============================] - 0s 13us/sample - loss: 0.3232 - accuracy: 0.8678 - val_loss: 0.3549 - val_accuracy: 0.8444\n",
            "Epoch 58/100\n",
            "6400/6400 [==============================] - 0s 14us/sample - loss: 0.3226 - accuracy: 0.8650 - val_loss: 0.3550 - val_accuracy: 0.8456\n",
            "Epoch 59/100\n",
            "6400/6400 [==============================] - 0s 14us/sample - loss: 0.3218 - accuracy: 0.8675 - val_loss: 0.3540 - val_accuracy: 0.8487\n",
            "Epoch 60/100\n",
            "6400/6400 [==============================] - 0s 13us/sample - loss: 0.3223 - accuracy: 0.8675 - val_loss: 0.3548 - val_accuracy: 0.8469\n",
            "Epoch 61/100\n",
            "6400/6400 [==============================] - 0s 14us/sample - loss: 0.3216 - accuracy: 0.8686 - val_loss: 0.3541 - val_accuracy: 0.8494\n",
            "Epoch 62/100\n",
            "6400/6400 [==============================] - 0s 14us/sample - loss: 0.3201 - accuracy: 0.8675 - val_loss: 0.3559 - val_accuracy: 0.8475\n",
            "Epoch 63/100\n",
            "6400/6400 [==============================] - 0s 14us/sample - loss: 0.3202 - accuracy: 0.8670 - val_loss: 0.3554 - val_accuracy: 0.8431\n",
            "Epoch 64/100\n",
            "6400/6400 [==============================] - 0s 14us/sample - loss: 0.3194 - accuracy: 0.8672 - val_loss: 0.3550 - val_accuracy: 0.8500\n",
            "Epoch 65/100\n",
            "6400/6400 [==============================] - 0s 14us/sample - loss: 0.3191 - accuracy: 0.8683 - val_loss: 0.3550 - val_accuracy: 0.8456\n",
            "Epoch 66/100\n",
            "6400/6400 [==============================] - 0s 13us/sample - loss: 0.3186 - accuracy: 0.8687 - val_loss: 0.3554 - val_accuracy: 0.8444\n",
            "Epoch 67/100\n",
            "6400/6400 [==============================] - 0s 13us/sample - loss: 0.3189 - accuracy: 0.8695 - val_loss: 0.3555 - val_accuracy: 0.8444\n",
            "Epoch 68/100\n",
            "6400/6400 [==============================] - 0s 15us/sample - loss: 0.3202 - accuracy: 0.8681 - val_loss: 0.3592 - val_accuracy: 0.8506\n",
            "Epoch 69/100\n",
            "6400/6400 [==============================] - 0s 15us/sample - loss: 0.3193 - accuracy: 0.8669 - val_loss: 0.3551 - val_accuracy: 0.8425\n",
            "Epoch 70/100\n",
            "6400/6400 [==============================] - 0s 15us/sample - loss: 0.3200 - accuracy: 0.8681 - val_loss: 0.3564 - val_accuracy: 0.8469\n",
            "Epoch 71/100\n",
            "6400/6400 [==============================] - 0s 14us/sample - loss: 0.3159 - accuracy: 0.8689 - val_loss: 0.3546 - val_accuracy: 0.8462\n",
            "Epoch 72/100\n",
            "6400/6400 [==============================] - 0s 14us/sample - loss: 0.3157 - accuracy: 0.8687 - val_loss: 0.3566 - val_accuracy: 0.8481\n",
            "Epoch 73/100\n",
            "6400/6400 [==============================] - 0s 14us/sample - loss: 0.3169 - accuracy: 0.8695 - val_loss: 0.3559 - val_accuracy: 0.8413\n",
            "Epoch 74/100\n",
            "6400/6400 [==============================] - 0s 15us/sample - loss: 0.3157 - accuracy: 0.8706 - val_loss: 0.3572 - val_accuracy: 0.8469\n",
            "Epoch 75/100\n",
            "6400/6400 [==============================] - 0s 14us/sample - loss: 0.3150 - accuracy: 0.8711 - val_loss: 0.3547 - val_accuracy: 0.8481\n",
            "Epoch 76/100\n",
            "6400/6400 [==============================] - 0s 14us/sample - loss: 0.3147 - accuracy: 0.8687 - val_loss: 0.3565 - val_accuracy: 0.8475\n",
            "Epoch 77/100\n",
            "6400/6400 [==============================] - 0s 14us/sample - loss: 0.3152 - accuracy: 0.8684 - val_loss: 0.3565 - val_accuracy: 0.8406\n",
            "Epoch 78/100\n",
            "6400/6400 [==============================] - 0s 14us/sample - loss: 0.3138 - accuracy: 0.8717 - val_loss: 0.3573 - val_accuracy: 0.8462\n",
            "Epoch 79/100\n",
            "6400/6400 [==============================] - 0s 14us/sample - loss: 0.3141 - accuracy: 0.8694 - val_loss: 0.3557 - val_accuracy: 0.8444\n",
            "Epoch 80/100\n",
            "6400/6400 [==============================] - 0s 14us/sample - loss: 0.3139 - accuracy: 0.8708 - val_loss: 0.3573 - val_accuracy: 0.8444\n",
            "Epoch 81/100\n",
            "6400/6400 [==============================] - 0s 14us/sample - loss: 0.3124 - accuracy: 0.8709 - val_loss: 0.3567 - val_accuracy: 0.8462\n",
            "Epoch 82/100\n",
            "6400/6400 [==============================] - 0s 17us/sample - loss: 0.3126 - accuracy: 0.8731 - val_loss: 0.3566 - val_accuracy: 0.8431\n",
            "Epoch 83/100\n",
            "6400/6400 [==============================] - 0s 15us/sample - loss: 0.3118 - accuracy: 0.8712 - val_loss: 0.3563 - val_accuracy: 0.8487\n",
            "Epoch 84/100\n",
            "6400/6400 [==============================] - 0s 14us/sample - loss: 0.3106 - accuracy: 0.8722 - val_loss: 0.3570 - val_accuracy: 0.8431\n",
            "Epoch 85/100\n",
            "6400/6400 [==============================] - 0s 15us/sample - loss: 0.3113 - accuracy: 0.8739 - val_loss: 0.3578 - val_accuracy: 0.8419\n",
            "Epoch 86/100\n",
            "6400/6400 [==============================] - 0s 15us/sample - loss: 0.3112 - accuracy: 0.8714 - val_loss: 0.3578 - val_accuracy: 0.8475\n",
            "Epoch 87/100\n",
            "6400/6400 [==============================] - 0s 14us/sample - loss: 0.3104 - accuracy: 0.8719 - val_loss: 0.3578 - val_accuracy: 0.8444\n",
            "Epoch 88/100\n",
            "6400/6400 [==============================] - 0s 15us/sample - loss: 0.3100 - accuracy: 0.8730 - val_loss: 0.3572 - val_accuracy: 0.8475\n",
            "Epoch 89/100\n",
            "6400/6400 [==============================] - 0s 15us/sample - loss: 0.3097 - accuracy: 0.8703 - val_loss: 0.3559 - val_accuracy: 0.8462\n",
            "Epoch 90/100\n",
            "6400/6400 [==============================] - 0s 15us/sample - loss: 0.3093 - accuracy: 0.8727 - val_loss: 0.3574 - val_accuracy: 0.8438\n",
            "Epoch 91/100\n",
            "6400/6400 [==============================] - 0s 14us/sample - loss: 0.3082 - accuracy: 0.8739 - val_loss: 0.3555 - val_accuracy: 0.8487\n",
            "Epoch 92/100\n",
            "6400/6400 [==============================] - 0s 15us/sample - loss: 0.3084 - accuracy: 0.8712 - val_loss: 0.3564 - val_accuracy: 0.8475\n",
            "Epoch 93/100\n",
            "6400/6400 [==============================] - 0s 15us/sample - loss: 0.3084 - accuracy: 0.8741 - val_loss: 0.3578 - val_accuracy: 0.8450\n",
            "Epoch 94/100\n",
            "6400/6400 [==============================] - 0s 15us/sample - loss: 0.3081 - accuracy: 0.8717 - val_loss: 0.3573 - val_accuracy: 0.8469\n",
            "Epoch 95/100\n",
            "6400/6400 [==============================] - 0s 14us/sample - loss: 0.3069 - accuracy: 0.8723 - val_loss: 0.3576 - val_accuracy: 0.8450\n",
            "Epoch 96/100\n",
            "6400/6400 [==============================] - 0s 14us/sample - loss: 0.3071 - accuracy: 0.8764 - val_loss: 0.3562 - val_accuracy: 0.8419\n",
            "Epoch 97/100\n",
            "6400/6400 [==============================] - 0s 15us/sample - loss: 0.3065 - accuracy: 0.8728 - val_loss: 0.3563 - val_accuracy: 0.8450\n",
            "Epoch 98/100\n",
            "6400/6400 [==============================] - 0s 14us/sample - loss: 0.3056 - accuracy: 0.8741 - val_loss: 0.3576 - val_accuracy: 0.8419\n",
            "Epoch 99/100\n",
            "6400/6400 [==============================] - 0s 14us/sample - loss: 0.3046 - accuracy: 0.8727 - val_loss: 0.3566 - val_accuracy: 0.8487\n",
            "Epoch 100/100\n",
            "6400/6400 [==============================] - 0s 14us/sample - loss: 0.3045 - accuracy: 0.8730 - val_loss: 0.3564 - val_accuracy: 0.8444\n"
          ],
          "name": "stdout"
        }
      ]
    },
    {
      "cell_type": "code",
      "metadata": {
        "id": "fS8xAZn3w3Y_",
        "colab_type": "code",
        "outputId": "feda6de2-75cb-4c91-ea20-3352f900dfbb",
        "colab": {
          "base_uri": "https://localhost:8080/",
          "height": 323
        }
      },
      "source": [
        "model.summary()"
      ],
      "execution_count": 56,
      "outputs": [
        {
          "output_type": "stream",
          "text": [
            "Model: \"sequential_1\"\n",
            "_________________________________________________________________\n",
            "Layer (type)                 Output Shape              Param #   \n",
            "=================================================================\n",
            "dense (Dense)                multiple                  132       \n",
            "_________________________________________________________________\n",
            "batch_normalization (BatchNo multiple                  48        \n",
            "_________________________________________________________________\n",
            "dense_1 (Dense)              multiple                  3744      \n",
            "_________________________________________________________________\n",
            "dense_2 (Dense)              multiple                  41616     \n",
            "_________________________________________________________________\n",
            "dense_3 (Dense)              multiple                  145       \n",
            "=================================================================\n",
            "Total params: 45,685\n",
            "Trainable params: 45,661\n",
            "Non-trainable params: 24\n",
            "_________________________________________________________________\n"
          ],
          "name": "stdout"
        }
      ]
    },
    {
      "cell_type": "code",
      "metadata": {
        "id": "dgzn3P31w37t",
        "colab_type": "code",
        "outputId": "e537cb0c-4d8c-4c78-b20d-ca8e916b752b",
        "colab": {
          "base_uri": "https://localhost:8080/",
          "height": 339
        }
      },
      "source": [
        "print(history.history['val_accuracy'])\n",
        "\n",
        "print(history.history['accuracy'])\n",
        "\n",
        "ta = pd.DataFrame(history.history['accuracy'])\n",
        "va = pd.DataFrame(history.history['val_accuracy'])\n",
        "\n",
        "tva = pd.concat([ta,va] , axis=1)\n",
        "\n",
        "tva.boxplot()"
      ],
      "execution_count": 57,
      "outputs": [
        {
          "output_type": "stream",
          "text": [
            "[0.790625, 0.790625, 0.790625, 0.790625, 0.790625, 0.791875, 0.793125, 0.795625, 0.799375, 0.8, 0.81, 0.81, 0.815, 0.82375, 0.82875, 0.833125, 0.8325, 0.838125, 0.8375, 0.8375, 0.84, 0.84125, 0.8425, 0.841875, 0.84, 0.8425, 0.843125, 0.845625, 0.843125, 0.845625, 0.841875, 0.839375, 0.845, 0.846875, 0.8475, 0.845625, 0.84875, 0.845, 0.844375, 0.844375, 0.843125, 0.84625, 0.846875, 0.8475, 0.84625, 0.848125, 0.846875, 0.85125, 0.848125, 0.85, 0.85, 0.848125, 0.84875, 0.84625, 0.845625, 0.853125, 0.844375, 0.845625, 0.84875, 0.846875, 0.849375, 0.8475, 0.843125, 0.85, 0.845625, 0.844375, 0.844375, 0.850625, 0.8425, 0.846875, 0.84625, 0.848125, 0.84125, 0.846875, 0.848125, 0.8475, 0.840625, 0.84625, 0.844375, 0.844375, 0.84625, 0.843125, 0.84875, 0.843125, 0.841875, 0.8475, 0.844375, 0.8475, 0.84625, 0.84375, 0.84875, 0.8475, 0.845, 0.846875, 0.845, 0.841875, 0.845, 0.841875, 0.84875, 0.844375]\n",
            "[0.79765624, 0.79765624, 0.7978125, 0.800625, 0.80109376, 0.80390626, 0.8098438, 0.8134375, 0.81625, 0.8171875, 0.8226563, 0.82671875, 0.829375, 0.8328125, 0.8332813, 0.83671874, 0.8396875, 0.84328127, 0.845625, 0.8471875, 0.8509375, 0.85046875, 0.851875, 0.85109377, 0.8515625, 0.854375, 0.8540625, 0.8565625, 0.858125, 0.8553125, 0.85875, 0.8571875, 0.8571875, 0.86, 0.85765624, 0.85984373, 0.8565625, 0.85828125, 0.86, 0.86140627, 0.86078125, 0.86140627, 0.8617188, 0.86, 0.8623437, 0.86109376, 0.8625, 0.8620312, 0.8646875, 0.861875, 0.86265624, 0.86390626, 0.86328125, 0.8665625, 0.865, 0.864375, 0.8678125, 0.865, 0.8675, 0.8675, 0.86859375, 0.8675, 0.8670313, 0.8671875, 0.86828125, 0.86875, 0.8695313, 0.868125, 0.866875, 0.868125, 0.86890626, 0.86875, 0.8695313, 0.870625, 0.87109375, 0.86875, 0.8684375, 0.87171876, 0.869375, 0.87078124, 0.8709375, 0.873125, 0.87125, 0.8721875, 0.87390625, 0.87140626, 0.871875, 0.87296873, 0.8703125, 0.8726562, 0.87390625, 0.87125, 0.8740625, 0.87171876, 0.8723438, 0.87640625, 0.8728125, 0.8740625, 0.8726562, 0.87296873]\n"
          ],
          "name": "stdout"
        },
        {
          "output_type": "execute_result",
          "data": {
            "text/plain": [
              "<matplotlib.axes._subplots.AxesSubplot at 0x7f701c499860>"
            ]
          },
          "metadata": {
            "tags": []
          },
          "execution_count": 57
        },
        {
          "output_type": "display_data",
          "data": {
            "image/png": "[encoded data removed]",
            "text/plain": [
              "<Figure size 432x288 with 1 Axes>"
            ]
          },
          "metadata": {
            "tags": []
          }
        }
      ]
    },
    {
      "cell_type": "code",
      "metadata": {
        "id": "uMaeM2vWw3-L",
        "colab_type": "code",
        "outputId": "ceee24df-bd10-4381-8c75-0b5496a19c7f",
        "colab": {
          "base_uri": "https://localhost:8080/",
          "height": 51
        }
      },
      "source": [
        "# Check for train and test accuracy\n",
        "loss, acc = model.evaluate(X_test_std, Y_test_array, verbose=0)\n",
        "print('Test Accuracy: %.3f' % acc)\n",
        "\n",
        "\n",
        "loss, acc = model.evaluate(X_train_std, Y_train_array, verbose=0)\n",
        "print('Train Accuracy: %.3f' % acc)"
      ],
      "execution_count": 58,
      "outputs": [
        {
          "output_type": "stream",
          "text": [
            "Test Accuracy: 0.860\n",
            "Train Accuracy: 0.868\n"
          ],
          "name": "stdout"
        }
      ]
    },
    {
      "cell_type": "code",
      "metadata": {
        "id": "KI-Va_uew4Bp",
        "colab_type": "code",
        "colab": {
          "base_uri": "https://localhost:8080/",
          "height": 170
        },
        "outputId": "88ac5bde-0716-44a0-b747-72ebf9a9a875"
      },
      "source": [
        "from sklearn import metrics\n",
        "Y_pred = np.round(model.predict(X_test_std))\n",
        "Y_pred_thresh = model.predict_proba(X_test_std) >= 0.5\n",
        "print('Confusion matrix without the threshold')\n",
        "print(pd.DataFrame(metrics.confusion_matrix(Y_test_array, Y_pred, labels=[0 ,1]), index=['actual:Retain', 'actual:Exited'], columns=['predicted:Retain', 'predicted:Exited']))\n",
        "print(\"---------------------------------------------------\")\n",
        "\n",
        "print('Confusion matrix using >=0.5 as threshold')\n",
        "print(pd.DataFrame(metrics.confusion_matrix(Y_test_array, Y_pred_thresh, labels=[0 ,1]), index=['actual:Retain', 'actual:Exited'], columns=['predicted:Retain', 'predicted:Exited']))"
      ],
      "execution_count": 72,
      "outputs": [
        {
          "output_type": "stream",
          "text": [
            "Confusion matrix without the threshold\n",
            "               predicted:Retain  predicted:Exited\n",
            "actual:Retain              1518                75\n",
            "actual:Exited               204               203\n",
            "---------------------------------------------------\n",
            "Confusion matrix using >=0.5 as threshold\n",
            "               predicted:Retain  predicted:Exited\n",
            "actual:Retain              1518                75\n",
            "actual:Exited               204               203\n"
          ],
          "name": "stdout"
        }
      ]
    },
    {
      "cell_type": "code",
      "metadata": {
        "id": "RZyGS3TWsM1f",
        "colab_type": "code",
        "colab": {
          "base_uri": "https://localhost:8080/",
          "height": 170
        },
        "outputId": "e45fae05-4d2b-4760-bfd9-66f2c07a1bdc"
      },
      "source": [
        "print(metrics.classification_report(Y_test_array, Y_pred))"
      ],
      "execution_count": 76,
      "outputs": [
        {
          "output_type": "stream",
          "text": [
            "              precision    recall  f1-score   support\n",
            "\n",
            "           0       0.88      0.95      0.92      1593\n",
            "           1       0.73      0.50      0.59       407\n",
            "\n",
            "    accuracy                           0.86      2000\n",
            "   macro avg       0.81      0.73      0.75      2000\n",
            "weighted avg       0.85      0.86      0.85      2000\n",
            "\n"
          ],
          "name": "stdout"
        }
      ]
    },
    {
      "cell_type": "code",
      "metadata": {
        "id": "PDYuqj8vcybQ",
        "colab_type": "code",
        "colab": {}
      },
      "source": [
        "## Inference :-\n",
        "# There is no change in the accuracy or recall between the threshold values and one without threshold. Different combination of hyper parametrs were \n",
        "# tried to finally reach to the above accuracy .  The accuracy for this model is 86% approximately.\n",
        "# Moreover the recall and precision is also not good for customers who exited. Precision and recall is good for customers who still continue to be\n",
        "# associated with the bank."
      ],
      "execution_count": 0,
      "outputs": []
    },
    {
      "cell_type": "code",
      "metadata": {
        "id": "bxaA4QBnV4lR",
        "colab_type": "code",
        "colab": {}
      },
      "source": [
        ""
      ],
      "execution_count": 0,
      "outputs": []
    },
    {
      "cell_type": "code",
      "metadata": {
        "id": "5eYJm-TlV4ht",
        "colab_type": "code",
        "colab": {}
      },
      "source": [
        ""
      ],
      "execution_count": 0,
      "outputs": []
    },
    {
      "cell_type": "code",
      "metadata": {
        "id": "iBqi3Hprw4Pb",
        "colab_type": "code",
        "colab": {}
      },
      "source": [
        ""
      ],
      "execution_count": 0,
      "outputs": []
    },
    {
      "cell_type": "code",
      "metadata": {
        "id": "085jOKxVw3Uv",
        "colab_type": "code",
        "colab": {}
      },
      "source": [
        ""
      ],
      "execution_count": 0,
      "outputs": []
    },
    {
      "cell_type": "code",
      "metadata": {
        "id": "i1dOeRUUw3Pb",
        "colab_type": "code",
        "colab": {}
      },
      "source": [
        ""
      ],
      "execution_count": 0,
      "outputs": []
    },
    {
      "cell_type": "code",
      "metadata": {
        "id": "0ttZoMWpw3Jn",
        "colab_type": "code",
        "colab": {}
      },
      "source": [
        ""
      ],
      "execution_count": 0,
      "outputs": []
    }
  ]
}