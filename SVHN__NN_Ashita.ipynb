{
  "nbformat": 4,
  "nbformat_minor": 0,
  "metadata": {
    "colab": {
      "name": "SVHN _NN_Ashita.ipynb",
      "provenance": []
    },
    "kernelspec": {
      "name": "python3",
      "display_name": "Python 3"
    }
  },
  "cells": [
    {
      "cell_type": "code",
      "metadata": {
        "id": "zhQclDXX6Smr",
        "colab_type": "code",
        "outputId": "6dcb1f36-976b-4985-aef8-74d0f9866530",
        "colab": {
          "base_uri": "https://localhost:8080/",
          "height": 1000
        }
      },
      "source": [
        "!pip install tensorflow==2.0"
      ],
      "execution_count": 4,
      "outputs": [
        {
          "output_type": "stream",
          "text": [
            "Collecting tensorflow==2.0\n",
            "\u001b[?25l  Downloading https://files.pythonhosted.org/packages/46/0f/7bd55361168bb32796b360ad15a25de6966c9c1beb58a8e30c01c8279862/tensorflow-2.0.0-cp36-cp36m-manylinux2010_x86_64.whl (86.3MB)\n",
            "\u001b[K     |████████████████████████████████| 86.3MB 47kB/s \n",
            "\u001b[?25hRequirement already satisfied: termcolor>=1.1.0 in /usr/local/lib/python3.6/dist-packages (from tensorflow==2.0) (1.1.0)\n",
            "Requirement already satisfied: wrapt>=1.11.1 in /usr/local/lib/python3.6/dist-packages (from tensorflow==2.0) (1.12.1)\n",
            "Requirement already satisfied: numpy<2.0,>=1.16.0 in /usr/local/lib/python3.6/dist-packages (from tensorflow==2.0) (1.18.2)\n",
            "Requirement already satisfied: grpcio>=1.8.6 in /usr/local/lib/python3.6/dist-packages (from tensorflow==2.0) (1.24.3)\n",
            "Requirement already satisfied: wheel>=0.26 in /usr/local/lib/python3.6/dist-packages (from tensorflow==2.0) (0.34.2)\n",
            "Requirement already satisfied: protobuf>=3.6.1 in /usr/local/lib/python3.6/dist-packages (from tensorflow==2.0) (3.10.0)\n",
            "Requirement already satisfied: keras-applications>=1.0.8 in /usr/local/lib/python3.6/dist-packages (from tensorflow==2.0) (1.0.8)\n",
            "Requirement already satisfied: astor>=0.6.0 in /usr/local/lib/python3.6/dist-packages (from tensorflow==2.0) (0.8.1)\n",
            "Collecting tensorboard<2.1.0,>=2.0.0\n",
            "\u001b[?25l  Downloading https://files.pythonhosted.org/packages/76/54/99b9d5d52d5cb732f099baaaf7740403e83fe6b0cedde940fabd2b13d75a/tensorboard-2.0.2-py3-none-any.whl (3.8MB)\n",
            "\u001b[K     |████████████████████████████████| 3.8MB 48.4MB/s \n",
            "\u001b[?25hRequirement already satisfied: keras-preprocessing>=1.0.5 in /usr/local/lib/python3.6/dist-packages (from tensorflow==2.0) (1.1.0)\n",
            "Requirement already satisfied: absl-py>=0.7.0 in /usr/local/lib/python3.6/dist-packages (from tensorflow==2.0) (0.9.0)\n",
            "Collecting tensorflow-estimator<2.1.0,>=2.0.0\n",
            "\u001b[?25l  Downloading https://files.pythonhosted.org/packages/fc/08/8b927337b7019c374719145d1dceba21a8bb909b93b1ad6f8fb7d22c1ca1/tensorflow_estimator-2.0.1-py2.py3-none-any.whl (449kB)\n",
            "\u001b[K     |████████████████████████████████| 450kB 45.8MB/s \n",
            "\u001b[?25hRequirement already satisfied: google-pasta>=0.1.6 in /usr/local/lib/python3.6/dist-packages (from tensorflow==2.0) (0.2.0)\n",
            "Requirement already satisfied: gast==0.2.2 in /usr/local/lib/python3.6/dist-packages (from tensorflow==2.0) (0.2.2)\n",
            "Requirement already satisfied: opt-einsum>=2.3.2 in /usr/local/lib/python3.6/dist-packages (from tensorflow==2.0) (3.2.0)\n",
            "Requirement already satisfied: six>=1.10.0 in /usr/local/lib/python3.6/dist-packages (from tensorflow==2.0) (1.12.0)\n",
            "Requirement already satisfied: setuptools in /usr/local/lib/python3.6/dist-packages (from protobuf>=3.6.1->tensorflow==2.0) (46.0.0)\n",
            "Requirement already satisfied: h5py in /usr/local/lib/python3.6/dist-packages (from keras-applications>=1.0.8->tensorflow==2.0) (2.8.0)\n",
            "Requirement already satisfied: google-auth<2,>=1.6.3 in /usr/local/lib/python3.6/dist-packages (from tensorboard<2.1.0,>=2.0.0->tensorflow==2.0) (1.7.2)\n",
            "Requirement already satisfied: google-auth-oauthlib<0.5,>=0.4.1 in /usr/local/lib/python3.6/dist-packages (from tensorboard<2.1.0,>=2.0.0->tensorflow==2.0) (0.4.1)\n",
            "Requirement already satisfied: requests<3,>=2.21.0 in /usr/local/lib/python3.6/dist-packages (from tensorboard<2.1.0,>=2.0.0->tensorflow==2.0) (2.21.0)\n",
            "Requirement already satisfied: werkzeug>=0.11.15 in /usr/local/lib/python3.6/dist-packages (from tensorboard<2.1.0,>=2.0.0->tensorflow==2.0) (1.0.0)\n",
            "Requirement already satisfied: markdown>=2.6.8 in /usr/local/lib/python3.6/dist-packages (from tensorboard<2.1.0,>=2.0.0->tensorflow==2.0) (3.2.1)\n",
            "Requirement already satisfied: rsa<4.1,>=3.1.4 in /usr/local/lib/python3.6/dist-packages (from google-auth<2,>=1.6.3->tensorboard<2.1.0,>=2.0.0->tensorflow==2.0) (4.0)\n",
            "Requirement already satisfied: pyasn1-modules>=0.2.1 in /usr/local/lib/python3.6/dist-packages (from google-auth<2,>=1.6.3->tensorboard<2.1.0,>=2.0.0->tensorflow==2.0) (0.2.8)\n",
            "Requirement already satisfied: cachetools<3.2,>=2.0.0 in /usr/local/lib/python3.6/dist-packages (from google-auth<2,>=1.6.3->tensorboard<2.1.0,>=2.0.0->tensorflow==2.0) (3.1.1)\n",
            "Requirement already satisfied: requests-oauthlib>=0.7.0 in /usr/local/lib/python3.6/dist-packages (from google-auth-oauthlib<0.5,>=0.4.1->tensorboard<2.1.0,>=2.0.0->tensorflow==2.0) (1.3.0)\n",
            "Requirement already satisfied: certifi>=2017.4.17 in /usr/local/lib/python3.6/dist-packages (from requests<3,>=2.21.0->tensorboard<2.1.0,>=2.0.0->tensorflow==2.0) (2019.11.28)\n",
            "Requirement already satisfied: chardet<3.1.0,>=3.0.2 in /usr/local/lib/python3.6/dist-packages (from requests<3,>=2.21.0->tensorboard<2.1.0,>=2.0.0->tensorflow==2.0) (3.0.4)\n",
            "Requirement already satisfied: urllib3<1.25,>=1.21.1 in /usr/local/lib/python3.6/dist-packages (from requests<3,>=2.21.0->tensorboard<2.1.0,>=2.0.0->tensorflow==2.0) (1.24.3)\n",
            "Requirement already satisfied: idna<2.9,>=2.5 in /usr/local/lib/python3.6/dist-packages (from requests<3,>=2.21.0->tensorboard<2.1.0,>=2.0.0->tensorflow==2.0) (2.8)\n",
            "Requirement already satisfied: pyasn1>=0.1.3 in /usr/local/lib/python3.6/dist-packages (from rsa<4.1,>=3.1.4->google-auth<2,>=1.6.3->tensorboard<2.1.0,>=2.0.0->tensorflow==2.0) (0.4.8)\n",
            "Requirement already satisfied: oauthlib>=3.0.0 in /usr/local/lib/python3.6/dist-packages (from requests-oauthlib>=0.7.0->google-auth-oauthlib<0.5,>=0.4.1->tensorboard<2.1.0,>=2.0.0->tensorflow==2.0) (3.1.0)\n",
            "\u001b[31mERROR: tensorflow-federated 0.12.0 has requirement tensorflow~=2.1.0, but you'll have tensorflow 2.0.0 which is incompatible.\u001b[0m\n",
            "\u001b[31mERROR: tensorflow-federated 0.12.0 has requirement tensorflow-addons~=0.7.0, but you'll have tensorflow-addons 0.8.3 which is incompatible.\u001b[0m\n",
            "Installing collected packages: tensorboard, tensorflow-estimator, tensorflow\n",
            "  Found existing installation: tensorboard 1.15.0\n",
            "    Uninstalling tensorboard-1.15.0:\n",
            "      Successfully uninstalled tensorboard-1.15.0\n",
            "  Found existing installation: tensorflow-estimator 1.15.1\n",
            "    Uninstalling tensorflow-estimator-1.15.1:\n",
            "      Successfully uninstalled tensorflow-estimator-1.15.1\n",
            "  Found existing installation: tensorflow 1.15.0\n",
            "    Uninstalling tensorflow-1.15.0:\n",
            "      Successfully uninstalled tensorflow-1.15.0\n",
            "Successfully installed tensorboard-2.1.1 tensorflow-2.1.0 tensorflow-estimator-2.1.0\n"
          ],
          "name": "stdout"
        },
        {
          "output_type": "display_data",
          "data": {
            "application/vnd.colab-display-data+json": {
              "pip_warning": {
                "packages": [
                  "tensorboard",
                  "tensorflow",
                  "tensorflow_core",
                  "tensorflow_estimator"
                ]
              }
            }
          },
          "metadata": {
            "tags": []
          }
        }
      ]
    },
    {
      "cell_type": "code",
      "metadata": {
        "id": "aA6vBYKJ9fhv",
        "colab_type": "code",
        "outputId": "ec5077ae-4ac6-482e-e0a5-45c5a55ae62f",
        "colab": {
          "base_uri": "https://localhost:8080/",
          "height": 122
        }
      },
      "source": [
        "#Import the dataset from google drive\n",
        "from google.colab import drive\n",
        "drive.mount('/content/drive')"
      ],
      "execution_count": 1,
      "outputs": [
        {
          "output_type": "stream",
          "text": [
            "Go to this URL in a browser: https://accounts.google.com/o/oauth2/auth?client_id=947318989803-6bn6qk8qdgf4n4g3pfee6491hc0brc4i.apps.googleusercontent.com&redirect_uri=urn%3aietf%3awg%3aoauth%3a2.0%3aoob&response_type=code&scope=email%20https%3a%2f%2fwww.googleapis.com%2fauth%2fdocs.test%20https%3a%2f%2fwww.googleapis.com%2fauth%2fdrive%20https%3a%2f%2fwww.googleapis.com%2fauth%2fdrive.photos.readonly%20https%3a%2f%2fwww.googleapis.com%2fauth%2fpeopleapi.readonly\n",
            "\n",
            "Enter your authorization code:\n",
            "··········\n",
            "Mounted at /content/drive\n"
          ],
          "name": "stdout"
        }
      ]
    },
    {
      "cell_type": "code",
      "metadata": {
        "id": "D4joP-1f9gD6",
        "colab_type": "code",
        "colab": {}
      },
      "source": [
        "## Include necessary imports\n",
        "import numpy as np\n",
        "import pandas as pd\n",
        "import tensorflow as tf\n",
        "import h5py\n",
        "import matplotlib.pyplot as plt\n",
        "\n",
        "# Using Tensorflow Keras instead of the original Keras\n",
        "from tensorflow.keras import Sequential\n",
        "from tensorflow.keras.layers import Dense, Dropout"
      ],
      "execution_count": 0,
      "outputs": []
    },
    {
      "cell_type": "code",
      "metadata": {
        "id": "W5QFVvZH9gGh",
        "colab_type": "code",
        "outputId": "f3982945-f1fa-42c6-c1b2-7146c60bd3e3",
        "colab": {
          "base_uri": "https://localhost:8080/",
          "height": 34
        }
      },
      "source": [
        "print(tf.__version__)        # checking the tensorflow version"
      ],
      "execution_count": 3,
      "outputs": [
        {
          "output_type": "stream",
          "text": [
            "2.0.0\n"
          ],
          "name": "stdout"
        }
      ]
    },
    {
      "cell_type": "code",
      "metadata": {
        "id": "-H3a7MNs9gKZ",
        "colab_type": "code",
        "colab": {}
      },
      "source": [
        "f= h5py.File('/content/drive/My Drive/Colab Notebooks/SVHN_single_grey1-2.h5', 'r')  ## Opens the file in reading mode"
      ],
      "execution_count": 0,
      "outputs": []
    },
    {
      "cell_type": "code",
      "metadata": {
        "id": "6wsJdStP9gCB",
        "colab_type": "code",
        "outputId": "197964db-476c-4a20-eacd-2ad2e7fac35c",
        "colab": {
          "base_uri": "https://localhost:8080/",
          "height": 119
        }
      },
      "source": [
        "datasets=list(f.keys()) #Gets the names of the datasets in the file\n",
        "for n in datasets:        \n",
        "  print(n, f[n].shape)"
      ],
      "execution_count": 5,
      "outputs": [
        {
          "output_type": "stream",
          "text": [
            "X_test (18000, 32, 32)\n",
            "X_train (42000, 32, 32)\n",
            "X_val (60000, 32, 32)\n",
            "y_test (18000,)\n",
            "y_train (42000,)\n",
            "y_val (60000,)\n"
          ],
          "name": "stdout"
        }
      ]
    },
    {
      "cell_type": "code",
      "metadata": {
        "id": "H5uALO0E9gA9",
        "colab_type": "code",
        "colab": {}
      },
      "source": [
        "X_test = f['X_test']\n",
        "X_train = f['X_train']\n",
        "X_val = f['X_val']\n",
        "y_test = f['y_test']\n",
        "y_train = f['y_train']\n",
        "y_val = f['y_val']"
      ],
      "execution_count": 0,
      "outputs": []
    },
    {
      "cell_type": "code",
      "metadata": {
        "id": "AW5wHfOPQq73",
        "colab_type": "code",
        "colab": {}
      },
      "source": [
        "#f.close()"
      ],
      "execution_count": 0,
      "outputs": []
    },
    {
      "cell_type": "code",
      "metadata": {
        "id": "PZY0aJMCQq-4",
        "colab_type": "code",
        "outputId": "feb715c0-956d-4a2f-b274-3f83199e53bf",
        "colab": {
          "base_uri": "https://localhost:8080/",
          "height": 1000
        }
      },
      "source": [
        "# Plot / Visulaize some of the images in the training set\n",
        "\n",
        "for i in range(5):\n",
        "  plt.imshow(X_train[i],cmap='gray')\n",
        "  plt.show()\n",
        "  print(\"It recognises digit :\", y_train[i])"
      ],
      "execution_count": 8,
      "outputs": [
        {
          "output_type": "display_data",
          "data": {
            "image/png": "[encoded data removed]",
            "text/plain": [
              "<Figure size 432x288 with 1 Axes>"
            ]
          },
          "metadata": {
            "tags": []
          }
        },
        {
          "output_type": "stream",
          "text": [
            "It recognises digit : 2\n"
          ],
          "name": "stdout"
        },
        {
          "output_type": "display_data",
          "data": {
            "image/png": "[encoded data removed]",
            "text/plain": [
              "<Figure size 432x288 with 1 Axes>"
            ]
          },
          "metadata": {
            "tags": []
          }
        },
        {
          "output_type": "stream",
          "text": [
            "It recognises digit : 6\n"
          ],
          "name": "stdout"
        },
        {
          "output_type": "display_data",
          "data": {
            "image/png": "[encoded data removed]",
            "text/plain": [
              "<Figure size 432x288 with 1 Axes>"
            ]
          },
          "metadata": {
            "tags": []
          }
        },
        {
          "output_type": "stream",
          "text": [
            "It recognises digit : 7\n"
          ],
          "name": "stdout"
        },
        {
          "output_type": "display_data",
          "data": {
            "image/png": "[encoded data removed]",
            "text/plain": [
              "<Figure size 432x288 with 1 Axes>"
            ]
          },
          "metadata": {
            "tags": []
          }
        },
        {
          "output_type": "stream",
          "text": [
            "It recognises digit : 4\n"
          ],
          "name": "stdout"
        },
        {
          "output_type": "display_data",
          "data": {
            "image/png": "[encoded data removed]",
            "text/plain": [
              "<Figure size 432x288 with 1 Axes>"
            ]
          },
          "metadata": {
            "tags": []
          }
        },
        {
          "output_type": "stream",
          "text": [
            "It recognises digit : 4\n"
          ],
          "name": "stdout"
        }
      ]
    },
    {
      "cell_type": "code",
      "metadata": {
        "id": "YQNFI9bZQrMr",
        "colab_type": "code",
        "outputId": "33c2fc4d-59dd-4e04-c82c-4d96219203a8",
        "colab": {
          "base_uri": "https://localhost:8080/",
          "height": 323
        }
      },
      "source": [
        "fig, (ax1,ax2)= plt.subplots(1,2, sharex=True)\n",
        "plt.suptitle('Class Distribution', y=1.05, size=16)\n",
        "\n",
        "ax1.hist(y_train, color='g' ,bins=10)\n",
        "ax1.set_title(\"Training set\")\n",
        "ax1.set_xlim(1, 10)\n",
        "\n",
        "ax2.hist(y_test, color='r', bins=10)\n",
        "ax2.set_title(\"Test set\")\n",
        "\n",
        "fig.tight_layout()\n",
        "\n",
        "##No skews in the class data"
      ],
      "execution_count": 9,
      "outputs": [
        {
          "output_type": "display_data",
          "data": {
            "image/png": "[encoded data removed]",
            "text/plain": [
              "<Figure size 432x288 with 2 Axes>"
            ]
          },
          "metadata": {
            "tags": []
          }
        }
      ]
    },
    {
      "cell_type": "code",
      "metadata": {
        "id": "Saaw6d5jq5RP",
        "colab_type": "code",
        "outputId": "11219155-2d2f-44c8-db26-4bcf34c96358",
        "colab": {
          "base_uri": "https://localhost:8080/",
          "height": 34
        }
      },
      "source": [
        "X_train.shape"
      ],
      "execution_count": 10,
      "outputs": [
        {
          "output_type": "execute_result",
          "data": {
            "text/plain": [
              "(42000, 32, 32)"
            ]
          },
          "metadata": {
            "tags": []
          },
          "execution_count": 10
        }
      ]
    },
    {
      "cell_type": "code",
      "metadata": {
        "id": "2bmblXXheAnC",
        "colab_type": "code",
        "colab": {}
      },
      "source": [
        "# Scale the data\n",
        "\n",
        "# Calculate the mean on the training data\n",
        "train_mean = np.mean(X_train, axis=0)\n",
        "\n",
        "# Calculate the std on the training data\n",
        "train_std = np.std(X_train, axis=0)\n",
        "\n",
        "# Subtract it equally from all splits\n",
        "X_train = (X_train - train_mean) / train_std\n",
        "X_test = (X_test - train_mean)  / train_std\n",
        "X_val = (X_val - train_mean) / train_std\n"
      ],
      "execution_count": 0,
      "outputs": []
    },
    {
      "cell_type": "code",
      "metadata": {
        "id": "JWJa01UzeAqJ",
        "colab_type": "code",
        "outputId": "e36406dd-9964-4ed3-b471-1e6a34823ce2",
        "colab": {
          "base_uri": "https://localhost:8080/",
          "height": 119
        }
      },
      "source": [
        "datasets=list(f.keys()) #Gets the names of the datasets in the file\n",
        "for n in datasets:        \n",
        "  print(n, f[n].shape)"
      ],
      "execution_count": 12,
      "outputs": [
        {
          "output_type": "stream",
          "text": [
            "X_test (18000, 32, 32)\n",
            "X_train (42000, 32, 32)\n",
            "X_val (60000, 32, 32)\n",
            "y_test (18000,)\n",
            "y_train (42000,)\n",
            "y_val (60000,)\n"
          ],
          "name": "stdout"
        }
      ]
    },
    {
      "cell_type": "code",
      "metadata": {
        "id": "m47akwq-eAlA",
        "colab_type": "code",
        "outputId": "1bdf6c0f-6751-448a-8f0d-0a792f005091",
        "colab": {
          "base_uri": "https://localhost:8080/",
          "height": 34
        }
      },
      "source": [
        "print(np.unique(y_train))"
      ],
      "execution_count": 13,
      "outputs": [
        {
          "output_type": "stream",
          "text": [
            "[0 1 2 3 4 5 6 7 8 9]\n"
          ],
          "name": "stdout"
        }
      ]
    },
    {
      "cell_type": "code",
      "metadata": {
        "id": "mIpjG_m09qb7",
        "colab_type": "code",
        "colab": {}
      },
      "source": [
        ""
      ],
      "execution_count": 0,
      "outputs": []
    },
    {
      "cell_type": "code",
      "metadata": {
        "id": "MMBaXBBKQrO8",
        "colab_type": "code",
        "colab": {}
      },
      "source": [
        "from tensorflow import keras\n",
        "\n",
        "y_train = keras.utils.to_categorical(y_train, 10)\n",
        "y_test = keras.utils.to_categorical(y_test, 10)\n",
        "y_val = keras.utils.to_categorical(y_val, 10)"
      ],
      "execution_count": 0,
      "outputs": []
    },
    {
      "cell_type": "code",
      "metadata": {
        "id": "6aoKTyinQrRt",
        "colab_type": "code",
        "colab": {}
      },
      "source": [
        "#Initialize Sequential model\n",
        "model = tf.keras.models.Sequential()"
      ],
      "execution_count": 0,
      "outputs": []
    },
    {
      "cell_type": "code",
      "metadata": {
        "id": "ABaWa2QuQrVQ",
        "colab_type": "code",
        "colab": {}
      },
      "source": [
        "#Reshape data from 2D to 1D -> 32x32 to 1024\n",
        "model.add(tf.keras.layers.Reshape((1024,),input_shape=(32,32,)))\n"
      ],
      "execution_count": 0,
      "outputs": []
    },
    {
      "cell_type": "code",
      "metadata": {
        "id": "l4M9HBTU-kXY",
        "colab_type": "code",
        "colab": {}
      },
      "source": [
        "#Normalize the data\n",
        "\n",
        "model.add(tf.keras.layers.BatchNormalization()) # adding batch normalisation layer\n",
        "#Add hidden layers\n",
        "model.add(tf.keras.layers.Dense(200, activation='relu'))\n",
        "model.add(tf.keras.layers.BatchNormalization())\n",
        "model.add(tf.keras.layers.Dense(100, activation='relu'))\n",
        "model.add(tf.keras.layers.BatchNormalization())\n",
        "model.add(tf.keras.layers.Dense(80, activation='relu'))\n",
        "model.add(tf.keras.layers.BatchNormalization())\n",
        "model.add(tf.keras.layers.Dense(60, activation='relu'))\n",
        "model.add(tf.keras.layers.BatchNormalization())\n",
        "model.add(tf.keras.layers.Dense(30, activation='relu'))\n",
        "\n",
        "#Add OUTPUT layer\n",
        "model.add(tf.keras.layers.Dense(10, activation='softmax'))\n",
        "\n",
        "adam = keras.optimizers.Adam(learning_rate=0.001, beta_1=0.9, beta_2=0.999, amsgrad=False)"
      ],
      "execution_count": 0,
      "outputs": []
    },
    {
      "cell_type": "code",
      "metadata": {
        "id": "289kAsBH-kaT",
        "colab_type": "code",
        "colab": {}
      },
      "source": [
        "model.compile(loss='categorical_crossentropy',optimizer='adam',metrics=['accuracy'])\n",
        "\n",
        "epochs = 120\n",
        "batch_size =21000 "
      ],
      "execution_count": 0,
      "outputs": []
    },
    {
      "cell_type": "code",
      "metadata": {
        "id": "xEr1usJI-kdY",
        "colab_type": "code",
        "outputId": "e5ffda3c-95b0-46c5-84fc-4873346d387f",
        "colab": {
          "base_uri": "https://localhost:8080/",
          "height": 1000
        }
      },
      "source": [
        "history = model.fit(X_train,y_train,validation_data=(X_val,y_val),epochs=epochs,batch_size=batch_size) #predicting accuracy on validation data\n",
        "loss,accuracy  = model.evaluate(X_val, y_val, verbose=False)"
      ],
      "execution_count": 36,
      "outputs": [
        {
          "output_type": "stream",
          "text": [
            "Train on 42000 samples, validate on 60000 samples\n",
            "Epoch 1/120\n",
            "42000/42000 [==============================] - 4s 101us/sample - loss: 2.5223 - accuracy: 0.1231 - val_loss: 2.3307 - val_accuracy: 0.1133\n",
            "Epoch 2/120\n",
            "42000/42000 [==============================] - 3s 65us/sample - loss: 2.2732 - accuracy: 0.1860 - val_loss: 2.3165 - val_accuracy: 0.1299\n",
            "Epoch 3/120\n",
            "42000/42000 [==============================] - 3s 66us/sample - loss: 2.1353 - accuracy: 0.2378 - val_loss: 2.2901 - val_accuracy: 0.1510\n",
            "Epoch 4/120\n",
            "42000/42000 [==============================] - 3s 66us/sample - loss: 2.0237 - accuracy: 0.2881 - val_loss: 2.2610 - val_accuracy: 0.1724\n",
            "Epoch 5/120\n",
            "42000/42000 [==============================] - 3s 65us/sample - loss: 1.9271 - accuracy: 0.3343 - val_loss: 2.2302 - val_accuracy: 0.1989\n",
            "Epoch 6/120\n",
            "42000/42000 [==============================] - 3s 65us/sample - loss: 1.8387 - accuracy: 0.3785 - val_loss: 2.1934 - val_accuracy: 0.2348\n",
            "Epoch 7/120\n",
            "42000/42000 [==============================] - 3s 65us/sample - loss: 1.7558 - accuracy: 0.4202 - val_loss: 2.1533 - val_accuracy: 0.2755\n",
            "Epoch 8/120\n",
            "42000/42000 [==============================] - 3s 66us/sample - loss: 1.6765 - accuracy: 0.4583 - val_loss: 2.1158 - val_accuracy: 0.3098\n",
            "Epoch 9/120\n",
            "42000/42000 [==============================] - 3s 65us/sample - loss: 1.6015 - accuracy: 0.4945 - val_loss: 2.0740 - val_accuracy: 0.3503\n",
            "Epoch 10/120\n",
            "42000/42000 [==============================] - 3s 65us/sample - loss: 1.5296 - accuracy: 0.5281 - val_loss: 2.0321 - val_accuracy: 0.3853\n",
            "Epoch 11/120\n",
            "42000/42000 [==============================] - 3s 65us/sample - loss: 1.4590 - accuracy: 0.5592 - val_loss: 1.9905 - val_accuracy: 0.4205\n",
            "Epoch 12/120\n",
            "42000/42000 [==============================] - 3s 65us/sample - loss: 1.3913 - accuracy: 0.5855 - val_loss: 1.9447 - val_accuracy: 0.4555\n",
            "Epoch 13/120\n",
            "42000/42000 [==============================] - 3s 65us/sample - loss: 1.3274 - accuracy: 0.6124 - val_loss: 1.9074 - val_accuracy: 0.4803\n",
            "Epoch 14/120\n",
            "42000/42000 [==============================] - 3s 65us/sample - loss: 1.2647 - accuracy: 0.6359 - val_loss: 1.8641 - val_accuracy: 0.5056\n",
            "Epoch 15/120\n",
            "42000/42000 [==============================] - 3s 65us/sample - loss: 1.2071 - accuracy: 0.6551 - val_loss: 1.8268 - val_accuracy: 0.5325\n",
            "Epoch 16/120\n",
            "42000/42000 [==============================] - 3s 65us/sample - loss: 1.1534 - accuracy: 0.6721 - val_loss: 1.7922 - val_accuracy: 0.5501\n",
            "Epoch 17/120\n",
            "42000/42000 [==============================] - 3s 65us/sample - loss: 1.1054 - accuracy: 0.6870 - val_loss: 1.7598 - val_accuracy: 0.5671\n",
            "Epoch 18/120\n",
            "42000/42000 [==============================] - 3s 65us/sample - loss: 1.0638 - accuracy: 0.6975 - val_loss: 1.7208 - val_accuracy: 0.5847\n",
            "Epoch 19/120\n",
            "42000/42000 [==============================] - 3s 65us/sample - loss: 1.0237 - accuracy: 0.7075 - val_loss: 1.6926 - val_accuracy: 0.5988\n",
            "Epoch 20/120\n",
            "42000/42000 [==============================] - 3s 65us/sample - loss: 0.9845 - accuracy: 0.7164 - val_loss: 1.6523 - val_accuracy: 0.6233\n",
            "Epoch 21/120\n",
            "42000/42000 [==============================] - 3s 65us/sample - loss: 0.9530 - accuracy: 0.7234 - val_loss: 1.6220 - val_accuracy: 0.6280\n",
            "Epoch 22/120\n",
            "42000/42000 [==============================] - 3s 65us/sample - loss: 0.9185 - accuracy: 0.7322 - val_loss: 1.5929 - val_accuracy: 0.6375\n",
            "Epoch 23/120\n",
            "42000/42000 [==============================] - 3s 65us/sample - loss: 0.8886 - accuracy: 0.7392 - val_loss: 1.5594 - val_accuracy: 0.6519\n",
            "Epoch 24/120\n",
            "42000/42000 [==============================] - 3s 65us/sample - loss: 0.8619 - accuracy: 0.7467 - val_loss: 1.5300 - val_accuracy: 0.6562\n",
            "Epoch 25/120\n",
            "42000/42000 [==============================] - 3s 65us/sample - loss: 0.8343 - accuracy: 0.7531 - val_loss: 1.4989 - val_accuracy: 0.6609\n",
            "Epoch 26/120\n",
            "42000/42000 [==============================] - 3s 65us/sample - loss: 0.8233 - accuracy: 0.7553 - val_loss: 1.4629 - val_accuracy: 0.6789\n",
            "Epoch 27/120\n",
            "42000/42000 [==============================] - 3s 65us/sample - loss: 0.7889 - accuracy: 0.7646 - val_loss: 1.4444 - val_accuracy: 0.6763\n",
            "Epoch 28/120\n",
            "42000/42000 [==============================] - 3s 65us/sample - loss: 0.7793 - accuracy: 0.7657 - val_loss: 1.4134 - val_accuracy: 0.6834\n",
            "Epoch 29/120\n",
            "42000/42000 [==============================] - 3s 65us/sample - loss: 0.7661 - accuracy: 0.7687 - val_loss: 1.3825 - val_accuracy: 0.6909\n",
            "Epoch 30/120\n",
            "42000/42000 [==============================] - 3s 65us/sample - loss: 0.7361 - accuracy: 0.7778 - val_loss: 1.3530 - val_accuracy: 0.7013\n",
            "Epoch 31/120\n",
            "42000/42000 [==============================] - 3s 65us/sample - loss: 0.7165 - accuracy: 0.7837 - val_loss: 1.3235 - val_accuracy: 0.7066\n",
            "Epoch 32/120\n",
            "42000/42000 [==============================] - 3s 65us/sample - loss: 0.6980 - accuracy: 0.7890 - val_loss: 1.2932 - val_accuracy: 0.7123\n",
            "Epoch 33/120\n",
            "42000/42000 [==============================] - 3s 65us/sample - loss: 0.6806 - accuracy: 0.7938 - val_loss: 1.2663 - val_accuracy: 0.7140\n",
            "Epoch 34/120\n",
            "42000/42000 [==============================] - 3s 65us/sample - loss: 0.6755 - accuracy: 0.7957 - val_loss: 1.2488 - val_accuracy: 0.7177\n",
            "Epoch 35/120\n",
            "42000/42000 [==============================] - 3s 65us/sample - loss: 0.6627 - accuracy: 0.7980 - val_loss: 1.2250 - val_accuracy: 0.7242\n",
            "Epoch 36/120\n",
            "42000/42000 [==============================] - 3s 65us/sample - loss: 0.6581 - accuracy: 0.8001 - val_loss: 1.1969 - val_accuracy: 0.7275\n",
            "Epoch 37/120\n",
            "42000/42000 [==============================] - 3s 65us/sample - loss: 0.6369 - accuracy: 0.8064 - val_loss: 1.1715 - val_accuracy: 0.7343\n",
            "Epoch 38/120\n",
            "42000/42000 [==============================] - 3s 65us/sample - loss: 0.6238 - accuracy: 0.8100 - val_loss: 1.1441 - val_accuracy: 0.7412\n",
            "Epoch 39/120\n",
            "42000/42000 [==============================] - 3s 65us/sample - loss: 0.6080 - accuracy: 0.8149 - val_loss: 1.1143 - val_accuracy: 0.7477\n",
            "Epoch 40/120\n",
            "42000/42000 [==============================] - 3s 65us/sample - loss: 0.6011 - accuracy: 0.8166 - val_loss: 1.0938 - val_accuracy: 0.7504\n",
            "Epoch 41/120\n",
            "42000/42000 [==============================] - 3s 65us/sample - loss: 0.5940 - accuracy: 0.8190 - val_loss: 1.0662 - val_accuracy: 0.7575\n",
            "Epoch 42/120\n",
            "42000/42000 [==============================] - 3s 65us/sample - loss: 0.5741 - accuracy: 0.8249 - val_loss: 1.0542 - val_accuracy: 0.7582\n",
            "Epoch 43/120\n",
            "42000/42000 [==============================] - 3s 65us/sample - loss: 0.5736 - accuracy: 0.8251 - val_loss: 1.0327 - val_accuracy: 0.7601\n",
            "Epoch 44/120\n",
            "42000/42000 [==============================] - 3s 65us/sample - loss: 0.5648 - accuracy: 0.8270 - val_loss: 1.0178 - val_accuracy: 0.7610\n",
            "Epoch 45/120\n",
            "42000/42000 [==============================] - 3s 65us/sample - loss: 0.5497 - accuracy: 0.8308 - val_loss: 0.9893 - val_accuracy: 0.7699\n",
            "Epoch 46/120\n",
            "42000/42000 [==============================] - 3s 65us/sample - loss: 0.5415 - accuracy: 0.8341 - val_loss: 0.9669 - val_accuracy: 0.7751\n",
            "Epoch 47/120\n",
            "42000/42000 [==============================] - 3s 65us/sample - loss: 0.5236 - accuracy: 0.8413 - val_loss: 0.9590 - val_accuracy: 0.7732\n",
            "Epoch 48/120\n",
            "42000/42000 [==============================] - 3s 65us/sample - loss: 0.5154 - accuracy: 0.8426 - val_loss: 0.9224 - val_accuracy: 0.7852\n",
            "Epoch 49/120\n",
            "42000/42000 [==============================] - 3s 65us/sample - loss: 0.5093 - accuracy: 0.8445 - val_loss: 0.9096 - val_accuracy: 0.7851\n",
            "Epoch 50/120\n",
            "42000/42000 [==============================] - 3s 66us/sample - loss: 0.5010 - accuracy: 0.8461 - val_loss: 0.8891 - val_accuracy: 0.7915\n",
            "Epoch 51/120\n",
            "42000/42000 [==============================] - 3s 65us/sample - loss: 0.4907 - accuracy: 0.8505 - val_loss: 0.8783 - val_accuracy: 0.7914\n",
            "Epoch 52/120\n",
            "42000/42000 [==============================] - 3s 66us/sample - loss: 0.4838 - accuracy: 0.8533 - val_loss: 0.8715 - val_accuracy: 0.7871\n",
            "Epoch 53/120\n",
            "42000/42000 [==============================] - 3s 65us/sample - loss: 0.4863 - accuracy: 0.8514 - val_loss: 0.8419 - val_accuracy: 0.7981\n",
            "Epoch 54/120\n",
            "42000/42000 [==============================] - 3s 65us/sample - loss: 0.4644 - accuracy: 0.8591 - val_loss: 0.8215 - val_accuracy: 0.8020\n",
            "Epoch 55/120\n",
            "42000/42000 [==============================] - 3s 65us/sample - loss: 0.4653 - accuracy: 0.8570 - val_loss: 0.8076 - val_accuracy: 0.8048\n",
            "Epoch 56/120\n",
            "42000/42000 [==============================] - 3s 65us/sample - loss: 0.4517 - accuracy: 0.8628 - val_loss: 0.8084 - val_accuracy: 0.7993\n",
            "Epoch 57/120\n",
            "42000/42000 [==============================] - 3s 65us/sample - loss: 0.4696 - accuracy: 0.8546 - val_loss: 0.7931 - val_accuracy: 0.8032\n",
            "Epoch 58/120\n",
            "42000/42000 [==============================] - 3s 65us/sample - loss: 0.4521 - accuracy: 0.8609 - val_loss: 0.7727 - val_accuracy: 0.8052\n",
            "Epoch 59/120\n",
            "42000/42000 [==============================] - 3s 65us/sample - loss: 0.4393 - accuracy: 0.8659 - val_loss: 0.7597 - val_accuracy: 0.8091\n",
            "Epoch 60/120\n",
            "42000/42000 [==============================] - 3s 65us/sample - loss: 0.4337 - accuracy: 0.8683 - val_loss: 0.7351 - val_accuracy: 0.8186\n",
            "Epoch 61/120\n",
            "42000/42000 [==============================] - 3s 65us/sample - loss: 0.4234 - accuracy: 0.8714 - val_loss: 0.7275 - val_accuracy: 0.8191\n",
            "Epoch 62/120\n",
            "42000/42000 [==============================] - 3s 65us/sample - loss: 0.4189 - accuracy: 0.8731 - val_loss: 0.7189 - val_accuracy: 0.8197\n",
            "Epoch 63/120\n",
            "42000/42000 [==============================] - 3s 65us/sample - loss: 0.4070 - accuracy: 0.8771 - val_loss: 0.7100 - val_accuracy: 0.8202\n",
            "Epoch 64/120\n",
            "42000/42000 [==============================] - 3s 65us/sample - loss: 0.4014 - accuracy: 0.8785 - val_loss: 0.6855 - val_accuracy: 0.8273\n",
            "Epoch 65/120\n",
            "42000/42000 [==============================] - 3s 65us/sample - loss: 0.3915 - accuracy: 0.8827 - val_loss: 0.6776 - val_accuracy: 0.8291\n",
            "Epoch 66/120\n",
            "42000/42000 [==============================] - 3s 65us/sample - loss: 0.3971 - accuracy: 0.8786 - val_loss: 0.6675 - val_accuracy: 0.8317\n",
            "Epoch 67/120\n",
            "42000/42000 [==============================] - 3s 65us/sample - loss: 0.3910 - accuracy: 0.8809 - val_loss: 0.6692 - val_accuracy: 0.8273\n",
            "Epoch 68/120\n",
            "42000/42000 [==============================] - 3s 65us/sample - loss: 0.3895 - accuracy: 0.8814 - val_loss: 0.6591 - val_accuracy: 0.8293\n",
            "Epoch 69/120\n",
            "42000/42000 [==============================] - 3s 65us/sample - loss: 0.3751 - accuracy: 0.8878 - val_loss: 0.6319 - val_accuracy: 0.8390\n",
            "Epoch 70/120\n",
            "42000/42000 [==============================] - 3s 65us/sample - loss: 0.3662 - accuracy: 0.8906 - val_loss: 0.6289 - val_accuracy: 0.8374\n",
            "Epoch 71/120\n",
            "42000/42000 [==============================] - 3s 65us/sample - loss: 0.3695 - accuracy: 0.8890 - val_loss: 0.6376 - val_accuracy: 0.8319\n",
            "Epoch 72/120\n",
            "42000/42000 [==============================] - 3s 66us/sample - loss: 0.3755 - accuracy: 0.8861 - val_loss: 0.6343 - val_accuracy: 0.8307\n",
            "Epoch 73/120\n",
            "42000/42000 [==============================] - 3s 65us/sample - loss: 0.3581 - accuracy: 0.8924 - val_loss: 0.6058 - val_accuracy: 0.8407\n",
            "Epoch 74/120\n",
            "42000/42000 [==============================] - 3s 65us/sample - loss: 0.3607 - accuracy: 0.8919 - val_loss: 0.5936 - val_accuracy: 0.8448\n",
            "Epoch 75/120\n",
            "42000/42000 [==============================] - 3s 65us/sample - loss: 0.3425 - accuracy: 0.8971 - val_loss: 0.6036 - val_accuracy: 0.8380\n",
            "Epoch 76/120\n",
            "42000/42000 [==============================] - 3s 65us/sample - loss: 0.3463 - accuracy: 0.8966 - val_loss: 0.5889 - val_accuracy: 0.8400\n",
            "Epoch 77/120\n",
            "42000/42000 [==============================] - 3s 65us/sample - loss: 0.3457 - accuracy: 0.8973 - val_loss: 0.5995 - val_accuracy: 0.8357\n",
            "Epoch 78/120\n",
            "42000/42000 [==============================] - 3s 65us/sample - loss: 0.3578 - accuracy: 0.8908 - val_loss: 0.5832 - val_accuracy: 0.8418\n",
            "Epoch 79/120\n",
            "42000/42000 [==============================] - 3s 66us/sample - loss: 0.3379 - accuracy: 0.8991 - val_loss: 0.5669 - val_accuracy: 0.8480\n",
            "Epoch 80/120\n",
            "42000/42000 [==============================] - 3s 65us/sample - loss: 0.3304 - accuracy: 0.9012 - val_loss: 0.5452 - val_accuracy: 0.8552\n",
            "Epoch 81/120\n",
            "42000/42000 [==============================] - 3s 65us/sample - loss: 0.3200 - accuracy: 0.9058 - val_loss: 0.5481 - val_accuracy: 0.8519\n",
            "Epoch 82/120\n",
            "42000/42000 [==============================] - 3s 65us/sample - loss: 0.3186 - accuracy: 0.9069 - val_loss: 0.5310 - val_accuracy: 0.8583\n",
            "Epoch 83/120\n",
            "42000/42000 [==============================] - 3s 66us/sample - loss: 0.3063 - accuracy: 0.9117 - val_loss: 0.5302 - val_accuracy: 0.8577\n",
            "Epoch 84/120\n",
            "42000/42000 [==============================] - 3s 65us/sample - loss: 0.3007 - accuracy: 0.9133 - val_loss: 0.5257 - val_accuracy: 0.8574\n",
            "Epoch 85/120\n",
            "42000/42000 [==============================] - 3s 65us/sample - loss: 0.2913 - accuracy: 0.9172 - val_loss: 0.5202 - val_accuracy: 0.8594\n",
            "Epoch 86/120\n",
            "42000/42000 [==============================] - 3s 66us/sample - loss: 0.2890 - accuracy: 0.9158 - val_loss: 0.5175 - val_accuracy: 0.8595\n",
            "Epoch 87/120\n",
            "42000/42000 [==============================] - 3s 65us/sample - loss: 0.2873 - accuracy: 0.9176 - val_loss: 0.5127 - val_accuracy: 0.8590\n",
            "Epoch 88/120\n",
            "42000/42000 [==============================] - 3s 66us/sample - loss: 0.2993 - accuracy: 0.9127 - val_loss: 0.5362 - val_accuracy: 0.8489\n",
            "Epoch 89/120\n",
            "42000/42000 [==============================] - 3s 65us/sample - loss: 0.2982 - accuracy: 0.9124 - val_loss: 0.4954 - val_accuracy: 0.8649\n",
            "Epoch 90/120\n",
            "42000/42000 [==============================] - 3s 65us/sample - loss: 0.2785 - accuracy: 0.9208 - val_loss: 0.5099 - val_accuracy: 0.8579\n",
            "Epoch 91/120\n",
            "42000/42000 [==============================] - 3s 65us/sample - loss: 0.2799 - accuracy: 0.9202 - val_loss: 0.5182 - val_accuracy: 0.8532\n",
            "Epoch 92/120\n",
            "42000/42000 [==============================] - 3s 65us/sample - loss: 0.2820 - accuracy: 0.9187 - val_loss: 0.5014 - val_accuracy: 0.8598\n",
            "Epoch 93/120\n",
            "42000/42000 [==============================] - 3s 65us/sample - loss: 0.2694 - accuracy: 0.9225 - val_loss: 0.4862 - val_accuracy: 0.8655\n",
            "Epoch 94/120\n",
            "42000/42000 [==============================] - 3s 66us/sample - loss: 0.2620 - accuracy: 0.9261 - val_loss: 0.4835 - val_accuracy: 0.8650\n",
            "Epoch 95/120\n",
            "42000/42000 [==============================] - 3s 65us/sample - loss: 0.2545 - accuracy: 0.9286 - val_loss: 0.4830 - val_accuracy: 0.8646\n",
            "Epoch 96/120\n",
            "42000/42000 [==============================] - 3s 65us/sample - loss: 0.2598 - accuracy: 0.9266 - val_loss: 0.4746 - val_accuracy: 0.8679\n",
            "Epoch 97/120\n",
            "42000/42000 [==============================] - 3s 66us/sample - loss: 0.2513 - accuracy: 0.9285 - val_loss: 0.4642 - val_accuracy: 0.8705\n",
            "Epoch 98/120\n",
            "42000/42000 [==============================] - 3s 65us/sample - loss: 0.2439 - accuracy: 0.9321 - val_loss: 0.4664 - val_accuracy: 0.8688\n",
            "Epoch 99/120\n",
            "42000/42000 [==============================] - 3s 65us/sample - loss: 0.2437 - accuracy: 0.9319 - val_loss: 0.4480 - val_accuracy: 0.8772\n",
            "Epoch 100/120\n",
            "42000/42000 [==============================] - 3s 66us/sample - loss: 0.2297 - accuracy: 0.9372 - val_loss: 0.4528 - val_accuracy: 0.8749\n",
            "Epoch 101/120\n",
            "42000/42000 [==============================] - 3s 65us/sample - loss: 0.2334 - accuracy: 0.9359 - val_loss: 0.4653 - val_accuracy: 0.8687\n",
            "Epoch 102/120\n",
            "42000/42000 [==============================] - 3s 65us/sample - loss: 0.2292 - accuracy: 0.9372 - val_loss: 0.4472 - val_accuracy: 0.8750\n",
            "Epoch 103/120\n",
            "42000/42000 [==============================] - 3s 65us/sample - loss: 0.2271 - accuracy: 0.9375 - val_loss: 0.4472 - val_accuracy: 0.8730\n",
            "Epoch 104/120\n",
            "42000/42000 [==============================] - 3s 65us/sample - loss: 0.2222 - accuracy: 0.9404 - val_loss: 0.4461 - val_accuracy: 0.8753\n",
            "Epoch 105/120\n",
            "42000/42000 [==============================] - 3s 65us/sample - loss: 0.2312 - accuracy: 0.9353 - val_loss: 0.4426 - val_accuracy: 0.8764\n",
            "Epoch 106/120\n",
            "42000/42000 [==============================] - 3s 65us/sample - loss: 0.2177 - accuracy: 0.9402 - val_loss: 0.4525 - val_accuracy: 0.8700\n",
            "Epoch 107/120\n",
            "42000/42000 [==============================] - 3s 65us/sample - loss: 0.2217 - accuracy: 0.9383 - val_loss: 0.4400 - val_accuracy: 0.8748\n",
            "Epoch 108/120\n",
            "42000/42000 [==============================] - 3s 65us/sample - loss: 0.2193 - accuracy: 0.9395 - val_loss: 0.4478 - val_accuracy: 0.8728\n",
            "Epoch 109/120\n",
            "42000/42000 [==============================] - 3s 66us/sample - loss: 0.2209 - accuracy: 0.9398 - val_loss: 0.4454 - val_accuracy: 0.8717\n",
            "Epoch 110/120\n",
            "42000/42000 [==============================] - 3s 66us/sample - loss: 0.2245 - accuracy: 0.9363 - val_loss: 0.4287 - val_accuracy: 0.8790\n",
            "Epoch 111/120\n",
            "42000/42000 [==============================] - 3s 65us/sample - loss: 0.2134 - accuracy: 0.9420 - val_loss: 0.4272 - val_accuracy: 0.8788\n",
            "Epoch 112/120\n",
            "42000/42000 [==============================] - 3s 65us/sample - loss: 0.2093 - accuracy: 0.9421 - val_loss: 0.4235 - val_accuracy: 0.8787\n",
            "Epoch 113/120\n",
            "42000/42000 [==============================] - 3s 65us/sample - loss: 0.1989 - accuracy: 0.9465 - val_loss: 0.4367 - val_accuracy: 0.8751\n",
            "Epoch 114/120\n",
            "42000/42000 [==============================] - 3s 66us/sample - loss: 0.2026 - accuracy: 0.9443 - val_loss: 0.4197 - val_accuracy: 0.8822\n",
            "Epoch 115/120\n",
            "42000/42000 [==============================] - 3s 66us/sample - loss: 0.2130 - accuracy: 0.9410 - val_loss: 0.4390 - val_accuracy: 0.8729\n",
            "Epoch 116/120\n",
            "42000/42000 [==============================] - 3s 65us/sample - loss: 0.2104 - accuracy: 0.9412 - val_loss: 0.4233 - val_accuracy: 0.8798\n",
            "Epoch 117/120\n",
            "42000/42000 [==============================] - 3s 66us/sample - loss: 0.1954 - accuracy: 0.9463 - val_loss: 0.4312 - val_accuracy: 0.8755\n",
            "Epoch 118/120\n",
            "42000/42000 [==============================] - 3s 66us/sample - loss: 0.1951 - accuracy: 0.9470 - val_loss: 0.4165 - val_accuracy: 0.8819\n",
            "Epoch 119/120\n",
            "42000/42000 [==============================] - 3s 66us/sample - loss: 0.1940 - accuracy: 0.9469 - val_loss: 0.3970 - val_accuracy: 0.8896\n",
            "Epoch 120/120\n",
            "42000/42000 [==============================] - 3s 65us/sample - loss: 0.1819 - accuracy: 0.9518 - val_loss: 0.4313 - val_accuracy: 0.8751\n"
          ],
          "name": "stdout"
        }
      ]
    },
    {
      "cell_type": "code",
      "metadata": {
        "id": "nYI8Yl6yEFPY",
        "colab_type": "code",
        "colab": {
          "base_uri": "https://localhost:8080/",
          "height": 336
        },
        "outputId": "1d0d166d-d08e-458e-8d7e-95b0d9dbb816"
      },
      "source": [
        "print(history.history['val_accuracy'])\n",
        "\n",
        "print(history.history['accuracy'])\n",
        "\n",
        "ta = pd.DataFrame(history.history['accuracy'])\n",
        "va = pd.DataFrame(history.history['val_accuracy'])\n",
        "\n",
        "tva = pd.concat([ta,va] , axis=1)\n",
        "\n",
        "tva.boxplot()"
      ],
      "execution_count": 37,
      "outputs": [
        {
          "output_type": "stream",
          "text": [
            "[0.113283336, 0.1299, 0.15101667, 0.17243333, 0.19893333, 0.2348, 0.27548334, 0.30976668, 0.35031667, 0.38526666, 0.42045, 0.45551667, 0.48025, 0.50556666, 0.5325, 0.55015, 0.5671167, 0.5847333, 0.5988, 0.62333333, 0.62795, 0.63748336, 0.6519333, 0.6562, 0.6609167, 0.6789, 0.67628336, 0.68341666, 0.6909, 0.70125, 0.7066333, 0.7123, 0.71405, 0.7176833, 0.7241833, 0.72751665, 0.73425, 0.74123335, 0.74765, 0.7503667, 0.7575167, 0.75818336, 0.7601167, 0.76098335, 0.76995, 0.77508336, 0.77325, 0.7852, 0.7851167, 0.79155, 0.7913833, 0.78706664, 0.7980667, 0.80198336, 0.80475, 0.79933333, 0.8032167, 0.80521667, 0.8091, 0.8186, 0.81915, 0.8197, 0.82015, 0.8272833, 0.8291, 0.83168334, 0.8273, 0.8293333, 0.83898336, 0.83736664, 0.8319167, 0.83075, 0.84068334, 0.8448, 0.8380167, 0.83998334, 0.83568335, 0.8418, 0.8479667, 0.8552167, 0.85193336, 0.85835, 0.8577167, 0.8574167, 0.85936666, 0.8595167, 0.85903335, 0.84891665, 0.8649333, 0.85785, 0.85315, 0.85978335, 0.86548334, 0.86501664, 0.8646, 0.86791664, 0.87045, 0.86885, 0.8771667, 0.87486666, 0.86873335, 0.8750333, 0.87301666, 0.8753333, 0.8763833, 0.87, 0.87478334, 0.8728, 0.87166667, 0.8790333, 0.87876666, 0.8787, 0.87513334, 0.8821667, 0.87291664, 0.87978333, 0.87553334, 0.8818667, 0.88963336, 0.87511665]\n",
            "[0.12307143, 0.18597619, 0.2377619, 0.28809524, 0.3342619, 0.3785476, 0.4202143, 0.45833334, 0.49452382, 0.52814287, 0.55916667, 0.5854762, 0.61235714, 0.6359048, 0.65514284, 0.67207146, 0.687, 0.69752383, 0.7074762, 0.71638095, 0.72342855, 0.7322143, 0.7392381, 0.7467143, 0.7530952, 0.7552619, 0.76464283, 0.76566666, 0.7687381, 0.7778095, 0.7836667, 0.7889762, 0.79380953, 0.79571426, 0.79795235, 0.8001429, 0.80635715, 0.8100476, 0.8149286, 0.8166429, 0.819, 0.82490474, 0.825119, 0.827, 0.8307857, 0.834119, 0.84130955, 0.84261906, 0.8445476, 0.84611905, 0.8505238, 0.85328573, 0.85135716, 0.85914284, 0.857, 0.8627619, 0.85459524, 0.86090475, 0.8658571, 0.86826193, 0.87142855, 0.8730952, 0.87711906, 0.8784762, 0.8827143, 0.8786191, 0.88088095, 0.8814286, 0.88778573, 0.89059526, 0.8889762, 0.88611907, 0.8923572, 0.8918809, 0.89711905, 0.89657146, 0.89730954, 0.8907619, 0.899119, 0.90119046, 0.90578574, 0.90690476, 0.9116905, 0.91333336, 0.9171905, 0.9158095, 0.91759527, 0.9127381, 0.91238093, 0.9208095, 0.9202381, 0.91873807, 0.92254764, 0.9261429, 0.92859524, 0.92661905, 0.92852384, 0.93207145, 0.93185717, 0.9372381, 0.93588096, 0.9371905, 0.9375238, 0.94035715, 0.9353095, 0.9402143, 0.9382857, 0.9394762, 0.9398095, 0.9363095, 0.9419762, 0.94214284, 0.94647616, 0.94430953, 0.9409762, 0.94116664, 0.9462619, 0.9470238, 0.94688094, 0.9518333]\n"
          ],
          "name": "stdout"
        },
        {
          "output_type": "execute_result",
          "data": {
            "text/plain": [
              "<matplotlib.axes._subplots.AxesSubplot at 0x7f532c434208>"
            ]
          },
          "metadata": {
            "tags": []
          },
          "execution_count": 37
        },
        {
          "output_type": "display_data",
          "data": {
            "image/png": "[encoded data removed]",
            "text/plain": [
              "<Figure size 432x288 with 1 Axes>"
            ]
          },
          "metadata": {
            "tags": []
          }
        }
      ]
    },
    {
      "cell_type": "code",
      "metadata": {
        "id": "yVd8wUESFDy4",
        "colab_type": "code",
        "colab": {
          "base_uri": "https://localhost:8080/",
          "height": 295
        },
        "outputId": "a26ba57c-64ce-4231-944e-435a64e62600"
      },
      "source": [
        "plt.plot(history.history['accuracy'])\n",
        "plt.plot(history.history['val_accuracy'])\n",
        "plt.plot(history.history['loss'])\n",
        "plt.title('model accuracy')\n",
        "plt.ylabel('accuracy / loss')\n",
        "plt.xlabel('epoch')\n",
        "plt.legend(['training', 'validation'], loc='best')\n",
        "plt.show()"
      ],
      "execution_count": 38,
      "outputs": [
        {
          "output_type": "display_data",
          "data": {
            "image/png": "[encoded data removed]",
            "text/plain": [
              "<Figure size 432x288 with 1 Axes>"
            ]
          },
          "metadata": {
            "tags": []
          }
        }
      ]
    },
    {
      "cell_type": "code",
      "metadata": {
        "id": "ANaqtTN1FD3O",
        "colab_type": "code",
        "colab": {
          "base_uri": "https://localhost:8080/",
          "height": 68
        },
        "outputId": "fb036301-73c7-443c-f343-924197887dcb"
      },
      "source": [
        "loss, acc = model.evaluate(X_test,y_test, verbose=2)\n",
        "print('Accuracy: %.3f'  % acc)\n",
        "print('Loss: %.3f' % loss)"
      ],
      "execution_count": 39,
      "outputs": [
        {
          "output_type": "stream",
          "text": [
            "18000/1 - 1s - loss: 0.6478 - accuracy: 0.7817\n",
            "Accuracy: 0.782\n",
            "Loss: 0.741\n"
          ],
          "name": "stdout"
        }
      ]
    },
    {
      "cell_type": "code",
      "metadata": {
        "id": "r2U5kLhxFDwz",
        "colab_type": "code",
        "colab": {}
      },
      "source": [
        ""
      ],
      "execution_count": 0,
      "outputs": []
    }
  ]
}